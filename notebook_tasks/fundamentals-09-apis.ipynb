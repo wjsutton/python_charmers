{
 "cells": [
  {
   "cell_type": "markdown",
   "id": "f494e021-727d-49fd-9be9-7caef053cd33",
   "metadata": {},
   "source": [
    "# Python Charmers \n",
    "\n",
    "## Python Fundamentals Lesson 9: API Calls\n",
    "\n",
    "### Lesson Overview\n",
    "- **Objective:** To understand how to make API calls with Python to return data.\n",
    "- **Source materials:** [Skills Network](https://gist.github.com/HSM-Akiramenai/91d62688f501ca6447fdf16254ad721c)\n",
    "- **Prerequisites:** [Lesson 8 Loops](./fundamentals-08-loops.ipynb)\n",
    "- **Duration:** 45 mins\n",
    "\n",
    "APIs can be a great source of data, either as a starting point or to enrich an existing dataset. Here we'll look at three APIs:\n",
    "- RandomUser: A mock data API\n",
    "- FruitVice: An API containing details about fruit\n",
    "- Met Office: An API for UK Weather stations"
   ]
  },
  {
   "cell_type": "markdown",
   "id": "06fac205-4757-4f3e-8dc1-007fe1849999",
   "metadata": {},
   "source": [
    "# How to make an API Call in Python\n",
    "\n"
   ]
  },
  {
   "cell_type": "markdown",
   "id": "e749df7a-ffb0-456e-a1dc-5f5b20661e46",
   "metadata": {},
   "source": [
    "## 1. RandomUser API: Calling an API via a Python Package\n",
    "\n",
    "Some packages in python act as interfaces for APIs, so you"
   ]
  },
  {
   "cell_type": "code",
   "execution_count": 11,
   "id": "5e82a985-a8f7-4c60-bfac-6e2832cadad7",
   "metadata": {},
   "outputs": [
    {
     "name": "stdout",
     "output_type": "stream",
     "text": [
      "Eleah Flem\n",
      "female\n",
      "1987-07-13T05:06:32.202Z\n",
      " \n",
      "5805 Skogvollveien\n",
      "Tangen\n",
      "Vest-Agder\n",
      "1615\n"
     ]
    }
   ],
   "source": [
    "# Import python library\n",
    "from randomuser import RandomUser\n",
    "\n",
    "# load a random user object\n",
    "r = RandomUser()\n",
    "\n",
    "# Using \"Getter\" methods (i.e. get_ ...) we can obtain data from the API call results\n",
    "print(r.get_full_name())\n",
    "print(r.get_gender())\n",
    "print(r.get_dob())\n",
    "\n",
    "print(\" \")\n",
    "print(r.get_street())\n",
    "print(r.get_city())\n",
    "print(r.get_state())\n",
    "print(r.get_zipcode())"
   ]
  },
  {
   "cell_type": "code",
   "execution_count": 13,
   "id": "d76ef886-6dd4-45b5-a2b1-7b52d3a35151",
   "metadata": {},
   "outputs": [
    {
     "name": "stdout",
     "output_type": "stream",
     "text": [
      "[<randomuser.RandomUser object at 0x7f84d8283130>, <randomuser.RandomUser object at 0x7f84d8280bb0>, <randomuser.RandomUser object at 0x7f84d8282b00>, <randomuser.RandomUser object at 0x7f84d8281660>, <randomuser.RandomUser object at 0x7f84d8282f20>, <randomuser.RandomUser object at 0x7f84d8280c10>, <randomuser.RandomUser object at 0x7f84d82806a0>, <randomuser.RandomUser object at 0x7f84d8395210>, <randomuser.RandomUser object at 0x7f84d8394880>, <randomuser.RandomUser object at 0x7f84d8250430>]\n"
     ]
    }
   ],
   "source": [
    "# Using generate_users() function, we get a list of random 10 users.\n",
    "\n",
    "# load a random user object\n",
    "r = RandomUser()\n",
    "\n",
    "# produces a lists of random user objects\n",
    "list_of_users = r.generate_users(10)\n",
    "print(list_of_users)"
   ]
  },
  {
   "cell_type": "code",
   "execution_count": 14,
   "id": "f2633d01-6e43-4255-a687-e9a489d7e4f8",
   "metadata": {},
   "outputs": [
    {
     "ename": "AttributeError",
     "evalue": "'list' object has no attribute 'get_full_name'",
     "output_type": "error",
     "traceback": [
      "\u001b[0;31m---------------------------------------------------------------------------\u001b[0m",
      "\u001b[0;31mAttributeError\u001b[0m                            Traceback (most recent call last)",
      "Cell \u001b[0;32mIn[14], line 1\u001b[0m\n\u001b[0;32m----> 1\u001b[0m names \u001b[38;5;241m=\u001b[39m \u001b[43mlist_of_users\u001b[49m\u001b[38;5;241;43m.\u001b[39;49m\u001b[43mget_full_name\u001b[49m()\n",
      "\u001b[0;31mAttributeError\u001b[0m: 'list' object has no attribute 'get_full_name'"
     ]
    }
   ],
   "source": [
    "# However we can't apply a \"Getter\" method to a list\n",
    "names = list_of_users.get_full_name()\n",
    "\n",
    "# We will need to use a loop"
   ]
  },
  {
   "cell_type": "code",
   "execution_count": 15,
   "id": "32f97eff-dcf8-4d63-821e-9cd4e77101a3",
   "metadata": {},
   "outputs": [
    {
     "name": "stdout",
     "output_type": "stream",
     "text": [
      "Jay Lee\n",
      "Olive Jones\n",
      "Lola Stevens\n",
      "Selma Larsen\n",
      "Ilan Arnaud\n",
      "Theo Martin\n",
      "Liliam Ribeiro\n",
      "Aubrey Pelletier\n",
      "Yvonne Lemke\n",
      "Zdravko Pawlik\n"
     ]
    }
   ],
   "source": [
    "for user in list_of_users:\n",
    "    print(user.get_full_name())"
   ]
  },
  {
   "cell_type": "markdown",
   "id": "44257c23-0557-4bf4-b44a-1dd808ce4be9",
   "metadata": {},
   "source": [
    "### Exercise 1\n",
    "\n",
    "For the list of users - save their full names to a list."
   ]
  },
  {
   "cell_type": "code",
   "execution_count": null,
   "id": "182111a5-7f7b-4853-b609-fcf31c38f9a2",
   "metadata": {},
   "outputs": [],
   "source": [
    "# TO DO\n",
    "# In the loop, save each result of user.get_full_name() to the list \"usernames\"\n",
    "# Hint - we covered this in Lesson 8 on Loops\n",
    "\n",
    "usernames = []\n",
    "\n",
    "for user in list_of_users:\n",
    "    print(user.get_full_name())\n",
    "\n",
    "print(usernames)"
   ]
  },
  {
   "cell_type": "markdown",
   "id": "29bce240-4d32-499c-afa6-8da1016a620f",
   "metadata": {},
   "source": [
    "### Generating Fake User data\n",
    "\n",
    "Using the randomuser library we can quickly build up a dataframe of fake user data."
   ]
  },
  {
   "cell_type": "code",
   "execution_count": 18,
   "id": "25385132-eb63-4030-9d37-75abee160430",
   "metadata": {},
   "outputs": [
    {
     "name": "stdout",
     "output_type": "stream",
     "text": [
      "                  name  gender        city            state  \\\n",
      "0        Fabio Guillot    male  Courbevoie   Hauts-de-Seine   \n",
      "1             Mar Sanz  female      Burgos         Cataluña   \n",
      "2         Edwin Fisher    male      Galway           Carlow   \n",
      "3  Vergílio Nascimento    male    Ourinhos            Goiás   \n",
      "4           Carl Burke    male   Toowoomba  New South Wales   \n",
      "5      Baptiste Aubert    male     Limoges             Gers   \n",
      "6         Yara Guillot  female    Bettlach      Basel-Stadt   \n",
      "7       Signe Sørensen  female     Agerbæk      Nordjylland   \n",
      "8       Elliot Abraham    male     Chatham     Saskatchewan   \n",
      "9       Thea Mortensen  female  Aaborg Øst      Midtjylland   \n",
      "\n",
      "                             email                       dob  \\\n",
      "0        fabio.guillot@example.com  1987-09-15T19:31:10.960Z   \n",
      "1             mar.sanz@example.com  1964-02-28T12:10:30.808Z   \n",
      "2         edwin.fisher@example.com  1976-08-18T07:45:19.725Z   \n",
      "3  vergilio.nascimento@example.com  1956-08-16T21:02:12.327Z   \n",
      "4           carl.burke@example.com  1958-01-19T01:55:11.605Z   \n",
      "5      baptiste.aubert@example.com  1951-01-18T02:45:10.017Z   \n",
      "6         yara.guillot@example.com  1977-12-09T06:03:41.233Z   \n",
      "7       signe.sorensen@example.com  1968-07-14T16:03:31.351Z   \n",
      "8       elliot.abraham@example.com  1973-11-07T00:19:45.639Z   \n",
      "9       thea.mortensen@example.com  1978-07-23T04:14:11.305Z   \n",
      "\n",
      "                                            picture  \n",
      "0    https://randomuser.me/api/portraits/men/46.jpg  \n",
      "1  https://randomuser.me/api/portraits/women/86.jpg  \n",
      "2    https://randomuser.me/api/portraits/men/75.jpg  \n",
      "3    https://randomuser.me/api/portraits/men/45.jpg  \n",
      "4     https://randomuser.me/api/portraits/men/8.jpg  \n",
      "5    https://randomuser.me/api/portraits/men/62.jpg  \n",
      "6  https://randomuser.me/api/portraits/women/41.jpg  \n",
      "7  https://randomuser.me/api/portraits/women/61.jpg  \n",
      "8    https://randomuser.me/api/portraits/men/49.jpg  \n",
      "9  https://randomuser.me/api/portraits/women/29.jpg  \n"
     ]
    }
   ],
   "source": [
    "# Load python libraries\n",
    "from randomuser import RandomUser\n",
    "import pandas as pd\n",
    "\n",
    "# load a random user object\n",
    "r = RandomUser()\n",
    "\n",
    "# initialise lists\n",
    "name = []\n",
    "gender = []\n",
    "city = []\n",
    "state = []\n",
    "email = []\n",
    "dob = []\n",
    "picture = []\n",
    "\n",
    "# loop through a list of 10 users and append results to lists\n",
    "for user in r.generate_users(10):\n",
    "    name.append(user.get_full_name())\n",
    "    gender.append(user.get_gender())\n",
    "    city.append(user.get_city())\n",
    "    state.append(user.get_state())\n",
    "    email.append(user.get_email())\n",
    "    dob.append(user.get_dob())\n",
    "    picture.append(user.get_picture())\n",
    "\n",
    "# create dataframe and set lists as columns\n",
    "df = pd.DataFrame()\n",
    "df['name'] = name\n",
    "df['gender'] = gender\n",
    "df['city'] = city\n",
    "df['state'] = state\n",
    "df['email'] = email\n",
    "df['dob'] = dob\n",
    "df['picture'] = picture\n",
    "\n",
    "print(df)"
   ]
  },
  {
   "cell_type": "markdown",
   "id": "8d66ec40-0460-4701-b04e-75eb417a2158",
   "metadata": {},
   "source": [
    "### There is a quicker way of writing this using a dictionary"
   ]
  },
  {
   "cell_type": "code",
   "execution_count": 19,
   "id": "15c94289-233f-4f6a-b9a4-2e9efa5e7e2f",
   "metadata": {},
   "outputs": [
    {
     "name": "stdout",
     "output_type": "stream",
     "text": [
      "                Name  Gender                   City                   State  \\\n",
      "0       Coşkun Polat    male                Karabük                   Çorum   \n",
      "1     Sheryl Watkins  female               Limerick             Dublin City   \n",
      "2         سپهر حیدری    male                     قم            خراسان جنوبی   \n",
      "3       Kaitlin Rose  female              Tipperary  Dún Laoghaire–Rathdown   \n",
      "4  Josephine Charles  female              Ferreyres            Schaffhausen   \n",
      "5    Rogério Barbosa    male  Santa Bárbara D'Oeste     Rio Grande do Norte   \n",
      "6       Jeanne Roger  female          Aubervilliers          Hauts-de-Seine   \n",
      "7       Luis Jenkins    male                Wicklow                  Fingal   \n",
      "8   Charis Dominicus  female         Noord-Beveland                 Zeeland   \n",
      "9   Montserrat Roman  female                  Lorca                Canarias   \n",
      "\n",
      "                           Email                       DOB  \\\n",
      "0       coskun.polat@example.com  1961-04-11T17:19:13.322Z   \n",
      "1     sheryl.watkins@example.com  1978-05-21T22:33:54.333Z   \n",
      "2         sphr.hydry@example.com  1975-01-03T17:51:36.820Z   \n",
      "3       kaitlin.rose@example.com  1977-02-15T03:11:27.036Z   \n",
      "4  josephine.charles@example.com  1976-07-20T23:44:04.107Z   \n",
      "5    rogerio.barbosa@example.com  1948-06-13T20:01:11.753Z   \n",
      "6       jeanne.roger@example.com  1975-05-15T11:25:08.329Z   \n",
      "7       luis.jenkins@example.com  1953-08-07T15:19:03.952Z   \n",
      "8   charis.dominicus@example.com  1983-05-01T10:50:00.530Z   \n",
      "9   montserrat.roman@example.com  1945-02-20T13:33:15.248Z   \n",
      "\n",
      "                                            Picture  \n",
      "0    https://randomuser.me/api/portraits/men/82.jpg  \n",
      "1  https://randomuser.me/api/portraits/women/11.jpg  \n",
      "2    https://randomuser.me/api/portraits/men/11.jpg  \n",
      "3  https://randomuser.me/api/portraits/women/62.jpg  \n",
      "4  https://randomuser.me/api/portraits/women/14.jpg  \n",
      "5    https://randomuser.me/api/portraits/men/87.jpg  \n",
      "6  https://randomuser.me/api/portraits/women/95.jpg  \n",
      "7    https://randomuser.me/api/portraits/men/31.jpg  \n",
      "8  https://randomuser.me/api/portraits/women/26.jpg  \n",
      "9  https://randomuser.me/api/portraits/women/45.jpg  \n"
     ]
    }
   ],
   "source": [
    "# Load python libraries\n",
    "from randomuser import RandomUser\n",
    "import pandas as pd\n",
    "\n",
    "# load a random user object\n",
    "r = RandomUser()\n",
    "\n",
    "# initialise one list which will become a dictionary\n",
    "users = []\n",
    "\n",
    "# loop through a list of 10 users and append results to dictionary \"users\"\n",
    "for user in r.generate_users(10):\n",
    "    users.append(\n",
    "        {\"Name\":user.get_full_name(),\n",
    "         \"Gender\":user.get_gender(),\n",
    "         \"City\":user.get_city(),\n",
    "         \"State\":user.get_state(),\n",
    "         \"Email\":user.get_email(), \n",
    "         \"DOB\":user.get_dob(),\n",
    "         \"Picture\":user.get_picture()\n",
    "        })\n",
    "\n",
    "# Convert dictionary to dataframe\n",
    "df = pd.DataFrame(users)\n",
    "print(df)"
   ]
  },
  {
   "cell_type": "markdown",
   "id": "4aec2df7-dfd4-42f1-9d12-e9768913b160",
   "metadata": {},
   "source": [
    "## 2. Fruitvice API: Calling an API via a website"
   ]
  },
  {
   "cell_type": "code",
   "execution_count": 20,
   "id": "5b5511bd-bcb8-449e-aca1-6f6d646c46af",
   "metadata": {},
   "outputs": [],
   "source": [
    "# load libraries\n",
    "import requests\n",
    "import json\n",
    "import pandas as pd"
   ]
  },
  {
   "cell_type": "markdown",
   "id": "4817d675-5af1-44d1-a4de-46edaf0a191f",
   "metadata": {},
   "source": [
    "We will obtain the [fruitvice](https://www.fruityvice.com/) API data using requests.get(\"url\") function. The data is in a json format.\n",
    "\n",
    "If you visit the url: [https://fruityvice.com/api/fruit/all](https://fruityvice.com/api/fruit/all) you'll see data about various fruits - we can bring that data into Python."
   ]
  },
  {
   "cell_type": "code",
   "execution_count": 32,
   "id": "aa03d6f2-8f81-4517-8682-871b37e897bb",
   "metadata": {},
   "outputs": [
    {
     "name": "stdout",
     "output_type": "stream",
     "text": [
      "         name  id      family         order      genus  \\\n",
      "0   Persimmon  52   Ebenaceae       Rosales  Diospyros   \n",
      "1  Strawberry   3    Rosaceae       Rosales   Fragaria   \n",
      "2      Banana   1    Musaceae  Zingiberales       Musa   \n",
      "3      Tomato   5  Solanaceae     Solanales    Solanum   \n",
      "4        Pear   4    Rosaceae       Rosales      Pyrus   \n",
      "\n",
      "                                          nutritions  \n",
      "0  {'calories': 81, 'fat': 0.0, 'sugar': 18.0, 'c...  \n",
      "1  {'calories': 29, 'fat': 0.4, 'sugar': 5.4, 'ca...  \n",
      "2  {'calories': 96, 'fat': 0.2, 'sugar': 17.2, 'c...  \n",
      "3  {'calories': 74, 'fat': 0.2, 'sugar': 2.6, 'ca...  \n",
      "4  {'calories': 57, 'fat': 0.1, 'sugar': 10.0, 'c...  \n",
      "         name  id      family         order      genus  \\\n",
      "0   Persimmon  52   Ebenaceae       Rosales  Diospyros   \n",
      "1  Strawberry   3    Rosaceae       Rosales   Fragaria   \n",
      "2      Banana   1    Musaceae  Zingiberales       Musa   \n",
      "3      Tomato   5  Solanaceae     Solanales    Solanum   \n",
      "4        Pear   4    Rosaceae       Rosales      Pyrus   \n",
      "\n",
      "                                          nutritions  \n",
      "0  {'calories': 81, 'fat': 0.0, 'sugar': 18.0, 'c...  \n",
      "1  {'calories': 29, 'fat': 0.4, 'sugar': 5.4, 'ca...  \n",
      "2  {'calories': 96, 'fat': 0.2, 'sugar': 17.2, 'c...  \n",
      "3  {'calories': 74, 'fat': 0.2, 'sugar': 2.6, 'ca...  \n",
      "4  {'calories': 57, 'fat': 0.1, 'sugar': 10.0, 'c...  \n"
     ]
    }
   ],
   "source": [
    "data = requests.get(\"https://fruityvice.com/api/fruit/all\")\n",
    "\n",
    "# printing this returns <Response [200]> not the data...\n",
    "print(data)\n",
    "\n",
    "# check the methods available for this object\n",
    "print(dir(data))\n",
    "\n",
    "# the json() method will return the json data contained in the response\n",
    "results = data.json()\n",
    "\n",
    "# We will convert our json data into pandas data frame.\n",
    "df = pd.DataFrame(results)\n",
    "print(df.head())\n",
    "\n",
    "# Alternatively, you can use the \".text\" method \n",
    "# and load the data using the \"json.loads()\" function. e.g.\n",
    "# results = json.loads(data.text)\n"
   ]
  },
  {
   "cell_type": "markdown",
   "id": "bf99f639-5983-4333-a44a-d2580a958390",
   "metadata": {},
   "source": [
    "The 'nutrition' column contains multiple subcolumns, so the data needs to be 'flattened' or normalized. This is known as a **nested json** format."
   ]
  },
  {
   "cell_type": "code",
   "execution_count": 27,
   "id": "0ab0c92c-12c6-431f-874f-437455b25b56",
   "metadata": {},
   "outputs": [
    {
     "name": "stdout",
     "output_type": "stream",
     "text": [
      "         name  id      family         order      genus  nutritions.calories  \\\n",
      "0   Persimmon  52   Ebenaceae       Rosales  Diospyros                   81   \n",
      "1  Strawberry   3    Rosaceae       Rosales   Fragaria                   29   \n",
      "2      Banana   1    Musaceae  Zingiberales       Musa                   96   \n",
      "3      Tomato   5  Solanaceae     Solanales    Solanum                   74   \n",
      "4        Pear   4    Rosaceae       Rosales      Pyrus                   57   \n",
      "\n",
      "   nutritions.fat  nutritions.sugar  nutritions.carbohydrates  \\\n",
      "0             0.0              18.0                      18.0   \n",
      "1             0.4               5.4                       5.5   \n",
      "2             0.2              17.2                      22.0   \n",
      "3             0.2               2.6                       3.9   \n",
      "4             0.1              10.0                      15.0   \n",
      "\n",
      "   nutritions.protein  \n",
      "0                 0.0  \n",
      "1                 0.8  \n",
      "2                 1.0  \n",
      "3                 0.9  \n",
      "4                 0.4  \n"
     ]
    }
   ],
   "source": [
    "df2 = pd.json_normalize(results)\n",
    "print(df2.head())"
   ]
  },
  {
   "cell_type": "markdown",
   "id": "c539dfed-1848-44d2-a867-e5e02f40e48c",
   "metadata": {},
   "source": [
    "# Mini Project: Met Office Data\n",
    "\n",
    "### 1. Register for API access with Metoffice:\n",
    "[https://register.metoffice.gov.uk/WaveRegistrationClient/public/newaccount.do?service=datapoint](https://register.metoffice.gov.uk/WaveRegistrationClient/public/newaccount.do?service=datapoint)\n",
    "\n",
    "Verify the link you received via email and login to your account page using this link:\n",
    "[https://register.metoffice.gov.uk/MyAccountClient/account/view](https://register.metoffice.gov.uk/MyAccountClient/account/view)\n",
    "\n",
    "After login, you should see your account details and at the bottom of the page your API key.\n",
    "\n",
    "### TO DO\n",
    "Add this API key to the config file \"config_lesson_9.json\" saved in the data folder. \n",
    "\n",
    "You will need to:\n",
    "- download this json file,\n",
    "- add the API key value,\n",
    "- save and reupload to the same location"
   ]
  },
  {
   "cell_type": "code",
   "execution_count": 7,
   "id": "ffeec19b-a30f-4b35-bbb6-54b5a4f8ea3b",
   "metadata": {},
   "outputs": [
    {
     "name": "stdout",
     "output_type": "stream",
     "text": [
      "\n"
     ]
    }
   ],
   "source": [
    "import json\n",
    "\n",
    "with open('../data/config_lesson_9.json', 'r') as file:\n",
    "    config = json.load(file)\n",
    "\n",
    "api_key = config['met_office_api_key']\n",
    "\n",
    "print(api_key)"
   ]
  },
  {
   "cell_type": "markdown",
   "id": "8dd29bf7-b59e-44d8-a07c-f7b7673e5f42",
   "metadata": {},
   "source": [
    "All Met Office DataPoint resources have a base URL of:\n",
    "http://datapoint.metoffice.gov.uk/public/data/ \n",
    "\n",
    "and must be requested with your API key as a query in the format:\n",
    "http://datapoint.metoffice.gov.uk/public/data/resource?key=APIkey\n",
    "\n",
    "For example, to get a three-hourly five-day forecast for Dunkeswell Aerodrome:\n",
    "http://datapoint.metoffice.gov.uk/public/data/val/wxfcs/all/json/3840?res=3hourly&key=01234567-89ab-cdef-0123-456789abcdef"
   ]
  },
  {
   "cell_type": "code",
   "execution_count": 4,
   "id": "2c68c4a1-c10a-49e0-bbd6-cb3308fe7a9c",
   "metadata": {},
   "outputs": [
    {
     "name": "stdout",
     "output_type": "stream",
     "text": [
      "['__attrs__', '__bool__', '__class__', '__delattr__', '__dict__', '__dir__', '__doc__', '__enter__', '__eq__', '__exit__', '__format__', '__ge__', '__getattribute__', '__getstate__', '__gt__', '__hash__', '__init__', '__init_subclass__', '__iter__', '__le__', '__lt__', '__module__', '__ne__', '__new__', '__nonzero__', '__reduce__', '__reduce_ex__', '__repr__', '__setattr__', '__setstate__', '__sizeof__', '__str__', '__subclasshook__', '__weakref__', '_content', '_content_consumed', '_next', 'apparent_encoding', 'close', 'connection', 'content', 'cookies', 'elapsed', 'encoding', 'headers', 'history', 'is_permanent_redirect', 'is_redirect', 'iter_content', 'iter_lines', 'json', 'links', 'next', 'ok', 'raise_for_status', 'raw', 'reason', 'request', 'status_code', 'text', 'url']\n",
      "{'SiteRep': {'Wx': {'Param': [{'name': 'F', 'units': 'C', '$': 'Feels Like Temperature'}, {'name': 'G', 'units': 'mph', '$': 'Wind Gust'}, {'name': 'H', 'units': '%', '$': 'Screen Relative Humidity'}, {'name': 'T', 'units': 'C', '$': 'Temperature'}, {'name': 'V', 'units': '', '$': 'Visibility'}, {'name': 'D', 'units': 'compass', '$': 'Wind Direction'}, {'name': 'S', 'units': 'mph', '$': 'Wind Speed'}, {'name': 'U', 'units': '', '$': 'Max UV Index'}, {'name': 'W', 'units': '', '$': 'Weather Type'}, {'name': 'Pp', 'units': '%', '$': 'Precipitation Probability'}]}, 'DV': {'dataDate': '2024-01-23T10:00:00Z', 'type': 'Forecast', 'Location': {'i': '3840', 'lat': '50.86', 'lon': '-3.239', 'name': 'DUNKESWELL AERODROME', 'country': 'ENGLAND', 'continent': 'EUROPE', 'elevation': '252.0', 'Period': [{'type': 'Day', 'value': '2024-01-23Z', 'Rep': [{'D': 'SSW', 'F': '4', 'G': '18', 'H': '97', 'Pp': '96', 'S': '11', 'T': '7', 'V': 'PO', 'W': '15', 'U': '0', '$': '360'}, {'D': 'S', 'F': '4', 'G': '29', 'H': '97', 'Pp': '97', 'S': '22', 'T': '8', 'V': 'MO', 'W': '12', 'U': '1', '$': '540'}, {'D': 'SW', 'F': '7', 'G': '34', 'H': '99', 'Pp': '22', 'S': '18', 'T': '11', 'V': 'VP', 'W': '6', 'U': '1', '$': '720'}, {'D': 'SW', 'F': '8', 'G': '34', 'H': '96', 'Pp': '15', 'S': '18', 'T': '12', 'V': 'GO', 'W': '8', 'U': '1', '$': '900'}, {'D': 'SW', 'F': '8', 'G': '38', 'H': '99', 'Pp': '57', 'S': '20', 'T': '12', 'V': 'VP', 'W': '6', 'U': '0', '$': '1080'}, {'D': 'WSW', 'F': '8', 'G': '40', 'H': '95', 'Pp': '57', 'S': '22', 'T': '12', 'V': 'VG', 'W': '12', 'U': '0', '$': '1260'}]}, {'type': 'Day', 'value': '2024-01-24Z', 'Rep': [{'D': 'WSW', 'F': '5', 'G': '38', 'H': '85', 'Pp': '8', 'S': '20', 'T': '10', 'V': 'VG', 'W': '7', 'U': '0', '$': '0'}, {'D': 'W', 'F': '4', 'G': '34', 'H': '82', 'Pp': '5', 'S': '18', 'T': '8', 'V': 'VG', 'W': '7', 'U': '0', '$': '180'}, {'D': 'W', 'F': '4', 'G': '27', 'H': '86', 'Pp': '4', 'S': '13', 'T': '8', 'V': 'VG', 'W': '7', 'U': '0', '$': '360'}, {'D': 'WSW', 'F': '4', 'G': '25', 'H': '88', 'Pp': '4', 'S': '13', 'T': '8', 'V': 'VG', 'W': '7', 'U': '1', '$': '540'}, {'D': 'WSW', 'F': '6', 'G': '22', 'H': '83', 'Pp': '4', 'S': '13', 'T': '9', 'V': 'VG', 'W': '7', 'U': '1', '$': '720'}, {'D': 'WSW', 'F': '7', 'G': '18', 'H': '85', 'Pp': '5', 'S': '9', 'T': '9', 'V': 'VG', 'W': '7', 'U': '1', '$': '900'}, {'D': 'WSW', 'F': '5', 'G': '16', 'H': '93', 'Pp': '15', 'S': '9', 'T': '8', 'V': 'GO', 'W': '7', 'U': '0', '$': '1080'}, {'D': 'SSW', 'F': '5', 'G': '11', 'H': '95', 'Pp': '20', 'S': '7', 'T': '7', 'V': 'VG', 'W': '8', 'U': '0', '$': '1260'}]}, {'type': 'Day', 'value': '2024-01-25Z', 'Rep': [{'D': 'SSE', 'F': '5', 'G': '13', 'H': '97', 'Pp': '34', 'S': '7', 'T': '8', 'V': 'MO', 'W': '7', 'U': '0', '$': '0'}, {'D': 'SSE', 'F': '5', 'G': '18', 'H': '100', 'Pp': '80', 'S': '9', 'T': '8', 'V': 'VP', 'W': '15', 'U': '0', '$': '180'}, {'D': 'SSW', 'F': '7', 'G': '20', 'H': '99', 'Pp': '22', 'S': '11', 'T': '10', 'V': 'PO', 'W': '5', 'U': '0', '$': '360'}, {'D': 'SSW', 'F': '6', 'G': '22', 'H': '98', 'Pp': '24', 'S': '11', 'T': '10', 'V': 'GO', 'W': '8', 'U': '1', '$': '540'}, {'D': 'SSW', 'F': '7', 'G': '25', 'H': '97', 'Pp': '45', 'S': '13', 'T': '11', 'V': 'PO', 'W': '11', 'U': '1', '$': '720'}, {'D': 'SSW', 'F': '8', 'G': '27', 'H': '98', 'Pp': '19', 'S': '16', 'T': '11', 'V': 'MO', 'W': '8', 'U': '1', '$': '900'}, {'D': 'SSW', 'F': '7', 'G': '27', 'H': '98', 'Pp': '22', 'S': '13', 'T': '11', 'V': 'MO', 'W': '8', 'U': '0', '$': '1080'}, {'D': 'SW', 'F': '7', 'G': '29', 'H': '98', 'Pp': '52', 'S': '16', 'T': '11', 'V': 'MO', 'W': '12', 'U': '0', '$': '1260'}]}, {'type': 'Day', 'value': '2024-01-26Z', 'Rep': [{'D': 'SW', 'F': '7', 'G': '27', 'H': '95', 'Pp': '44', 'S': '13', 'T': '11', 'V': 'GO', 'W': '12', 'U': '0', '$': '0'}, {'D': 'W', 'F': '4', 'G': '31', 'H': '88', 'Pp': '38', 'S': '16', 'T': '9', 'V': 'VG', 'W': '9', 'U': '0', '$': '180'}, {'D': 'WNW', 'F': '1', 'G': '27', 'H': '77', 'Pp': '2', 'S': '13', 'T': '6', 'V': 'VG', 'W': '0', 'U': '0', '$': '360'}, {'D': 'WNW', 'F': '1', 'G': '20', 'H': '79', 'Pp': '0', 'S': '11', 'T': '5', 'V': 'VG', 'W': '1', 'U': '1', '$': '540'}, {'D': 'WNW', 'F': '4', 'G': '22', 'H': '64', 'Pp': '0', 'S': '11', 'T': '7', 'V': 'VG', 'W': '1', 'U': '1', '$': '720'}, {'D': 'W', 'F': '4', 'G': '20', 'H': '63', 'Pp': '5', 'S': '11', 'T': '7', 'V': 'VG', 'W': '7', 'U': '1', '$': '900'}, {'D': 'SW', 'F': '2', 'G': '13', 'H': '81', 'Pp': '8', 'S': '9', 'T': '4', 'V': 'VG', 'W': '8', 'U': '0', '$': '1080'}, {'D': 'SW', 'F': '1', 'G': '13', 'H': '84', 'Pp': '9', 'S': '9', 'T': '3', 'V': 'VG', 'W': '8', 'U': '0', '$': '1260'}]}, {'type': 'Day', 'value': '2024-01-27Z', 'Rep': [{'D': 'SW', 'F': '0', 'G': '11', 'H': '85', 'Pp': '8', 'S': '7', 'T': '3', 'V': 'VG', 'W': '8', 'U': '0', '$': '0'}, {'D': 'SSW', 'F': '1', 'G': '13', 'H': '88', 'Pp': '8', 'S': '7', 'T': '3', 'V': 'VG', 'W': '8', 'U': '0', '$': '180'}, {'D': 'SSW', 'F': '0', 'G': '13', 'H': '91', 'Pp': '9', 'S': '9', 'T': '4', 'V': 'MO', 'W': '8', 'U': '0', '$': '360'}, {'D': 'S', 'F': '1', 'G': '18', 'H': '89', 'Pp': '8', 'S': '9', 'T': '5', 'V': 'MO', 'W': '8', 'U': '1', '$': '540'}, {'D': 'S', 'F': '3', 'G': '25', 'H': '79', 'Pp': '6', 'S': '13', 'T': '7', 'V': 'VG', 'W': '7', 'U': '1', '$': '720'}, {'D': 'S', 'F': '4', 'G': '22', 'H': '85', 'Pp': '6', 'S': '13', 'T': '8', 'V': 'VG', 'W': '7', 'U': '1', '$': '900'}, {'D': 'S', 'F': '2', 'G': '20', 'H': '95', 'Pp': '7', 'S': '11', 'T': '6', 'V': 'GO', 'W': '7', 'U': '0', '$': '1080'}, {'D': 'S', 'F': '3', 'G': '22', 'H': '96', 'Pp': '9', 'S': '11', 'T': '7', 'V': 'GO', 'W': '8', 'U': '0', '$': '1260'}]}]}}}}\n"
     ]
    }
   ],
   "source": [
    "# load libraries\n",
    "import requests\n",
    "import json\n",
    "import pandas as pd\n",
    "\n",
    "api_call = 'http://datapoint.metoffice.gov.uk/public/data/val/wxfcs/all/json/3840?res=3hourly&key=' + api_key\n",
    "data = requests.get(api_call)\n",
    "\n",
    "response = requests.get(api_call)\n",
    "\n",
    "# checking the method of the object there is a \"json\" method we can call\n",
    "print(dir(response))\n",
    "\n",
    "# viewing this data we can see its very nested\n",
    "json_data = response.json()\n",
    "print(json_data)\n",
    "\n",
    "# The first section explains the column headers and meta data\n",
    "# The next section contains the recorded weather values"
   ]
  },
  {
   "cell_type": "code",
   "execution_count": 8,
   "id": "db011d92-86d0-4804-a124-6aa3cae96c48",
   "metadata": {},
   "outputs": [
    {
     "name": "stdout",
     "output_type": "stream",
     "text": [
      "  name    units                          $\n",
      "0    F        C     Feels Like Temperature\n",
      "1    G      mph                  Wind Gust\n",
      "2    H        %   Screen Relative Humidity\n",
      "3    T        C                Temperature\n",
      "4    V                          Visibility\n",
      "5    D  compass             Wind Direction\n",
      "6    S      mph                 Wind Speed\n",
      "7    U                        Max UV Index\n",
      "8    W                        Weather Type\n",
      "9   Pp        %  Precipitation Probability\n",
      "               dataDate      type Location.i Location.lat Location.lon  \\\n",
      "0  2024-01-23T10:00:00Z  Forecast       3840        50.86       -3.239   \n",
      "\n",
      "          Location.name Location.country Location.continent  \\\n",
      "0  DUNKESWELL AERODROME          ENGLAND             EUROPE   \n",
      "\n",
      "  Location.elevation                                    Location.Period  \n",
      "0              252.0  [{'type': 'Day', 'value': '2024-01-23Z', 'Rep'...  \n"
     ]
    }
   ],
   "source": [
    "# For column headers we access via querying the nested json headers\n",
    "column_json = json_data['SiteRep']['Wx']['Param']\n",
    "column_df = pd.json_normalize(column_json)\n",
    "print(column_df)\n",
    "\n",
    "meta_json = json_data['SiteRep']['DV']\n",
    "meta_df = pd.json_normalize(meta_json)\n",
    "print(meta_df)"
   ]
  },
  {
   "cell_type": "code",
   "execution_count": 5,
   "id": "9b364446-585c-4b3d-a0e5-806b7b12da58",
   "metadata": {},
   "outputs": [
    {
     "name": "stdout",
     "output_type": "stream",
     "text": [
      "  type        value                                                Rep\n",
      "0  Day  2024-01-23Z  [{'D': 'SSW', 'F': '4', 'G': '18', 'H': '97', ...\n",
      "1  Day  2024-01-24Z  [{'D': 'WSW', 'F': '5', 'G': '38', 'H': '85', ...\n",
      "2  Day  2024-01-25Z  [{'D': 'SSE', 'F': '5', 'G': '13', 'H': '97', ...\n",
      "3  Day  2024-01-26Z  [{'D': 'SW', 'F': '7', 'G': '27', 'H': '95', '...\n",
      "4  Day  2024-01-27Z  [{'D': 'SW', 'F': '0', 'G': '11', 'H': '85', '...\n",
      "  type        value                                                Rep\n",
      "0  Day  2024-01-23Z  {'D': 'SSW', 'F': '4', 'G': '18', 'H': '97', '...\n",
      "0  Day  2024-01-23Z  {'D': 'S', 'F': '4', 'G': '29', 'H': '97', 'Pp...\n",
      "0  Day  2024-01-23Z  {'D': 'SW', 'F': '7', 'G': '34', 'H': '99', 'P...\n",
      "0  Day  2024-01-23Z  {'D': 'SW', 'F': '8', 'G': '34', 'H': '96', 'P...\n",
      "0  Day  2024-01-23Z  {'D': 'SW', 'F': '8', 'G': '38', 'H': '99', 'P...\n",
      "  type        value    D  F   G   H  Pp   S   T   V   W  U     $\n",
      "0  Day  2024-01-23Z  SSW  4  18  97  96  11   7  PO  15  0   360\n",
      "0  Day  2024-01-23Z    S  4  29  97  97  22   8  MO  12  1   540\n",
      "0  Day  2024-01-23Z   SW  7  34  99  22  18  11  VP   6  1   720\n",
      "0  Day  2024-01-23Z   SW  8  34  96  15  18  12  GO   8  1   900\n",
      "0  Day  2024-01-23Z   SW  8  38  99  57  20  12  VP   6  0  1080\n"
     ]
    }
   ],
   "source": [
    "# We can access the weather data through querying the nested json headers\n",
    "weather_data = json_data['SiteRep']['DV']['Location']['Period']\n",
    "df = pd.json_normalize(weather_data)\n",
    "print(df.head())\n",
    "\n",
    "# Rep contains a list of dictionaries, \n",
    "# we can convert the list elements to rows using \"explode\"\n",
    "df2 = df.explode('Rep')\n",
    "print(df2.head())\n",
    "\n",
    "# Rep is still a dictionary in a column, we can expand the dictionary to columns\n",
    "expanded_rep = df2['Rep'].apply(pd.Series)\n",
    "\n",
    "# And then combine it back to the original dataframe\n",
    "# Note \"join\" is not joining on a key, it is just pasting in the additional columns by position\n",
    "weather_df = df2[['type', 'value']].join(expanded_rep)\n",
    "print(weather_df.head())"
   ]
  },
  {
   "cell_type": "code",
   "execution_count": 15,
   "id": "442e9773-7678-497b-935e-efdc7fbd496f",
   "metadata": {},
   "outputs": [
    {
     "name": "stdout",
     "output_type": "stream",
     "text": [
      "   type        value  F     $         location_name reading_type\n",
      "0   Day  2024-01-23Z  4   360  DUNKESWELL AERODROME     Forecast\n",
      "0   Day  2024-01-23Z  4   540  DUNKESWELL AERODROME     Forecast\n",
      "0   Day  2024-01-23Z  7   720  DUNKESWELL AERODROME     Forecast\n",
      "0   Day  2024-01-23Z  8   900  DUNKESWELL AERODROME     Forecast\n",
      "0   Day  2024-01-23Z  8  1080  DUNKESWELL AERODROME     Forecast\n",
      "..  ...          ... ..   ...                   ...          ...\n",
      "4   Day  2024-01-27Z  1   540  DUNKESWELL AERODROME     Forecast\n",
      "4   Day  2024-01-27Z  3   720  DUNKESWELL AERODROME     Forecast\n",
      "4   Day  2024-01-27Z  4   900  DUNKESWELL AERODROME     Forecast\n",
      "4   Day  2024-01-27Z  2  1080  DUNKESWELL AERODROME     Forecast\n",
      "4   Day  2024-01-27Z  3  1260  DUNKESWELL AERODROME     Forecast\n",
      "\n",
      "[292 rows x 6 columns]\n"
     ]
    }
   ],
   "source": [
    "# Bringing this all together we can output three-hourly five-day forecast for temperatures at DUNKESWELL AERODROME\n",
    "# Note \"F\" here is the \"feels like temperature\" in Celsius\n",
    "# And \"$\" is the time in minutes, i.e. 360 is 6 am\n",
    "temp_forecast_df = weather_df[['type','value','F','$']].copy()\n",
    "\n",
    "temp_forecast_df['location_name'] = meta_df['Location.name'][0]\n",
    "temp_forecast_df['reading_type'] = meta_df['type'][0]\n",
    "\n",
    "print(temp_forecast_df)"
   ]
  },
  {
   "cell_type": "markdown",
   "id": "443c153f-7226-4ac6-8a17-4f8c070fc7ad",
   "metadata": {},
   "source": [
    "## Exercise: Weather Observations\n",
    "Using this link in the browser you will see locations where forecasting readings are taken: \n",
    "\n",
    "[http://datapoint.metoffice.gov.uk/public/data/val/wxobs/all/datatype/sitelist?&key=API-KEY](http://datapoint.metoffice.gov.uk/public/data/val/wxobs/all/datatype/sitelist?&key=<API-KEY>)"
   ]
  },
  {
   "cell_type": "code",
   "execution_count": 6,
   "id": "a692f740-4a4d-454b-b6de-c15f19525ba0",
   "metadata": {},
   "outputs": [
    {
     "name": "stdout",
     "output_type": "stream",
     "text": [
      "<Response [200]>\n"
     ]
    }
   ],
   "source": [
    "# load libraries\n",
    "import requests\n",
    "import json\n",
    "import pandas as pd\n",
    "\n",
    "# locations of weather stations in the Shetlands\n",
    "location_ids = ['3002','3005','3008','3014']\n",
    "\n",
    "# Selecting a weather station\n",
    "location_id = location_ids[0]\n",
    "\n",
    "# building an API call\n",
    "api_call = 'http://datapoint.metoffice.gov.uk/public/data/val/wxobs/all/json/' + location_id + '?res=hourly&key=' + api_key\n",
    "data = requests.get(api_call)\n",
    "print(data)\n",
    "\n",
    "# TO DO\n",
    "\n",
    "# Create a Loop that will call this API for each of the four locations\n",
    "# Prep the json data returned into a dataframe containing:\n",
    "#  - location name\n",
    "#  - dataDate\n",
    "#  - lat & lon\n",
    "#  - hour\n",
    "#  - Temperature\n",
    "\n",
    "# If no data is returned from the API call replace the location with another weather station from the sitelist call above\n"
   ]
  },
  {
   "cell_type": "markdown",
   "id": "70c8502c-cd7e-4aaf-964e-94c015e56859",
   "metadata": {},
   "source": [
    "## Additional Resources\n",
    "- 📰 **metoffice.gov.uk** - Data Point API Docs - https://www.metoffice.gov.uk/services/data/datapoint/datapoint-products\n",
    "- 📺 **Ghost Together** - How To Make API Call In Python - https://www.youtube.com/watch?v=izhHyIyxdwY\n",
    "- 📰 **github.com** - A collective list of free APIs for use in software and web development - https://github.com/public-apis/public-apis\n",
    "\n",
    "## Summary\n",
    "\n",
    "In this lesson we learned all about accessing data via API calls. Sometimes a Python package is available for us as an interface for the API, other times we can call the API ourselves using the 'requests' library to return us the data, usually in json but with pandas we can convert that to a dataframe. \n",
    "\n",
    "## Next Lesson\n",
    "\n",
    "**[Lesson 10: ???](./fundamentals-09-apis.ipynb)** \n"
   ]
  }
 ],
 "metadata": {
  "kernelspec": {
   "display_name": "Python 3 (ipykernel)",
   "language": "python",
   "name": "python3"
  },
  "language_info": {
   "codemirror_mode": {
    "name": "ipython",
    "version": 3
   },
   "file_extension": ".py",
   "mimetype": "text/x-python",
   "name": "python",
   "nbconvert_exporter": "python",
   "pygments_lexer": "ipython3",
   "version": "3.10.10"
  }
 },
 "nbformat": 4,
 "nbformat_minor": 5
}
