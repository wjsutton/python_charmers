{
 "cells": [
  {
   "cell_type": "markdown",
   "id": "f494e021-727d-49fd-9be9-7caef053cd33",
   "metadata": {},
   "source": [
    "# Python Charmers \n",
    "\n",
    "## Python Fundamentals Lesson 8: Loops\n",
    "\n",
    "### Lesson Overview\n",
    "- **Objective:** We'll learn about loops (iterative macros in Alteryx), to iterate through lists to extract data.\n",
    "- **Source materials:** [AlphaWaveData's Learn Python Loops](https://github.com/AlphaWaveData/Jupyter-Notebooks/blob/master/Learn%20Python%20Loops.ipynb)\n",
    "- **Prerequisites:** [Lesson 7 lists](./fundamentals-07-lists.ipynb)\n",
    "- **Duration:** 45 mins\n",
    "\n",
    "In the real world, you often need to repeat something over and over. It can be repetitive. When programming, though, if you need to do something 100 times, you certainly don't need to write it out in 100 identical lines of code. In Python, loops allow you to iterate over a sequence, whether that's a list, tuple, string, or dictionary."
   ]
  },
  {
   "cell_type": "markdown",
   "id": "06fac205-4757-4f3e-8dc1-007fe1849999",
   "metadata": {},
   "source": [
    "# What types of Python Loops are there?\n",
    "\n",
    "There is a **for** loop and a **while** loop. We'll also go through list comprehensions, as a \"Pythonic\" powerful shortcut for operating on all the members of a list in a single line of code.\n",
    "## The for statement*\n",
    "A \"for\" loop in Python allows you to go through each item in a sequence, one at a time. This allows you to \"iterate\" through an \"iterable\", such as a Python list, and perform operations on each item one at a time.\n",
    "\n",
    "The simplest example is to step through the items in a list:d."
   ]
  },
  {
   "cell_type": "code",
   "execution_count": 17,
   "id": "5e82a985-a8f7-4c60-bfac-6e2832cadad7",
   "metadata": {},
   "outputs": [
    {
     "name": "stdout",
     "output_type": "stream",
     "text": [
      "[1, 2, 3, 4, 5]\n",
      "0\n"
     ]
    }
   ],
   "source": [
    "# In the below example, the for loop will step through each item in my_list, assign the element to a local variable (\"x\"), \n",
    "# and execute the block of code below it to print out x\n",
    "\n",
    "my_list = [10, 20, 30, 40, 50, 60]\n",
    "\n",
    "for x in my_list: #<--- x is a variable, who's scope is limited to the for loop. x can be named anything you'd like\n",
    "    print(x)"
   ]
  },
  {
   "cell_type": "markdown",
   "id": "5400be32-99a8-40ff-bac0-73ce06b07ac7",
   "metadata": {},
   "source": [
    "## The range() function\n",
    "\n",
    "In most cases, we will want to loop through a predetermined list. However, we can also generate a list to loop over \"on the fly\" with the **range()** function."
   ]
  },
  {
   "cell_type": "code",
   "execution_count": 1,
   "id": "5ee4aeaa-8158-4ae0-9808-5b81230060a6",
   "metadata": {},
   "outputs": [
    {
     "name": "stdout",
     "output_type": "stream",
     "text": [
      "0\n",
      "1\n",
      "2\n",
      "3\n",
      "4\n",
      "5\n",
      "6\n",
      "7\n"
     ]
    }
   ],
   "source": [
    "# range() will create a list from 0 to one before the number provided\n",
    "for i in range(8):\n",
    "    print(i)\n",
    "\n",
    "# Note range() can be take variables for start, stop and step as we saw with List Slicing in lesson 7\n",
    "# range(start, stop[, step])"
   ]
  },
  {
   "cell_type": "markdown",
   "id": "de19dce3-6aa6-47cd-a85e-52707269d2f6",
   "metadata": {},
   "source": [
    "You can use the **range()** function together with the **len()** function to loop through a list, along with a variable that has the current index in the sequence."
   ]
  },
  {
   "cell_type": "code",
   "execution_count": 2,
   "id": "0e616fb6-7b58-4910-9a7a-04fd00b83776",
   "metadata": {},
   "outputs": [
    {
     "name": "stdout",
     "output_type": "stream",
     "text": [
      "0 10\n",
      "1 20\n",
      "2 30\n",
      "3 40\n",
      "4 50\n",
      "5 60\n"
     ]
    }
   ],
   "source": [
    "my_list = [10, 20, 30, 40, 50, 60]\n",
    "\n",
    "for i in range(len(my_list)):\n",
    "    print(i, my_list[i])"
   ]
  },
  {
   "cell_type": "markdown",
   "id": "668e7b1b-1b4a-41b6-b0b0-98442547a42f",
   "metadata": {},
   "source": [
    "Here we've printed the results of a loop, what if we wanted to save the data? \n",
    "\n",
    "From our work on lists, you can declare an empty list and store the results of the loop there"
   ]
  },
  {
   "cell_type": "code",
   "execution_count": 4,
   "id": "22481c22-c3da-4525-bf66-c81dcff03576",
   "metadata": {},
   "outputs": [
    {
     "name": "stdout",
     "output_type": "stream",
     "text": [
      "[0, 1, 2, 3, 4, 5]\n"
     ]
    }
   ],
   "source": [
    "my_list = [10, 20, 30, 40, 50, 60]\n",
    "results = []\n",
    "\n",
    "for i in range(len(my_list)):\n",
    "    results.append(i)\n",
    "\n",
    "print(results)"
   ]
  },
  {
   "cell_type": "code",
   "execution_count": 5,
   "id": "a6e02d33-2cff-4aee-8331-b969875a1b0a",
   "metadata": {},
   "outputs": [
    {
     "name": "stdout",
     "output_type": "stream",
     "text": [
      "   my_list  results\n",
      "0       10        0\n",
      "1       20        1\n",
      "2       30        2\n",
      "3       40        3\n",
      "4       50        4\n",
      "5       60        5\n"
     ]
    }
   ],
   "source": [
    "# and then I can take these lists and create a Dataframe\n",
    "import pandas as pd\n",
    "\n",
    "# Create dataframe and assign columns\n",
    "df = pd.DataFrame()\n",
    "df['my_list'] = my_list\n",
    "df['results'] = results\n",
    "print(df)"
   ]
  },
  {
   "cell_type": "markdown",
   "id": "03e086a0-b306-4496-b7f3-4df66ecd18d2",
   "metadata": {},
   "source": [
    "## Enumerate\n",
    "\n",
    "You can achieve the same effect as above by using the enumerate() function, to get two values each step through the loop."
   ]
  },
  {
   "cell_type": "code",
   "execution_count": 6,
   "id": "8511cb0c-5066-4ed5-b008-bd8dc0f6b968",
   "metadata": {},
   "outputs": [
    {
     "name": "stdout",
     "output_type": "stream",
     "text": [
      "0 10\n",
      "1 20\n",
      "2 30\n",
      "3 40\n",
      "4 50\n",
      "5 60\n"
     ]
    }
   ],
   "source": [
    "# the enumerate function will return two values each time the loop statement is run:\n",
    "# \"indx\" will be the current index value, and \"val\" will be the current element of my_list\n",
    "for indx, val in enumerate(my_list):\n",
    "    print(indx, val)"
   ]
  },
  {
   "cell_type": "markdown",
   "id": "a20e599b-f3f3-4163-826b-6ae6219b64e0",
   "metadata": {},
   "source": [
    "## Loop through the characters in a string\n",
    "\n",
    "You can also loop through all characters in a string of text in order. "
   ]
  },
  {
   "cell_type": "code",
   "execution_count": 7,
   "id": "b82e6a4d-fb9f-4d6f-ab38-38868f4cb70d",
   "metadata": {},
   "outputs": [
    {
     "name": "stdout",
     "output_type": "stream",
     "text": [
      "O\n",
      "n\n",
      "e\n",
      " \n",
      "a\n",
      "t\n",
      " \n",
      "a\n",
      " \n",
      "t\n",
      "i\n",
      "m\n",
      "e\n"
     ]
    }
   ],
   "source": [
    "s = \"One at a time\"\n",
    "for character in s:\n",
    "    print(character)"
   ]
  },
  {
   "cell_type": "markdown",
   "id": "fad453c3-d140-4b57-be65-ca8132f6a2f8",
   "metadata": {},
   "source": [
    "# A Python Dictionary\n",
    "\n",
    "## What's a dictionary?\n",
    "\n",
    "A dictionary in Python is a collection of key-value pairs. It's a mutable data type, meaning it can be changed after it's created. Each key in a dictionary is unique and is used to access its corresponding value.\n",
    "\n",
    "Here'snle exampl:\n"
   ]
  },
  {
   "cell_type": "code",
   "execution_count": 10,
   "id": "5f28b78c-00f3-4622-9818-2dc5c65dd015",
   "metadata": {},
   "outputs": [
    {
     "name": "stdout",
     "output_type": "stream",
     "text": [
      "Name: John\n",
      "Age: 30\n",
      "{'name': 'John', 'age': 30, 'city': 'New York', 'email': 'john@example.com'}\n",
      "{'name': 'John', 'age': 31, 'city': 'New York', 'email': 'john@example.com'}\n",
      "{'name': 'John', 'age': 31, 'email': 'john@example.com'}\n"
     ]
    }
   ],
   "source": [
    "# Creating a dictionary\n",
    "person = {\n",
    "    \"name\": \"John\",\n",
    "    \"age\": 30,\n",
    "    \"city\": \"New York\"\n",
    "}\n",
    "\n",
    "# Accessing elements\n",
    "print(\"Name:\", person[\"name\"])\n",
    "print(\"Age:\", person[\"age\"])\n",
    "\n",
    "# Adding a new key-value pair\n",
    "person[\"email\"] = \"john@example.com\"\n",
    "print(person)\n",
    "\n",
    "# Updating an existing key\n",
    "person[\"age\"] = 31\n",
    "print(person)\n",
    "\n",
    "# Removing a key-value pair\n",
    "del person[\"city\"]\n",
    "print(person)"
   ]
  },
  {
   "cell_type": "markdown",
   "id": "f6512553-bfb0-49c0-b2de-60ae4caeb225",
   "metadata": {},
   "source": [
    "## Looping through a dictionary\n",
    "\n",
    "### keys()\n",
    "You can step through the keys of a dictionary."
   ]
  },
  {
   "cell_type": "code",
   "execution_count": 12,
   "id": "52dfd8ea-6dea-49e0-9c57-859ac74fedb6",
   "metadata": {},
   "outputs": [
    {
     "name": "stdout",
     "output_type": "stream",
     "text": [
      "AAPL\n",
      "MSFT\n",
      "GOOG\n",
      "CSCO\n"
     ]
    }
   ],
   "source": [
    "my_dict = {'AAPL': 100, 'MSFT': 200, 'GOOG': 300, 'CSCO': 400}\n",
    "\n",
    "for key in my_dict.keys():\n",
    "    print(key)"
   ]
  },
  {
   "cell_type": "markdown",
   "id": "a68463dc-c464-4db6-90c2-dd4297ccb8e2",
   "metadata": {},
   "source": [
    "### items()\n",
    "Alternatively, you can step through all the items in the dictionary. Each item is a key-value pair.    "
   ]
  },
  {
   "cell_type": "code",
   "execution_count": 13,
   "id": "4f9ab4c7-76b1-4b28-af06-ac813abcbc11",
   "metadata": {},
   "outputs": [
    {
     "name": "stdout",
     "output_type": "stream",
     "text": [
      "Key= AAPL, Value= 100\n",
      "Key= MSFT, Value= 200\n",
      "Key= GOOG, Value= 300\n",
      "Key= CSCO, Value= 400\n"
     ]
    }
   ],
   "source": [
    "my_dict = {'AAPL': 100, 'MSFT': 200, 'GOOG': 300, 'CSCO': 400}\n",
    "\n",
    "for key, value in my_dict.items():\n",
    "    print('Key= ' + key + ', Value= ' + str(value))"
   ]
  },
  {
   "cell_type": "markdown",
   "id": "e8d9b22a-3176-4a7e-a0c1-4245818efd42",
   "metadata": {},
   "source": [
    "# The while loop\n",
    "\n",
    "Though not used as frequently as the <b>for</b> loop, the <b>while</b> loop allows you to execute a block of code until a certain condition is met. If you don't know before-hand how many times to iterate, then a <b>while</b> loop may be appropriate\n",
    "\n",
    "A **while** loop in Python repeatedly executes a block of code as long as a given condition is true. Here's an example:."
   ]
  },
  {
   "cell_type": "code",
   "execution_count": 16,
   "id": "abbe99fd-3082-4d48-b4f0-6349059162ad",
   "metadata": {},
   "outputs": [
    {
     "name": "stdout",
     "output_type": "stream",
     "text": [
      "Counter is 0\n",
      "Counter is 1\n",
      "Counter is 2\n",
      "Counter is 3\n",
      "Counter is 4\n",
      "Loop finished\n"
     ]
    }
   ],
   "source": [
    "# Initialize a counter variable\n",
    "counter = 0\n",
    "\n",
    "# Start the while loop\n",
    "while counter < 5:\n",
    "    print(\"Counter is\", counter)\n",
    "    # Increment the counter\n",
    "    counter += 1\n",
    "\n",
    "print(\"Loop finished\")\n",
    "\n",
    "#Note: counter += 1 is the same as:\n",
    "# counter = counter + 1"
   ]
  },
  {
   "cell_type": "markdown",
   "id": "f93ae75a-b424-4848-98fc-b7492ef3f512",
   "metadata": {},
   "source": [
    "## List Comprehensions (somewhat advanced) \n",
    "List comprehensions provide a convenient shorthand to create a new list from an existing list by performing an operation on each member of the original list. The general syntax for a simple list_comprehension looks like:\n",
    "\n",
    "[<i>python_expression_that_can_reference_var_name</i> <b>for</b> <i>var_name</i> <b>in</b> <i>list_name</i>]\n",
    "\n",
    "Below is an example of using a list comprehension to create a list of the squares of an original list."
   ]
  },
  {
   "cell_type": "code",
   "execution_count": 17,
   "id": "7ef2f1b3-1325-4bed-8091-8897aa525d63",
   "metadata": {},
   "outputs": [
    {
     "data": {
      "text/plain": [
       "[1, 4, 25, 49, 144, 289]"
      ]
     },
     "execution_count": 17,
     "metadata": {},
     "output_type": "execute_result"
    }
   ],
   "source": [
    "my_list = [1,2,5,7,12,17]\n",
    "[x*x for x in my_list]"
   ]
  },
  {
   "cell_type": "markdown",
   "id": "99579a50-eaa6-46b3-b7dd-4a66f584249b",
   "metadata": {},
   "source": [
    "You could achieve the exact same effect with a <b>for</b> loop. The above list comprehension is a more compact way to express the below for loop:"
   ]
  },
  {
   "cell_type": "code",
   "execution_count": 18,
   "id": "32d61de4-a618-4f54-9255-110bfab6014d",
   "metadata": {},
   "outputs": [
    {
     "data": {
      "text/plain": [
       "[1, 4, 25, 49, 144, 289]"
      ]
     },
     "execution_count": 18,
     "metadata": {},
     "output_type": "execute_result"
    }
   ],
   "source": [
    "my_list = [1,2,5,7,12,17]\n",
    "result_list = []\n",
    "for elt in my_list:\n",
    "    result_list.append(elt*elt)\n",
    "result_list"
   ]
  },
  {
   "cell_type": "markdown",
   "id": "727b71aa-69b3-46a6-b54b-821c0627843b",
   "metadata": {},
   "source": [
    "# Mini Project\n",
    "\n",
    "Logon to a Tableau Server/cloud and produce a list of all workbooks, with ids and save it to a csv. "
   ]
  },
  {
   "cell_type": "code",
   "execution_count": null,
   "id": "64751eae-1539-4ed9-b44b-6b83f18bfd8a",
   "metadata": {},
   "outputs": [],
   "source": [
    "# pip install tableauserverclient via terminal, if this package is not found\n",
    "import tableauserverclient as TSC\n",
    "\n",
    "# If you don't have a Tableau Cloud account you can sign up for free here: \n",
    "# Tableau Developer Programme: https://www.tableau.com/en-gb/developer\n",
    "\n",
    "# There are two ways to authenticate, which one you choose will depend on how you login to your Tableau Server:\n",
    "# - Username & Password\n",
    "# - Personal Access Token\n",
    "\n",
    "# However we do not want to share these details with the world, \n",
    "# so we will read these values from a local file, \"config\".\n",
    "# this means you can share this script without comprimising your access."
   ]
  },
  {
   "cell_type": "code",
   "execution_count": 8,
   "id": "abb73846-766e-4c48-9495-f9df7c8af573",
   "metadata": {},
   "outputs": [
    {
     "name": "stdout",
     "output_type": "stream",
     "text": [
      "\n",
      "\n"
     ]
    }
   ],
   "source": [
    "# TO DO\n",
    "\n",
    "# Under python_charmers/data is a json file \"config_lesson_8.json\"\n",
    "# Download this file and fill in your login details, Username & Password or Personal Access Token\n",
    "# Reupload this file and run the script below, you should see either your username or PAT name below\n",
    "\n",
    "import json\n",
    "\n",
    "with open('../data/config_lesson_8.json', 'r') as file:\n",
    "    config = json.load(file)\n",
    "\n",
    "username = config['username']\n",
    "password = config['password']\n",
    "pat_name = config['pat_name']\n",
    "pat_secret = config['pat_secret']\n",
    "server_url = config['server_url']\n",
    "site_name = config['site_name']\n",
    "\n",
    "print(username)\n",
    "print(pat_name)"
   ]
  },
  {
   "cell_type": "markdown",
   "id": "8f931a8f-51f3-4c6a-be13-dd43f6535821",
   "metadata": {},
   "source": [
    "## Login either Username & Password or Personal Access Token\n",
    "\n",
    "The other code block can be deleted."
   ]
  },
  {
   "cell_type": "code",
   "execution_count": null,
   "id": "78aa3e36-c506-47c2-973e-4439dfefe46c",
   "metadata": {},
   "outputs": [],
   "source": [
    "# Username & Password - Tableau Auth\n",
    "tableau_auth = TSC.TableauAuth(username, password, site_name)\n",
    "server = TSC.Server(server_url, use_server_version=True)\n",
    "server.auth.sign_in(tableau_auth)\n",
    "print('login successful')\n"
   ]
  },
  {
   "cell_type": "code",
   "execution_count": null,
   "id": "f0d17c3a-5bb4-4a1c-95dd-93d62b13f118",
   "metadata": {},
   "outputs": [],
   "source": [
    "# Personal Access Token - Tableau Auth\n",
    "tableau_auth = TSC.PersonalAccessTokenAuth(pat_name, pat_secret, site_name)\n",
    "server = TSC.Server(server_url, use_server_version=True)\n",
    "server.auth.sign_in(tableau_auth)\n",
    "print('login successful')\n"
   ]
  },
  {
   "cell_type": "code",
   "execution_count": null,
   "id": "5f2b9f3f-315d-4619-a79d-328601403b33",
   "metadata": {},
   "outputs": [],
   "source": [
    "with server.auth.sign_in(tableau_auth):\n",
    "    print('Logged into server')\n",
    "    all_workbooks, pagination_item = server.workbooks.get()\n",
    "\n",
    "# server.workbooks.get() retrieves all the workbooks from the Tableau server\n",
    "    \n",
    "# it returns two items:\n",
    "# - all_workbooks - a list of all workbooks on the server\n",
    "# - pagination_item - give details like the total number of workbooks"
   ]
  },
  {
   "cell_type": "markdown",
   "id": "13dfe66a-d331-4a3b-9c99-085202050f30",
   "metadata": {},
   "source": [
    "all_workbooks contains lots of useful information but its not in a useful format to export to a csv. \n",
    "We can use loops to iterate through the workbooks and extract useful information.\n",
    "\n",
    "### break\n",
    " \n",
    "The script below will print a single workbook from all_workbooks and then end the loop using **break**"
   ]
  },
  {
   "cell_type": "code",
   "execution_count": null,
   "id": "0b190a00-3740-442f-9199-89f4cd6d39a1",
   "metadata": {},
   "outputs": [],
   "source": [
    "for workbook in all_workbooks:\n",
    "    print(workbook)\n",
    "    break"
   ]
  },
  {
   "cell_type": "markdown",
   "id": "46b00090-c2cc-4c5f-843f-7c77c0147d24",
   "metadata": {},
   "source": [
    "Here we learn more about the WorkbookItem, the name, project folder - these are attibutes that can be extracted, for example:"
   ]
  },
  {
   "cell_type": "code",
   "execution_count": null,
   "id": "c65a896e-ccde-4419-bffe-e29a11abef88",
   "metadata": {},
   "outputs": [],
   "source": [
    "for workbook in all_workbooks:\n",
    "    print(workbook.id)\n",
    "    break"
   ]
  },
  {
   "cell_type": "markdown",
   "id": "4a13b740-4aaa-4daa-adb9-608ae258e241",
   "metadata": {},
   "source": [
    "To find all attributes we can use the function **dir()** on workbook."
   ]
  },
  {
   "cell_type": "code",
   "execution_count": null,
   "id": "dcefa62f-2241-4fb7-b43d-81fa23c35abb",
   "metadata": {},
   "outputs": [],
   "source": [
    "for workbook in all_workbooks:\n",
    "    print(dir(workbook))\n",
    "    break"
   ]
  },
  {
   "cell_type": "markdown",
   "id": "53ada88b-e3ae-4cce-94de-5dc6083242d4",
   "metadata": {},
   "source": [
    "When you use **dir()** on an object, it's useful for discovering what operations you can perform with the object or what information you can get from it. Here we have:\n",
    "\n",
    "- Attributes: variables that are associated with an object, e.g. id, name, created_at\n",
    "- Methods: functions that are associated with an object, e.g. _set_permissions, _set_views\n",
    "- \"dunder\" (double underscore) methods: predefined methods in Python, e.g. __init__, __str__\n",
    "\n",
    "Here we want the data stored in variables, Attributes, so are only interested in values that don't start with an underscore."
   ]
  },
  {
   "cell_type": "code",
   "execution_count": null,
   "id": "0c1f6a8d-03f7-4a20-8f3c-425efca2e7d7",
   "metadata": {},
   "outputs": [],
   "source": [
    "# TO DO\n",
    "\n",
    "# Login to your Tableau Server/Cloud\n",
    "\n",
    "# Find the following details about all your workbooks:\n",
    "# -id\n",
    "# - name\n",
    "# - description\n",
    "# - owner_id\n",
    "# - project_id\n",
    "# - project_name\n",
    "# - size\n",
    "# - content_url \n",
    "# - created_at\n",
    "\n",
    "# Store this data in a dataframe\n",
    "# Save the file as a csv"
   ]
  },
  {
   "cell_type": "markdown",
   "id": "70c8502c-cd7e-4aaf-964e-94c015e56859",
   "metadata": {},
   "source": [
    "## Additional Resources\n",
    "- 📰 **learnpython.org** - Loops: Interactive Lesson - https://www.learnpython.org/en/Loops\n",
    "- 📺 **Python Simplified** - Python For Loops - https://www.youtube.com/watch?v=dHANJ4l6fwA\n",
    "- 📰 **tableau.github.io** - Tableau Server Client (Python) - https://tableau.github.io/server-client-python/docs/\n",
    "\n",
    "## Summary\n",
    "\n",
    "In this lesson we learned about loops and how we can access and store data from loops to put into dataframes.\n",
    "\n",
    "## Next Lesson\n",
    "\n",
    "**[Lesson 9: APIs](./fundamentals-09-apis.ipynb)** \n",
    "Next we'll start call APIs from Python to retrieve data, loop through APIs and store that data. "
   ]
  }
 ],
 "metadata": {
  "kernelspec": {
   "display_name": "Python 3 (ipykernel)",
   "language": "python",
   "name": "python3"
  },
  "language_info": {
   "codemirror_mode": {
    "name": "ipython",
    "version": 3
   },
   "file_extension": ".py",
   "mimetype": "text/x-python",
   "name": "python",
   "nbconvert_exporter": "python",
   "pygments_lexer": "ipython3",
   "version": "3.10.10"
  }
 },
 "nbformat": 4,
 "nbformat_minor": 5
}
