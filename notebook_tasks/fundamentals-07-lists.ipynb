{
 "cells": [
  {
   "cell_type": "markdown",
   "id": "f494e021-727d-49fd-9be9-7caef053cd33",
   "metadata": {},
   "source": [
    "# Python Charmers \n",
    "\n",
    "## Python Fundamentals Lesson 7: Lists\n",
    "\n",
    "### Lesson Overview\n",
    "- **Objective:** We'll expand our knowledge on lists, accessing data in lists, modifying the data and applying it to a dataframe.   \n",
    "- **Source materials:** [Serena Bonaretti's Learn Python with Jupyter](https://www.learnpythonwithjupyter.com/)\n",
    "- **Prerequisites:** [Lesson 3 Getting Started with Pandas](./fundamentals-03-getting-started-with-pandas.ipynb)\n",
    "- **Duration:** 45 mins\n",
    "\n",
    "Our objective in this lesson is to expand your understanding of how lists work, including accessing and modifying data within lists and applying these concepts to dataframes. This lesson is designed as a continuation of our Python fundamentals series, building on the knowledge you've gained in previous lessons."
   ]
  },
  {
   "cell_type": "markdown",
   "id": "06fac205-4757-4f3e-8dc1-007fe1849999",
   "metadata": {},
   "source": [
    "# List Slicing\n",
    "\n",
    "List slicing in Python is a powerful and concise way to access a subset of elements from a list.\n",
    "\n",
    "**Basic Syntax**\n",
    "\n",
    "- The basic syntax for list slicing is **list[start:stop:step]**\n",
    "- start (optional) is the index where the slice starts. If omitted, slicing starts from the beginning (index 0).\n",
    "- \n",
    "stop (optional) is the index where the slice ends, but it's not included in the result. If omitted, slicing goes up to and including the end of the list\n",
    "- \r\n",
    "step (optional) is the step size or increment. If omitted, the default value is 1, which means every element in the specified range is included."
   ]
  },
  {
   "cell_type": "code",
   "execution_count": 17,
   "id": "5e82a985-a8f7-4c60-bfac-6e2832cadad7",
   "metadata": {},
   "outputs": [
    {
     "name": "stdout",
     "output_type": "stream",
     "text": [
      "[1, 2, 3, 4, 5]\n",
      "0\n"
     ]
    }
   ],
   "source": [
    "# view my list\n",
    "my_list = [1,2,3,4,5]\n",
    "print(my_list)\n",
    "\n",
    "# find the position of an element,\n",
    "first_item = my_list.index(1)\n",
    "print(first_item)\n",
    "# note here python counts start at 0"
   ]
  },
  {
   "cell_type": "code",
   "execution_count": 18,
   "id": "5ee4aeaa-8158-4ae0-9808-5b81230060a6",
   "metadata": {},
   "outputs": [
    {
     "name": "stdout",
     "output_type": "stream",
     "text": [
      "1\n"
     ]
    }
   ],
   "source": [
    "# find element by position\n",
    "my_list = [1,2,3,4,5]\n",
    "print(my_list[0])"
   ]
  },
  {
   "cell_type": "code",
   "execution_count": 4,
   "id": "0e616fb6-7b58-4910-9a7a-04fd00b83776",
   "metadata": {},
   "outputs": [
    {
     "name": "stdout",
     "output_type": "stream",
     "text": [
      "[1, 2, 3]\n"
     ]
    }
   ],
   "source": [
    "# I can also subset my lists with a certain range of elements\n",
    "# e.g. the first to the 3rd element\n",
    "print(my_list[0:3])"
   ]
  },
  {
   "cell_type": "markdown",
   "id": "fad453c3-d140-4b57-be65-ca8132f6a2f8",
   "metadata": {},
   "source": [
    "### Why do we only receive 3 elements?\n",
    "\n",
    "In Python, when you use the slicing syntax my_list[0:3], it means you are asking for a slice of my_list starting from index 0 (inclusive) up to, but not including, index 3. \n",
    "\n",
    "This syntax follows the format [start:stop:step], where start is the index where the slice starts, and stop is the index where the slice stops, but is not included in the result.\n"
   ]
  },
  {
   "cell_type": "code",
   "execution_count": 5,
   "id": "5f28b78c-00f3-4622-9818-2dc5c65dd015",
   "metadata": {},
   "outputs": [
    {
     "name": "stdout",
     "output_type": "stream",
     "text": [
      "[1, 2, 3]\n",
      "[1, 2, 3]\n"
     ]
    }
   ],
   "source": [
    "# e.g. the first to the 3rd element\n",
    "print(my_list[0:3])\n",
    "\n",
    "# this can be rewritten as,\n",
    "# all elements stopping before index 3, i.e. the 4th number\n",
    "print(my_list[:3])"
   ]
  },
  {
   "cell_type": "code",
   "execution_count": 6,
   "id": "52dfd8ea-6dea-49e0-9c57-859ac74fedb6",
   "metadata": {},
   "outputs": [
    {
     "name": "stdout",
     "output_type": "stream",
     "text": [
      "[4, 5]\n"
     ]
    }
   ],
   "source": [
    "# Similarly this will give all elements starting at index 3, i.e. the 4th number\n",
    "print(my_list[3:])"
   ]
  },
  {
   "cell_type": "code",
   "execution_count": 19,
   "id": "4f9ab4c7-76b1-4b28-af06-ac813abcbc11",
   "metadata": {},
   "outputs": [
    {
     "name": "stdout",
     "output_type": "stream",
     "text": [
      "[1, 3, 5]\n"
     ]
    }
   ],
   "source": [
    "# Or using step we can return every other elements\n",
    "print(my_list[::2])"
   ]
  },
  {
   "cell_type": "markdown",
   "id": "e8d9b22a-3176-4a7e-a0c1-4245818efd42",
   "metadata": {},
   "source": [
    "### Lists becoming dataframe columns\n",
    "\n",
    "List can become columns in a dataframe or a dataframe column can become a list. "
   ]
  },
  {
   "cell_type": "code",
   "execution_count": 20,
   "id": "abbe99fd-3082-4d48-b4f0-6349059162ad",
   "metadata": {},
   "outputs": [
    {
     "name": "stdout",
     "output_type": "stream",
     "text": [
      "  friends   dishes\n",
      "0  Geetha    sushi\n",
      "1    Luca  burgers\n",
      "2   Daisy    tacos\n",
      "3   Juhan    pizza\n"
     ]
    }
   ],
   "source": [
    "import pandas as pd\n",
    "\n",
    "# Define lists\n",
    "friends = [\"Geetha\", \"Luca\", \"Daisy\", \"Juhan\"]\n",
    "dishes  = [\"sushi\", \"burgers\", \"tacos\", \"pizza\"]\n",
    "\n",
    "# Create dataframe and assign columns\n",
    "df = pd.DataFrame()\n",
    "df['friends'] = friends\n",
    "df['dishes'] = dishes\n",
    "print(df)"
   ]
  },
  {
   "cell_type": "code",
   "execution_count": 8,
   "id": "54eee28e-4cc9-4da3-a3ad-e327057c0384",
   "metadata": {},
   "outputs": [
    {
     "name": "stdout",
     "output_type": "stream",
     "text": [
      "sushi\n",
      "['sushi', 'burgers', 'tacos', 'pizza']\n"
     ]
    }
   ],
   "source": [
    "# columns in the dataframe can be indexed like a list\n",
    "# i.e. return the first value (element) in this column\n",
    "print(df['dishes'][0])\n",
    "\n",
    "# And converted to a list too\n",
    "friends_dishes = df['dishes'].tolist()\n",
    "print(friends_dishes)"
   ]
  },
  {
   "cell_type": "markdown",
   "id": "f93ae75a-b424-4848-98fc-b7492ef3f512",
   "metadata": {},
   "source": [
    "# List assignment\n",
    "\n",
    "We can create list from existing lists, however **lists are mutable**. This means that they can be changed after they are created. When you assign one list to another (e.g., new_list = given_list), you're not creating a new list; you're creating a reference to the original list. So, any changes made to new_list will also be reflected in given_list.\n",
    "\n",
    "Let's see this in action..."
   ]
  },
  {
   "cell_type": "code",
   "execution_count": 9,
   "id": "7ef2f1b3-1325-4bed-8091-8897aa525d63",
   "metadata": {},
   "outputs": [
    {
     "name": "stdout",
     "output_type": "stream",
     "text": [
      "[1, 2, 3]\n"
     ]
    }
   ],
   "source": [
    "given_list = [1,2,3]\n",
    "print(given_list)"
   ]
  },
  {
   "cell_type": "code",
   "execution_count": 11,
   "id": "32d61de4-a618-4f54-9255-110bfab6014d",
   "metadata": {},
   "outputs": [
    {
     "name": "stdout",
     "output_type": "stream",
     "text": [
      "[1, 2, 3]\n"
     ]
    }
   ],
   "source": [
    "# Assign given_list to new_list:\n",
    "new_list = given_list \n",
    "print(new_list)"
   ]
  },
  {
   "cell_type": "code",
   "execution_count": 12,
   "id": "f7db2c25-0449-4dd7-88fc-c2d255edcfac",
   "metadata": {},
   "outputs": [
    {
     "name": "stdout",
     "output_type": "stream",
     "text": [
      "[10, 2, 3]\n"
     ]
    }
   ],
   "source": [
    "# Change the first element of `new_list`:\n",
    "new_list[0] = 10\n",
    "print(new_list)"
   ]
  },
  {
   "cell_type": "code",
   "execution_count": 13,
   "id": "9f497099-e692-4cce-b725-fead2c262225",
   "metadata": {},
   "outputs": [
    {
     "name": "stdout",
     "output_type": "stream",
     "text": [
      "[10, 2, 3]\n"
     ]
    }
   ],
   "source": [
    "# However view the previous list, `given_list`:\n",
    "print(given_list)"
   ]
  },
  {
   "cell_type": "markdown",
   "id": "cd226afe-4746-45b7-b248-ae6d1f9380a2",
   "metadata": {},
   "source": [
    "### How can we create an independent copy of a list?\n",
    "\n",
    "The method copy() creates a new list with the same elements as the original list. \n",
    "In this example, **new_list = given_list.copy()** creates a separate object new_list that is independent of given_list"
   ]
  },
  {
   "cell_type": "code",
   "execution_count": 16,
   "id": "4d84c8db-a0df-4a26-b104-7ee52de28859",
   "metadata": {},
   "outputs": [
    {
     "name": "stdout",
     "output_type": "stream",
     "text": [
      "[1, 2, 3]\n",
      "[40, 2, 3]\n"
     ]
    }
   ],
   "source": [
    "given_list  = [1,2,3]\n",
    "new_list = given_list.copy()\n",
    "new_list[0] = 40\n",
    "print(given_list)\n",
    "print(new_list)"
   ]
  },
  {
   "cell_type": "markdown",
   "id": "e58cffd6-e98a-4f89-9275-f9dab7cfa267",
   "metadata": {},
   "source": [
    "### Deep vs Shallow Copy \n",
    "\n",
    "It's worth noting that copy() creates a shallow copy. This means it copies the references of the objects contained in the list, not the actual nested objects. \n",
    "\n",
    "If you have nested lists or complex objects, you might need a **deep copy** (using the copy.deepcopy() function) to ensure that nested objects are independently copied as well."
   ]
  },
  {
   "cell_type": "markdown",
   "id": "fcb2a491-16ff-45ee-8f11-89533710022a",
   "metadata": {},
   "source": [
    "# Adding & removing elements or lists to a list  \n",
    "\n",
    "Lists are dynamic and can be modified. This section covers how to add and remove elements to/from a list, an essential skill for effective data manipulation in Python."
   ]
  },
  {
   "cell_type": "code",
   "execution_count": 21,
   "id": "5418424f-2d17-4c41-a935-2fc0e1ccc99a",
   "metadata": {},
   "outputs": [
    {
     "name": "stdout",
     "output_type": "stream",
     "text": [
      "[1, 2, 3, 4]\n"
     ]
    }
   ],
   "source": [
    "# Add one element at the end of a list:\n",
    "numbers = [1,2,3]\n",
    "numbers.append(4)\n",
    "print(numbers)"
   ]
  },
  {
   "cell_type": "code",
   "execution_count": 22,
   "id": "76211886-aa68-4a74-a51b-3bbb387ea94d",
   "metadata": {},
   "outputs": [
    {
     "name": "stdout",
     "output_type": "stream",
     "text": [
      "[1, 2, 3, 4]\n"
     ]
    }
   ],
   "source": [
    "# Insert the number 2 in position 1:\n",
    "numbers = [1,3,4]\n",
    "numbers.insert(1,2)\n",
    "print(numbers)"
   ]
  },
  {
   "cell_type": "code",
   "execution_count": 23,
   "id": "fa5bc8af-c683-44e7-b2d6-af993265e444",
   "metadata": {},
   "outputs": [
    {
     "name": "stdout",
     "output_type": "stream",
     "text": [
      "[1, 2, 3, 4, 5, 6]\n"
     ]
    }
   ],
   "source": [
    "# Concatenate two lists:\n",
    "first_list  = [1,2,3]\n",
    "second_list = [4,5,6]\n",
    "third_list  =  first_list + second_list\n",
    "print(third_list)"
   ]
  },
  {
   "cell_type": "code",
   "execution_count": 24,
   "id": "e851b425-0f47-427d-b3e5-819e3344a555",
   "metadata": {},
   "outputs": [
    {
     "name": "stdout",
     "output_type": "stream",
     "text": [
      "[1, 2, 3, 4, 5, 6]\n"
     ]
    }
   ],
   "source": [
    "# Add one list at the end of another list:\n",
    "first_list  = [1,2,3]\n",
    "second_list = [4,5,6]\n",
    "first_list.extend(second_list)\n",
    "print(first_list)"
   ]
  },
  {
   "cell_type": "markdown",
   "id": "9e76dd89-caa6-42ff-b980-a014d33cb208",
   "metadata": {},
   "source": [
    "### Removing elements from a list  "
   ]
  },
  {
   "cell_type": "code",
   "execution_count": 25,
   "id": "a79102af-265e-4e21-955f-ecfde4497ed3",
   "metadata": {},
   "outputs": [
    {
     "name": "stdout",
     "output_type": "stream",
     "text": [
      "['ciao', 'hello']\n"
     ]
    }
   ],
   "source": [
    "# From the following list, remove all the elements `\"ciao\"`:\n",
    "greetings = [\"ciao\", \"ciao\", \"hello\"] \n",
    "greetings.remove(\"ciao\")\n",
    "print(greetings)"
   ]
  },
  {
   "cell_type": "code",
   "execution_count": 26,
   "id": "f4af3c19-a9d5-45e1-ae13-6b748a2a00f3",
   "metadata": {},
   "outputs": [
    {
     "name": "stdout",
     "output_type": "stream",
     "text": [
      "['ciao', 'ciao']\n"
     ]
    }
   ],
   "source": [
    "# Remove the string `\"hello\"` based on its position:\n",
    "greetings = [\"ciao\", \"ciao\", \"hello\"] \n",
    "greetings.pop(2)\n",
    "print(greetings)"
   ]
  },
  {
   "cell_type": "code",
   "execution_count": 27,
   "id": "c648c457-3427-4858-b1ea-c8f4e5914d59",
   "metadata": {},
   "outputs": [
    {
     "name": "stdout",
     "output_type": "stream",
     "text": [
      "[]\n"
     ]
    }
   ],
   "source": [
    "# Remove all elements in a list:\n",
    "greetings = [\"ciao\", \"ciao\", \"hello\"] \n",
    "greetings.clear()\n",
    "print(greetings) "
   ]
  },
  {
   "cell_type": "markdown",
   "id": "727b71aa-69b3-46a6-b54b-821c0627843b",
   "metadata": {},
   "source": [
    "# Mini Project\n",
    "\n",
    "You are given a dataset of a small book store. The dataset contains information about books, including their titles, authors, publication years, and genres. \n",
    "\n",
    "Your task is to perform various operations to analyze and modify this dataset using list and dataframe operations."
   ]
  },
  {
   "cell_type": "code",
   "execution_count": null,
   "id": "64751eae-1539-4ed9-b44b-6b83f18bfd8a",
   "metadata": {},
   "outputs": [],
   "source": [
    "columns = ['Title', 'Author', 'Year', 'Genre']\n",
    "\n",
    "data = [\n",
    "    ['To Kill a Mockingbird', 'Harper Lee', 1960, 'Fiction'], \n",
    "    ['1984', 'George Orwell', 1949, 'Dystopian'], \n",
    "    ['The Great Gatsby', 'F. Scott Fitzgerald', 1925, 'Fiction']\n",
    "]\n",
    "\n",
    "# To Do:\n",
    "\n",
    "# 1. Data Extraction:\n",
    "# Extract the 'Year' column from the dataset and store it in a separate list.\n",
    "# Use list slicing to create a list of publication years for books published after 1950.\n",
    "\n",
    "\n",
    "# 2. Data Modification:\n",
    "# The genre 'Fiction' is being updated to 'Classic Fiction'. Modify the 'Genre' column to reflect this change.\n",
    "\n",
    "\n",
    "# 3. Adding Data\n",
    "# Add this new book to the dataset\n",
    "new_book = ['Brave New World', 'Aldous Huxley', 1932, 'Dystopian']\n",
    "\n",
    "\n"
   ]
  },
  {
   "cell_type": "markdown",
   "id": "70c8502c-cd7e-4aaf-964e-94c015e56859",
   "metadata": {},
   "source": [
    "## Additional Resources\n",
    "- 📰 **dataquest.io** - Tutorial: Demystifying Python Lists - https://www.dataquest.io/blog/tutorial-demystifying-python-lists/\n",
    "- 📺 **Indently** ALL 11 LIST METHODS IN PYTHON EXPLAINED - https://www.youtube.com/watch?v=0yySumZTxJ0\n",
    "\n",
    "## Summary\n",
    "\n",
    "In this lesson explored more ways work with data in lists and how we can convert lists to dataframe columns, or convert dataframe columns to lists. \n",
    "\n",
    "## Next Lesson\n",
    "\n",
    "**[Lesson 8: Loops](./fundamentals-08-loops.ipynb)** \n",
    "Next we'll start iterating through lists to perform different actions."
   ]
  }
 ],
 "metadata": {
  "kernelspec": {
   "display_name": "Python 3 (ipykernel)",
   "language": "python",
   "name": "python3"
  },
  "language_info": {
   "codemirror_mode": {
    "name": "ipython",
    "version": 3
   },
   "file_extension": ".py",
   "mimetype": "text/x-python",
   "name": "python",
   "nbconvert_exporter": "python",
   "pygments_lexer": "ipython3",
   "version": "3.10.10"
  }
 },
 "nbformat": 4,
 "nbformat_minor": 5
}
