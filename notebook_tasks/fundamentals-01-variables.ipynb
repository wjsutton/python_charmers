{
 "cells": [
  {
   "cell_type": "markdown",
   "id": "7c15594d-e56d-4148-9c93-4ab0bb24a268",
   "metadata": {},
   "source": [
    "# Python Charmers \n",
    "\n",
    "## Python Fundamentals Lesson 1: Variables\n",
    "\n",
    "### Lesson Overview\n",
    "- **Objective:** This lesson gets you started with the basics for handling data in Python.\n",
    "- **Source materials** Original content\n",
    "- **Prerequisites:** None\n",
    "- **Duration:** 15 mins"
   ]
  },
  {
   "cell_type": "markdown",
   "id": "4609a9f0-3cda-4c9c-a7e2-36a7683df4f5",
   "metadata": {},
   "source": [
    "## Variables\n",
    "\n",
    "A variable in Python is like a container or a label that you can use to store information. Think of it as a box where you can put something, like a number or a piece of text, and then use that box's label to refer to what's inside it later in your program.\n",
    "\n",
    "For data analysts, variables are extremely useful for several reasons:\n",
    "- **Storing Data**: Variables can hold data that you need to analyze. This could be numbers, text, dates, or more complex data like lists and tables.\n",
    "- **Code Readability**: By giving meaningful names to variables (like sales_data or customer_age), your code becomes easier to read and understand. This is especially important when you're working on large projects or collaborating with others.\n",
    "- **Manipulating Data**: Variables allow you to easily manipulate data. For example, you can perform calculations on numerical data, combine text data, or reorganize lists.\n",
    "- **Reusability**: Once you store data in a variable, you can use it multiple times throughout your program without having to retype it or retrieve it again from its original source.\n",
    "- **Dynamic Analysis**: Variables make your analysis dynamic. Instead of having hard-coded values, you can change the values of variables to see how different inputs affect your analysis results.\n",
    "\n",
    "Let's see some in action...\n"
   ]
  },
  {
   "cell_type": "code",
   "execution_count": 1,
   "id": "d713b683-43e3-4731-92cc-fb8455267ea0",
   "metadata": {},
   "outputs": [
    {
     "name": "stdout",
     "output_type": "stream",
     "text": [
      "Bob\n",
      "321\n"
     ]
    }
   ],
   "source": [
    "# Define text & int variables\n",
    "my_name = 'Bob'\n",
    "print(my_name)\n",
    "\n",
    "my_fav_number = 321\n",
    "print(my_fav_number)"
   ]
  },
  {
   "cell_type": "code",
   "execution_count": 2,
   "id": "2ce1b33d-9d65-4347-ac07-fd06e0cb0d8a",
   "metadata": {},
   "outputs": [
    {
     "name": "stdout",
     "output_type": "stream",
     "text": [
      "Not Bob\n",
      "4321\n",
      "8321\n"
     ]
    }
   ],
   "source": [
    "# Update variables\n",
    "# a) reassign a new value to the variable\n",
    "my_name = 'Not Bob'\n",
    "print(my_name)\n",
    "\n",
    "# b) modify the existing variable\n",
    "my_fav_number = my_fav_number + 4000\n",
    "print(my_fav_number)\n",
    "\n",
    "# which you may also see written as \n",
    "my_fav_number += 4000\n",
    "print(my_fav_number)"
   ]
  },
  {
   "cell_type": "markdown",
   "id": "9ee5f7ce-9c81-4a7e-a2a1-6c6e92df4a39",
   "metadata": {},
   "source": [
    "Variables don't just store single values. They can also be a store of different objects, such as lists, dataframes, files.\n",
    "\n",
    "In the example below we are creating lists and storing them as variables:\n",
    "\n",
    "- numbers, fruits, and mixed_list are variable.\n",
    "- Each of these variables is storing a different list\n",
    "t-\n",
    "Lists can be accessed and manipulated using these variables."
   ]
  },
  {
   "cell_type": "code",
   "execution_count": 3,
   "id": "8cd6e16d-a739-4864-aaf7-aa10b5b17745",
   "metadata": {},
   "outputs": [
    {
     "name": "stdout",
     "output_type": "stream",
     "text": [
      "Numbers: [1, 2, 3, 4, 5]\n",
      "Fruits: ['apple', 'banana', 'cherry']\n",
      "Mixed List: [42, 'hello', 3.14, [1, 2, 3]]\n",
      "First fruit: apple\n",
      "Second number: 2\n"
     ]
    }
   ],
   "source": [
    "# Creating a list of numbers\n",
    "numbers = [1, 2, 3, 4, 5]\n",
    "\n",
    "# Creating a list of strings\n",
    "fruits = [\"apple\", \"banana\", \"cherry\"]\n",
    "\n",
    "# Creating a mixed list\n",
    "mixed_list = [42, \"hello\", 3.14, [1, 2, 3]]\n",
    "\n",
    "# Printing the lists\n",
    "print(\"Numbers:\", numbers)\n",
    "print(\"Fruits:\", fruits)\n",
    "print(\"Mixed List:\", mixed_list)\n",
    "\n",
    "# Accessing elements in the list\n",
    "first_fruit = fruits[0]  # 'apple'\n",
    "second_number = numbers[1]  # 2\n",
    "\n",
    "# print list selections\n",
    "print(\"First fruit:\", first_fruit)\n",
    "print(\"Second number:\", second_number)"
   ]
  },
  {
   "cell_type": "markdown",
   "id": "3f0eaa60-ea14-45c0-9060-abb875ca74dc",
   "metadata": {},
   "source": [
    "*Note: when accessing data from variables the count starts at 0. \n",
    "e.g. fruits[0] is the first fruit from the list 'fruits'*"
   ]
  },
  {
   "cell_type": "markdown",
   "id": "8bcb2257-816e-4910-8340-cf419d7e3000",
   "metadata": {},
   "source": [
    "## Exercises"
   ]
  },
  {
   "cell_type": "code",
   "execution_count": 4,
   "id": "a86940ee-483f-4aa4-ba7b-ba677f009e91",
   "metadata": {},
   "outputs": [
    {
     "name": "stdout",
     "output_type": "stream",
     "text": [
      "The sum of 8 and 4 is None.\n",
      "The product of 8 and 4 is None.\n"
     ]
    }
   ],
   "source": [
    "# Exercise 1: Completing a Simple Calculator\n",
    "# Objective: Finish a partially built calculator to understand variable assignments and basic arithmetic operations.\n",
    "\n",
    "# Starting Code:\n",
    "# Given values\n",
    "number1 = 8\n",
    "number2 = 4\n",
    "\n",
    "# Sum - Complete the operation\n",
    "sum_result = None  # Replace None with the correct operation\n",
    "\n",
    "# Product - Complete the operation\n",
    "product_result = None  # Replace None with the correct operation\n",
    "\n",
    "# Print results (do not modify)\n",
    "print(f\"The sum of {number1} and {number2} is {sum_result}.\")\n",
    "print(f\"The product of {number1} and {number2} is {product_result}.\")"
   ]
  },
  {
   "cell_type": "code",
   "execution_count": 5,
   "id": "2be2f32b-a5fc-46e9-a408-a62a89276f2e",
   "metadata": {},
   "outputs": [
    {
     "name": "stdout",
     "output_type": "stream",
     "text": [
      "My favorite food is \n"
     ]
    }
   ],
   "source": [
    "# Exercise 2: Favorite Foods List Manipulation\n",
    "# Objective: Complete a script to manipulate a list of favorite foods and use string concatenation.\n",
    "\n",
    "# Starting Code:\n",
    "# Favorite foods list (do not modify)\n",
    "favorite_foods = [\"pizza\", \"sushi\", \"tacos\", \"pasta\", \"salad\"]\n",
    "\n",
    "# Print the entire list (Complete the code)\n",
    "# TODO: Print the list here\n",
    "\n",
    "# Print the third item in the list (Complete the code)\n",
    "# TODO: Print the third item here\n",
    "\n",
    "# Favorite food sentence (Complete the code)\n",
    "favorite_sentence = \"My favorite food is \"  # Add the favorite food from the list\n",
    "print(favorite_sentence)"
   ]
  },
  {
   "cell_type": "code",
   "execution_count": 6,
   "id": "16f0b862-560a-4369-9d3e-68158de1ba7f",
   "metadata": {},
   "outputs": [
    {
     "name": "stdout",
     "output_type": "stream",
     "text": [
      "Average: None\n",
      "Maximum: None\n",
      "Minimum: None\n"
     ]
    }
   ],
   "source": [
    "# Exercise 3: Simple aggreations\n",
    "# Objective: Complete the analysis of a dataset to find average, maximum, and minimum values.\n",
    "\n",
    "# Starting Code:\n",
    "# Given dataset (do not modify)\n",
    "data = [23, 17, 34, 29, 12, 38, 45, 24]\n",
    "\n",
    "# Average calculation (Complete the code)\n",
    "average = None  # Replace None with the calculation\n",
    "\n",
    "# Find max and min (Complete the code)\n",
    "max_value = None  # Replace None with the calculation\n",
    "min_value = None  # Replace None with the calculation\n",
    "\n",
    "# Print results (do not modify)\n",
    "print(f\"Average: {average}\")\n",
    "print(f\"Maximum: {max_value}\")\n",
    "print(f\"Minimum: {min_value}\")"
   ]
  },
  {
   "cell_type": "markdown",
   "id": "536b31a4-3f11-4848-a990-e3d44ab4413e",
   "metadata": {},
   "source": [
    "## Additional Resources\n",
    "- 📺 **Python for Everyone** Variables, expressions and statements: https://www.py4e.com/lessons/memory\n",
    "- 📰**Real Python** Variables in Python https://realpython.com/python-variables/\n",
    "- 📺 📰 **Simlilearn** Python Variables https://www.simplilearn.com/tutorials/python-tutorial/python-variables\n",
    "\n",
    "## Summary\n",
    "\n",
    "Variables are the building blocks of any Python program, serving as containers to store data. We delved into different types of variables, such as strings for text, integers for whole numbers, and lists for collections of items.\n",
    "\n",
    "Remember, variables are crucial for storing and manipulating data, making your code reusable and dynamic. As you move forward in your Python learning journey, you'll see how variables play a role in more complex operations and problem-solving scenarios.\n",
    "\n",
    "## Next Lesson\n",
    "\n",
    "**[Lesson 2: Packages](./fundamentals-02-packages.ipynb)** \n",
    "In this lesson we'll be installing packages to do much more with Python."
   ]
  }
 ],
 "metadata": {
  "kernelspec": {
   "display_name": "Python 3 (ipykernel)",
   "language": "python",
   "name": "python3"
  },
  "language_info": {
   "codemirror_mode": {
    "name": "ipython",
    "version": 3
   },
   "file_extension": ".py",
   "mimetype": "text/x-python",
   "name": "python",
   "nbconvert_exporter": "python",
   "pygments_lexer": "ipython3",
   "version": "3.10.10"
  }
 },
 "nbformat": 4,
 "nbformat_minor": 5
}
