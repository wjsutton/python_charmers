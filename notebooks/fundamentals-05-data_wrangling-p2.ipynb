{
 "cells": [
  {
   "cell_type": "markdown",
   "id": "03ad7f69-c3e9-4ce8-a044-fd12502fd622",
   "metadata": {
    "slideshow": {
     "slide_type": "slide"
    },
    "tags": []
   },
   "source": [
    "# Python Charmers \n",
    "\n",
    "## Python Fundamentals Lesson 5: Data Wrangling Part 2\n",
    "\n",
    "### Lesson Overview\n",
    "- **Objective:** This lesson dives into data prep with pandas and numpy\n",
    "- **Source materials:** [stefmolin/\n",
    "pandas-workshop](https://github.com/stefmolin/pandas-workshop/blob/37c6e9cca94c29a4c5ffc8be6b241da8fb8ecb53/notebooks/2-data_wrangling.ipynb)\n",
    "- **Prerequisites:** [Lesson 2: Packages](./fundamentals-02-packages.ipynb)\n",
    "- **Duration:** 45 mins\n",
    "\n",
    "In this section, we continue data wrangling into more advanced ways of restructuring, reshaping, and enriching data."
   ]
  },
  {
   "cell_type": "markdown",
   "id": "25a31c80-88f8-4f4d-9192-80a7bf7e9689",
   "metadata": {
    "slideshow": {
     "slide_type": "slide"
    },
    "tags": []
   },
   "source": [
    "## Reshaping data\n",
    "\n",
    "The taxi dataset we have be working with is in a format conducive to an analysis. This isn't always the case. Let's now take a look at the TSA traveler throughput data, which compares 2021 throughput to the same day in 2020 and 2019:"
   ]
  },
  {
   "cell_type": "code",
   "execution_count": 1,
   "id": "f9fc17ff-40a4-4e01-b56a-fea6ed3ca471",
   "metadata": {
    "slideshow": {
     "slide_type": "fragment"
    },
    "tags": []
   },
   "outputs": [
    {
     "data": {
      "text/html": [
       "<div>\n",
       "<style scoped>\n",
       "    .dataframe tbody tr th:only-of-type {\n",
       "        vertical-align: middle;\n",
       "    }\n",
       "\n",
       "    .dataframe tbody tr th {\n",
       "        vertical-align: top;\n",
       "    }\n",
       "\n",
       "    .dataframe thead th {\n",
       "        text-align: right;\n",
       "    }\n",
       "</style>\n",
       "<table border=\"1\" class=\"dataframe\">\n",
       "  <thead>\n",
       "    <tr style=\"text-align: right;\">\n",
       "      <th></th>\n",
       "      <th>Date</th>\n",
       "      <th>2021 Traveler Throughput</th>\n",
       "      <th>2020 Traveler Throughput</th>\n",
       "      <th>2019 Traveler Throughput</th>\n",
       "    </tr>\n",
       "  </thead>\n",
       "  <tbody>\n",
       "    <tr>\n",
       "      <th>0</th>\n",
       "      <td>2021-05-14</td>\n",
       "      <td>1716561.0</td>\n",
       "      <td>250467</td>\n",
       "      <td>2664549</td>\n",
       "    </tr>\n",
       "    <tr>\n",
       "      <th>1</th>\n",
       "      <td>2021-05-13</td>\n",
       "      <td>1743515.0</td>\n",
       "      <td>234928</td>\n",
       "      <td>2611324</td>\n",
       "    </tr>\n",
       "    <tr>\n",
       "      <th>2</th>\n",
       "      <td>2021-05-12</td>\n",
       "      <td>1424664.0</td>\n",
       "      <td>176667</td>\n",
       "      <td>2343675</td>\n",
       "    </tr>\n",
       "    <tr>\n",
       "      <th>3</th>\n",
       "      <td>2021-05-11</td>\n",
       "      <td>1315493.0</td>\n",
       "      <td>163205</td>\n",
       "      <td>2191387</td>\n",
       "    </tr>\n",
       "    <tr>\n",
       "      <th>4</th>\n",
       "      <td>2021-05-10</td>\n",
       "      <td>1657722.0</td>\n",
       "      <td>215645</td>\n",
       "      <td>2512315</td>\n",
       "    </tr>\n",
       "  </tbody>\n",
       "</table>\n",
       "</div>"
      ],
      "text/plain": [
       "        Date  2021 Traveler Throughput  2020 Traveler Throughput  \\\n",
       "0 2021-05-14                 1716561.0                    250467   \n",
       "1 2021-05-13                 1743515.0                    234928   \n",
       "2 2021-05-12                 1424664.0                    176667   \n",
       "3 2021-05-11                 1315493.0                    163205   \n",
       "4 2021-05-10                 1657722.0                    215645   \n",
       "\n",
       "   2019 Traveler Throughput  \n",
       "0                   2664549  \n",
       "1                   2611324  \n",
       "2                   2343675  \n",
       "3                   2191387  \n",
       "4                   2512315  "
      ]
     },
     "execution_count": 1,
     "metadata": {},
     "output_type": "execute_result"
    }
   ],
   "source": [
    "import pandas as pd\n",
    "\n",
    "tsa = pd.read_csv('../data/tsa_passenger_throughput.csv', parse_dates=['Date'])\n",
    "tsa.head()"
   ]
  },
  {
   "cell_type": "markdown",
   "id": "43a2f0b0-affe-4ec4-906c-26401b750dc0",
   "metadata": {},
   "source": [
    "*Source: [TSA.gov](https://www.tsa.gov/coronavirus/passenger-throughput)*"
   ]
  },
  {
   "cell_type": "markdown",
   "id": "71419100-c9d2-4e8d-a0e3-440d0d9ebded",
   "metadata": {
    "slideshow": {
     "slide_type": "subslide"
    },
    "tags": []
   },
   "source": [
    "First, we will lowercase the column names and take the first word (e.g., `2021` for `2021 Traveler Throughput`) to make this easier to work with:"
   ]
  },
  {
   "cell_type": "code",
   "execution_count": 2,
   "id": "cdaa7ddd-57f4-41ca-b8ff-24d93d44f0b5",
   "metadata": {},
   "outputs": [
    {
     "data": {
      "text/html": [
       "<div>\n",
       "<style scoped>\n",
       "    .dataframe tbody tr th:only-of-type {\n",
       "        vertical-align: middle;\n",
       "    }\n",
       "\n",
       "    .dataframe tbody tr th {\n",
       "        vertical-align: top;\n",
       "    }\n",
       "\n",
       "    .dataframe thead th {\n",
       "        text-align: right;\n",
       "    }\n",
       "</style>\n",
       "<table border=\"1\" class=\"dataframe\">\n",
       "  <thead>\n",
       "    <tr style=\"text-align: right;\">\n",
       "      <th></th>\n",
       "      <th>date</th>\n",
       "      <th>2021</th>\n",
       "      <th>2020</th>\n",
       "      <th>2019</th>\n",
       "    </tr>\n",
       "  </thead>\n",
       "  <tbody>\n",
       "    <tr>\n",
       "      <th>0</th>\n",
       "      <td>2021-05-14</td>\n",
       "      <td>1716561.0</td>\n",
       "      <td>250467</td>\n",
       "      <td>2664549</td>\n",
       "    </tr>\n",
       "    <tr>\n",
       "      <th>1</th>\n",
       "      <td>2021-05-13</td>\n",
       "      <td>1743515.0</td>\n",
       "      <td>234928</td>\n",
       "      <td>2611324</td>\n",
       "    </tr>\n",
       "    <tr>\n",
       "      <th>2</th>\n",
       "      <td>2021-05-12</td>\n",
       "      <td>1424664.0</td>\n",
       "      <td>176667</td>\n",
       "      <td>2343675</td>\n",
       "    </tr>\n",
       "    <tr>\n",
       "      <th>3</th>\n",
       "      <td>2021-05-11</td>\n",
       "      <td>1315493.0</td>\n",
       "      <td>163205</td>\n",
       "      <td>2191387</td>\n",
       "    </tr>\n",
       "    <tr>\n",
       "      <th>4</th>\n",
       "      <td>2021-05-10</td>\n",
       "      <td>1657722.0</td>\n",
       "      <td>215645</td>\n",
       "      <td>2512315</td>\n",
       "    </tr>\n",
       "  </tbody>\n",
       "</table>\n",
       "</div>"
      ],
      "text/plain": [
       "        date       2021    2020     2019\n",
       "0 2021-05-14  1716561.0  250467  2664549\n",
       "1 2021-05-13  1743515.0  234928  2611324\n",
       "2 2021-05-12  1424664.0  176667  2343675\n",
       "3 2021-05-11  1315493.0  163205  2191387\n",
       "4 2021-05-10  1657722.0  215645  2512315"
      ]
     },
     "execution_count": 2,
     "metadata": {},
     "output_type": "execute_result"
    }
   ],
   "source": [
    "tsa = tsa.rename(columns=lambda x: x.lower().split()[0])\n",
    "tsa.head()"
   ]
  },
  {
   "cell_type": "markdown",
   "id": "2a39b842-3f40-4951-9a38-7dfd492ef608",
   "metadata": {
    "slideshow": {
     "slide_type": "fragment"
    },
    "tags": []
   },
   "source": [
    "Now, we can work on reshaping it."
   ]
  },
  {
   "cell_type": "markdown",
   "id": "fc0b0c08-5cb6-4523-9dcc-4ea9a7e2607f",
   "metadata": {
    "slideshow": {
     "slide_type": "subslide"
    },
    "tags": []
   },
   "source": [
    "### Melting\n",
    "\n",
    "Melting helps convert our data into long format. Now, we have all the traveler throughput numbers in a single column:"
   ]
  },
  {
   "cell_type": "code",
   "execution_count": 3,
   "id": "ebcfe696-5e4c-49e9-b281-1b7722cad24b",
   "metadata": {},
   "outputs": [
    {
     "data": {
      "text/html": [
       "<div>\n",
       "<style scoped>\n",
       "    .dataframe tbody tr th:only-of-type {\n",
       "        vertical-align: middle;\n",
       "    }\n",
       "\n",
       "    .dataframe tbody tr th {\n",
       "        vertical-align: top;\n",
       "    }\n",
       "\n",
       "    .dataframe thead th {\n",
       "        text-align: right;\n",
       "    }\n",
       "</style>\n",
       "<table border=\"1\" class=\"dataframe\">\n",
       "  <thead>\n",
       "    <tr style=\"text-align: right;\">\n",
       "      <th></th>\n",
       "      <th>date</th>\n",
       "      <th>year</th>\n",
       "      <th>travelers</th>\n",
       "    </tr>\n",
       "  </thead>\n",
       "  <tbody>\n",
       "    <tr>\n",
       "      <th>974</th>\n",
       "      <td>2020-09-12</td>\n",
       "      <td>2019</td>\n",
       "      <td>1879822.0</td>\n",
       "    </tr>\n",
       "    <tr>\n",
       "      <th>435</th>\n",
       "      <td>2021-03-05</td>\n",
       "      <td>2020</td>\n",
       "      <td>2198517.0</td>\n",
       "    </tr>\n",
       "    <tr>\n",
       "      <th>1029</th>\n",
       "      <td>2020-07-19</td>\n",
       "      <td>2019</td>\n",
       "      <td>2727355.0</td>\n",
       "    </tr>\n",
       "    <tr>\n",
       "      <th>680</th>\n",
       "      <td>2020-07-03</td>\n",
       "      <td>2020</td>\n",
       "      <td>718988.0</td>\n",
       "    </tr>\n",
       "    <tr>\n",
       "      <th>867</th>\n",
       "      <td>2020-12-28</td>\n",
       "      <td>2019</td>\n",
       "      <td>2500396.0</td>\n",
       "    </tr>\n",
       "  </tbody>\n",
       "</table>\n",
       "</div>"
      ],
      "text/plain": [
       "           date  year  travelers\n",
       "974  2020-09-12  2019  1879822.0\n",
       "435  2021-03-05  2020  2198517.0\n",
       "1029 2020-07-19  2019  2727355.0\n",
       "680  2020-07-03  2020   718988.0\n",
       "867  2020-12-28  2019  2500396.0"
      ]
     },
     "execution_count": 3,
     "metadata": {},
     "output_type": "execute_result"
    }
   ],
   "source": [
    "tsa_melted = pd.melt(tsa, # our dataframe\n",
    "    id_vars=['date'], # column, or list of columnd that uniquely identifies a row (can be multiple)\n",
    "    var_name='year', # name for the new column created by melting\n",
    "    value_name='travelers' # name for new column containing values from melted columns\n",
    ")\n",
    "tsa_melted.sample(5, random_state=1) # show some random entries"
   ]
  },
  {
   "cell_type": "markdown",
   "id": "91ad2a4f-fd5f-4de6-b974-e37e6119b1f7",
   "metadata": {
    "slideshow": {
     "slide_type": "subslide"
    },
    "tags": []
   },
   "source": [
    "To convert this into a time series of traveler throughput, we need to replace the year in the `date` column with the one in the `year` column. Otherwise, we are marking prior years' numbers with the wrong year."
   ]
  },
  {
   "cell_type": "code",
   "execution_count": 4,
   "id": "7ad04dde-d03b-4a32-9a47-6b1a388a8169",
   "metadata": {},
   "outputs": [
    {
     "data": {
      "text/html": [
       "<div>\n",
       "<style scoped>\n",
       "    .dataframe tbody tr th:only-of-type {\n",
       "        vertical-align: middle;\n",
       "    }\n",
       "\n",
       "    .dataframe tbody tr th {\n",
       "        vertical-align: top;\n",
       "    }\n",
       "\n",
       "    .dataframe thead th {\n",
       "        text-align: right;\n",
       "    }\n",
       "</style>\n",
       "<table border=\"1\" class=\"dataframe\">\n",
       "  <thead>\n",
       "    <tr style=\"text-align: right;\">\n",
       "      <th></th>\n",
       "      <th>date</th>\n",
       "      <th>year</th>\n",
       "      <th>travelers</th>\n",
       "    </tr>\n",
       "  </thead>\n",
       "  <tbody>\n",
       "    <tr>\n",
       "      <th>974</th>\n",
       "      <td>2019-09-12</td>\n",
       "      <td>2019</td>\n",
       "      <td>1879822.0</td>\n",
       "    </tr>\n",
       "    <tr>\n",
       "      <th>435</th>\n",
       "      <td>2020-03-05</td>\n",
       "      <td>2020</td>\n",
       "      <td>2198517.0</td>\n",
       "    </tr>\n",
       "    <tr>\n",
       "      <th>1029</th>\n",
       "      <td>2019-07-19</td>\n",
       "      <td>2019</td>\n",
       "      <td>2727355.0</td>\n",
       "    </tr>\n",
       "    <tr>\n",
       "      <th>680</th>\n",
       "      <td>2020-07-03</td>\n",
       "      <td>2020</td>\n",
       "      <td>718988.0</td>\n",
       "    </tr>\n",
       "    <tr>\n",
       "      <th>867</th>\n",
       "      <td>2019-12-28</td>\n",
       "      <td>2019</td>\n",
       "      <td>2500396.0</td>\n",
       "    </tr>\n",
       "  </tbody>\n",
       "</table>\n",
       "</div>"
      ],
      "text/plain": [
       "           date  year  travelers\n",
       "974  2019-09-12  2019  1879822.0\n",
       "435  2020-03-05  2020  2198517.0\n",
       "1029 2019-07-19  2019  2727355.0\n",
       "680  2020-07-03  2020   718988.0\n",
       "867  2019-12-28  2019  2500396.0"
      ]
     },
     "execution_count": 4,
     "metadata": {},
     "output_type": "execute_result"
    }
   ],
   "source": [
    "# 'dt' is the datetime section of the pandas library\n",
    "# 'strftime' stands for \"string format time\". It converts datetime objects into a string \n",
    "# '-%m-%d' access the month and day from the existing date field\n",
    "\n",
    "tsa_melted = tsa_melted.assign(\n",
    "    date=lambda x: pd.to_datetime(x.year + x.date.dt.strftime('-%m-%d'))\n",
    ")\n",
    "\n",
    "# alternatively you could write\n",
    "tsa_melted['date'] = pd.to_datetime(tsa_melted['year'] + tsa_melted['date'].dt.strftime('-%m-%d'))\n",
    "\n",
    "tsa_melted.sample(5, random_state=1)"
   ]
  },
  {
   "cell_type": "markdown",
   "id": "28a312aa-f671-4df7-8e09-ea65ba7d6d70",
   "metadata": {
    "slideshow": {
     "slide_type": "subslide"
    },
    "tags": []
   },
   "source": [
    "This leaves us with some null values (the dates that aren't present in the dataset):"
   ]
  },
  {
   "cell_type": "code",
   "execution_count": 5,
   "id": "8f415932-fe42-4e11-a8ac-521c7612147e",
   "metadata": {},
   "outputs": [
    {
     "data": {
      "text/html": [
       "<div>\n",
       "<style scoped>\n",
       "    .dataframe tbody tr th:only-of-type {\n",
       "        vertical-align: middle;\n",
       "    }\n",
       "\n",
       "    .dataframe tbody tr th {\n",
       "        vertical-align: top;\n",
       "    }\n",
       "\n",
       "    .dataframe thead th {\n",
       "        text-align: right;\n",
       "    }\n",
       "</style>\n",
       "<table border=\"1\" class=\"dataframe\">\n",
       "  <thead>\n",
       "    <tr style=\"text-align: right;\">\n",
       "      <th></th>\n",
       "      <th>date</th>\n",
       "      <th>year</th>\n",
       "      <th>travelers</th>\n",
       "    </tr>\n",
       "  </thead>\n",
       "  <tbody>\n",
       "    <tr>\n",
       "      <th>136</th>\n",
       "      <td>2021-12-29</td>\n",
       "      <td>2021</td>\n",
       "      <td>NaN</td>\n",
       "    </tr>\n",
       "    <tr>\n",
       "      <th>135</th>\n",
       "      <td>2021-12-30</td>\n",
       "      <td>2021</td>\n",
       "      <td>NaN</td>\n",
       "    </tr>\n",
       "    <tr>\n",
       "      <th>134</th>\n",
       "      <td>2021-12-31</td>\n",
       "      <td>2021</td>\n",
       "      <td>NaN</td>\n",
       "    </tr>\n",
       "  </tbody>\n",
       "</table>\n",
       "</div>"
      ],
      "text/plain": [
       "          date  year  travelers\n",
       "136 2021-12-29  2021        NaN\n",
       "135 2021-12-30  2021        NaN\n",
       "134 2021-12-31  2021        NaN"
      ]
     },
     "execution_count": 5,
     "metadata": {},
     "output_type": "execute_result"
    }
   ],
   "source": [
    "tsa_melted.sort_values('date').tail(3)"
   ]
  },
  {
   "cell_type": "markdown",
   "id": "323970e9-0e9c-46f1-8910-a630fbd4d1b3",
   "metadata": {
    "slideshow": {
     "slide_type": "fragment"
    },
    "tags": []
   },
   "source": [
    "These can be dropped with the `dropna()` method:"
   ]
  },
  {
   "cell_type": "code",
   "execution_count": 6,
   "id": "c0ed0555-2467-4966-9cfb-31ff5982c0bb",
   "metadata": {},
   "outputs": [
    {
     "data": {
      "text/html": [
       "<div>\n",
       "<style scoped>\n",
       "    .dataframe tbody tr th:only-of-type {\n",
       "        vertical-align: middle;\n",
       "    }\n",
       "\n",
       "    .dataframe tbody tr th {\n",
       "        vertical-align: top;\n",
       "    }\n",
       "\n",
       "    .dataframe thead th {\n",
       "        text-align: right;\n",
       "    }\n",
       "</style>\n",
       "<table border=\"1\" class=\"dataframe\">\n",
       "  <thead>\n",
       "    <tr style=\"text-align: right;\">\n",
       "      <th></th>\n",
       "      <th>date</th>\n",
       "      <th>year</th>\n",
       "      <th>travelers</th>\n",
       "    </tr>\n",
       "  </thead>\n",
       "  <tbody>\n",
       "    <tr>\n",
       "      <th>2</th>\n",
       "      <td>2021-05-12</td>\n",
       "      <td>2021</td>\n",
       "      <td>1424664.0</td>\n",
       "    </tr>\n",
       "    <tr>\n",
       "      <th>1</th>\n",
       "      <td>2021-05-13</td>\n",
       "      <td>2021</td>\n",
       "      <td>1743515.0</td>\n",
       "    </tr>\n",
       "    <tr>\n",
       "      <th>0</th>\n",
       "      <td>2021-05-14</td>\n",
       "      <td>2021</td>\n",
       "      <td>1716561.0</td>\n",
       "    </tr>\n",
       "  </tbody>\n",
       "</table>\n",
       "</div>"
      ],
      "text/plain": [
       "        date  year  travelers\n",
       "2 2021-05-12  2021  1424664.0\n",
       "1 2021-05-13  2021  1743515.0\n",
       "0 2021-05-14  2021  1716561.0"
      ]
     },
     "execution_count": 6,
     "metadata": {},
     "output_type": "execute_result"
    }
   ],
   "source": [
    "tsa_melted = tsa_melted.dropna()\n",
    "tsa_melted.sort_values('date').tail(3)"
   ]
  },
  {
   "cell_type": "markdown",
   "id": "6a77b4fc-265e-42d8-ae27-689e3f7f8dc6",
   "metadata": {
    "slideshow": {
     "slide_type": "subslide"
    },
    "tags": []
   },
   "source": [
    "### Pivoting\n",
    "\n",
    "Using the melted data, we can pivot the data to compare TSA traveler throughput on specific days across years. Let's look at the first 10 days in March:"
   ]
  },
  {
   "cell_type": "code",
   "execution_count": 7,
   "id": "cc8ecbba-d5f5-4ee7-92eb-f2482b3694d6",
   "metadata": {},
   "outputs": [
    {
     "data": {
      "text/html": [
       "<div>\n",
       "<style scoped>\n",
       "    .dataframe tbody tr th:only-of-type {\n",
       "        vertical-align: middle;\n",
       "    }\n",
       "\n",
       "    .dataframe tbody tr th {\n",
       "        vertical-align: top;\n",
       "    }\n",
       "\n",
       "    .dataframe thead th {\n",
       "        text-align: right;\n",
       "    }\n",
       "</style>\n",
       "<table border=\"1\" class=\"dataframe\">\n",
       "  <thead>\n",
       "    <tr style=\"text-align: right;\">\n",
       "      <th>day_in_march</th>\n",
       "      <th>1</th>\n",
       "      <th>2</th>\n",
       "      <th>3</th>\n",
       "      <th>4</th>\n",
       "      <th>5</th>\n",
       "      <th>6</th>\n",
       "      <th>7</th>\n",
       "      <th>8</th>\n",
       "      <th>9</th>\n",
       "      <th>10</th>\n",
       "    </tr>\n",
       "    <tr>\n",
       "      <th>year</th>\n",
       "      <th></th>\n",
       "      <th></th>\n",
       "      <th></th>\n",
       "      <th></th>\n",
       "      <th></th>\n",
       "      <th></th>\n",
       "      <th></th>\n",
       "      <th></th>\n",
       "      <th></th>\n",
       "      <th></th>\n",
       "    </tr>\n",
       "  </thead>\n",
       "  <tbody>\n",
       "    <tr>\n",
       "      <th>2019</th>\n",
       "      <td>2257920.0</td>\n",
       "      <td>1979558.0</td>\n",
       "      <td>2143619.0</td>\n",
       "      <td>2402692.0</td>\n",
       "      <td>2543689.0</td>\n",
       "      <td>2156262.0</td>\n",
       "      <td>2485430.0</td>\n",
       "      <td>2378673.0</td>\n",
       "      <td>2122898.0</td>\n",
       "      <td>2187298.0</td>\n",
       "    </tr>\n",
       "    <tr>\n",
       "      <th>2020</th>\n",
       "      <td>2089641.0</td>\n",
       "      <td>1736393.0</td>\n",
       "      <td>1877401.0</td>\n",
       "      <td>2130015.0</td>\n",
       "      <td>2198517.0</td>\n",
       "      <td>1844811.0</td>\n",
       "      <td>2119867.0</td>\n",
       "      <td>1909363.0</td>\n",
       "      <td>1617220.0</td>\n",
       "      <td>1702686.0</td>\n",
       "    </tr>\n",
       "    <tr>\n",
       "      <th>2021</th>\n",
       "      <td>1049692.0</td>\n",
       "      <td>744812.0</td>\n",
       "      <td>826924.0</td>\n",
       "      <td>1107534.0</td>\n",
       "      <td>1168734.0</td>\n",
       "      <td>992406.0</td>\n",
       "      <td>1278557.0</td>\n",
       "      <td>1119303.0</td>\n",
       "      <td>825745.0</td>\n",
       "      <td>974221.0</td>\n",
       "    </tr>\n",
       "  </tbody>\n",
       "</table>\n",
       "</div>"
      ],
      "text/plain": [
       "day_in_march         1          2          3          4          5   \\\n",
       "year                                                                  \n",
       "2019          2257920.0  1979558.0  2143619.0  2402692.0  2543689.0   \n",
       "2020          2089641.0  1736393.0  1877401.0  2130015.0  2198517.0   \n",
       "2021          1049692.0   744812.0   826924.0  1107534.0  1168734.0   \n",
       "\n",
       "day_in_march         6          7          8          9          10  \n",
       "year                                                                 \n",
       "2019          2156262.0  2485430.0  2378673.0  2122898.0  2187298.0  \n",
       "2020          1844811.0  2119867.0  1909363.0  1617220.0  1702686.0  \n",
       "2021           992406.0  1278557.0  1119303.0   825745.0   974221.0  "
      ]
     },
     "execution_count": 7,
     "metadata": {},
     "output_type": "execute_result"
    }
   ],
   "source": [
    "# convert column to date format\n",
    "tsa_melted['date'] = pd.to_datetime(tsa_melted['date'])\n",
    "\n",
    "# 'copy()' here is ensuring that 'first_10_days' becomes a standalone DataFrame\n",
    "first_10_days = tsa_melted.loc[(tsa_melted['date'].dt.month == 3) & (tsa_melted['date'].dt.day <= 10)].copy()\n",
    "first_10_days['day_in_march'] = first_10_days['date'].dt.day\n",
    "\n",
    "# pivot dataset\n",
    "first_10_days_pivot = pd.pivot(first_10_days,index='year', columns='day_in_march', values='travelers')\n",
    "first_10_days_pivot"
   ]
  },
  {
   "cell_type": "code",
   "execution_count": 8,
   "id": "5deb2bd9-e4eb-4775-bbf1-b483c56edf16",
   "metadata": {},
   "outputs": [
    {
     "data": {
      "text/html": [
       "<div>\n",
       "<style scoped>\n",
       "    .dataframe tbody tr th:only-of-type {\n",
       "        vertical-align: middle;\n",
       "    }\n",
       "\n",
       "    .dataframe tbody tr th {\n",
       "        vertical-align: top;\n",
       "    }\n",
       "\n",
       "    .dataframe thead th {\n",
       "        text-align: right;\n",
       "    }\n",
       "</style>\n",
       "<table border=\"1\" class=\"dataframe\">\n",
       "  <thead>\n",
       "    <tr style=\"text-align: right;\">\n",
       "      <th>day_in_march</th>\n",
       "      <th>1</th>\n",
       "      <th>2</th>\n",
       "      <th>3</th>\n",
       "      <th>4</th>\n",
       "      <th>5</th>\n",
       "      <th>6</th>\n",
       "      <th>7</th>\n",
       "      <th>8</th>\n",
       "      <th>9</th>\n",
       "      <th>10</th>\n",
       "    </tr>\n",
       "    <tr>\n",
       "      <th>year</th>\n",
       "      <th></th>\n",
       "      <th></th>\n",
       "      <th></th>\n",
       "      <th></th>\n",
       "      <th></th>\n",
       "      <th></th>\n",
       "      <th></th>\n",
       "      <th></th>\n",
       "      <th></th>\n",
       "      <th></th>\n",
       "    </tr>\n",
       "  </thead>\n",
       "  <tbody>\n",
       "    <tr>\n",
       "      <th>2019</th>\n",
       "      <td>2257920.0</td>\n",
       "      <td>1979558.0</td>\n",
       "      <td>2143619.0</td>\n",
       "      <td>2402692.0</td>\n",
       "      <td>2543689.0</td>\n",
       "      <td>2156262.0</td>\n",
       "      <td>2485430.0</td>\n",
       "      <td>2378673.0</td>\n",
       "      <td>2122898.0</td>\n",
       "      <td>2187298.0</td>\n",
       "    </tr>\n",
       "    <tr>\n",
       "      <th>2020</th>\n",
       "      <td>2089641.0</td>\n",
       "      <td>1736393.0</td>\n",
       "      <td>1877401.0</td>\n",
       "      <td>2130015.0</td>\n",
       "      <td>2198517.0</td>\n",
       "      <td>1844811.0</td>\n",
       "      <td>2119867.0</td>\n",
       "      <td>1909363.0</td>\n",
       "      <td>1617220.0</td>\n",
       "      <td>1702686.0</td>\n",
       "    </tr>\n",
       "    <tr>\n",
       "      <th>2021</th>\n",
       "      <td>1049692.0</td>\n",
       "      <td>744812.0</td>\n",
       "      <td>826924.0</td>\n",
       "      <td>1107534.0</td>\n",
       "      <td>1168734.0</td>\n",
       "      <td>992406.0</td>\n",
       "      <td>1278557.0</td>\n",
       "      <td>1119303.0</td>\n",
       "      <td>825745.0</td>\n",
       "      <td>974221.0</td>\n",
       "    </tr>\n",
       "  </tbody>\n",
       "</table>\n",
       "</div>"
      ],
      "text/plain": [
       "day_in_march         1          2          3          4          5   \\\n",
       "year                                                                  \n",
       "2019          2257920.0  1979558.0  2143619.0  2402692.0  2543689.0   \n",
       "2020          2089641.0  1736393.0  1877401.0  2130015.0  2198517.0   \n",
       "2021          1049692.0   744812.0   826924.0  1107534.0  1168734.0   \n",
       "\n",
       "day_in_march         6          7          8          9          10  \n",
       "year                                                                 \n",
       "2019          2156262.0  2485430.0  2378673.0  2122898.0  2187298.0  \n",
       "2020          1844811.0  2119867.0  1909363.0  1617220.0  1702686.0  \n",
       "2021           992406.0  1278557.0  1119303.0   825745.0   974221.0  "
      ]
     },
     "execution_count": 8,
     "metadata": {},
     "output_type": "execute_result"
    }
   ],
   "source": [
    "# Alternatively these steps can be combined as below\n",
    "tsa_pivoted = tsa_melted\\\n",
    "    .query('date.dt.month == 3 and date.dt.day <= 10')\\\n",
    "    .assign(day_in_march=lambda x: x.date.dt.day)\\\n",
    "    .pivot(index='year', columns='day_in_march', values='travelers')\n",
    "tsa_pivoted"
   ]
  },
  {
   "cell_type": "code",
   "execution_count": 9,
   "id": "17ce9722-806a-4a27-ad02-9e6d8e97c41f",
   "metadata": {},
   "outputs": [
    {
     "data": {
      "text/html": [
       "<div>\n",
       "<style scoped>\n",
       "    .dataframe tbody tr th:only-of-type {\n",
       "        vertical-align: middle;\n",
       "    }\n",
       "\n",
       "    .dataframe tbody tr th {\n",
       "        vertical-align: top;\n",
       "    }\n",
       "\n",
       "    .dataframe thead th {\n",
       "        text-align: right;\n",
       "    }\n",
       "</style>\n",
       "<table border=\"1\" class=\"dataframe\">\n",
       "  <thead>\n",
       "    <tr style=\"text-align: right;\">\n",
       "      <th>day_in_march</th>\n",
       "      <th>year</th>\n",
       "      <th>1</th>\n",
       "      <th>2</th>\n",
       "      <th>3</th>\n",
       "      <th>4</th>\n",
       "      <th>5</th>\n",
       "      <th>6</th>\n",
       "      <th>7</th>\n",
       "      <th>8</th>\n",
       "      <th>9</th>\n",
       "      <th>10</th>\n",
       "    </tr>\n",
       "  </thead>\n",
       "  <tbody>\n",
       "    <tr>\n",
       "      <th>0</th>\n",
       "      <td>2019</td>\n",
       "      <td>2257920.0</td>\n",
       "      <td>1979558.0</td>\n",
       "      <td>2143619.0</td>\n",
       "      <td>2402692.0</td>\n",
       "      <td>2543689.0</td>\n",
       "      <td>2156262.0</td>\n",
       "      <td>2485430.0</td>\n",
       "      <td>2378673.0</td>\n",
       "      <td>2122898.0</td>\n",
       "      <td>2187298.0</td>\n",
       "    </tr>\n",
       "    <tr>\n",
       "      <th>1</th>\n",
       "      <td>2020</td>\n",
       "      <td>2089641.0</td>\n",
       "      <td>1736393.0</td>\n",
       "      <td>1877401.0</td>\n",
       "      <td>2130015.0</td>\n",
       "      <td>2198517.0</td>\n",
       "      <td>1844811.0</td>\n",
       "      <td>2119867.0</td>\n",
       "      <td>1909363.0</td>\n",
       "      <td>1617220.0</td>\n",
       "      <td>1702686.0</td>\n",
       "    </tr>\n",
       "    <tr>\n",
       "      <th>2</th>\n",
       "      <td>2021</td>\n",
       "      <td>1049692.0</td>\n",
       "      <td>744812.0</td>\n",
       "      <td>826924.0</td>\n",
       "      <td>1107534.0</td>\n",
       "      <td>1168734.0</td>\n",
       "      <td>992406.0</td>\n",
       "      <td>1278557.0</td>\n",
       "      <td>1119303.0</td>\n",
       "      <td>825745.0</td>\n",
       "      <td>974221.0</td>\n",
       "    </tr>\n",
       "  </tbody>\n",
       "</table>\n",
       "</div>"
      ],
      "text/plain": [
       "day_in_march  year          1          2          3          4          5  \\\n",
       "0             2019  2257920.0  1979558.0  2143619.0  2402692.0  2543689.0   \n",
       "1             2020  2089641.0  1736393.0  1877401.0  2130015.0  2198517.0   \n",
       "2             2021  1049692.0   744812.0   826924.0  1107534.0  1168734.0   \n",
       "\n",
       "day_in_march          6          7          8          9         10  \n",
       "0             2156262.0  2485430.0  2378673.0  2122898.0  2187298.0  \n",
       "1             1844811.0  2119867.0  1909363.0  1617220.0  1702686.0  \n",
       "2              992406.0  1278557.0  1119303.0   825745.0   974221.0  "
      ]
     },
     "execution_count": 9,
     "metadata": {},
     "output_type": "execute_result"
    }
   ],
   "source": [
    "# note we currently have two headers, to return to one use '.reset_index()\n",
    "# the 'day_in_march' column can now be dropped\n",
    "tsa_pivoted.reset_index()"
   ]
  },
  {
   "cell_type": "markdown",
   "id": "370ed66f-5b39-4adf-ae0d-651c4ae1981b",
   "metadata": {
    "slideshow": {
     "slide_type": "fragment"
    },
    "tags": []
   },
   "source": [
    "**Important**: We aren't covering the `unstack()` and `stack()` methods, which are additional ways to pivot and melt, respectively. These come in handy when we have a multi-level index (e.g., if we ran `set_index()` with more than one column). More information can be found [here](https://pandas.pydata.org/pandas-docs/stable/user_guide/reshaping.html)."
   ]
  },
  {
   "cell_type": "markdown",
   "id": "e292be99-e3d6-403c-abce-56efa8b1948d",
   "metadata": {
    "slideshow": {
     "slide_type": "subslide"
    },
    "tags": []
   },
   "source": [
    "### Transposing\n",
    "\n",
    "The `T` attribute provides a quick way to flip rows and columns."
   ]
  },
  {
   "cell_type": "code",
   "execution_count": 10,
   "id": "c8a7bb2d-77c0-461b-9963-224b5bd633d2",
   "metadata": {},
   "outputs": [
    {
     "data": {
      "text/html": [
       "<div>\n",
       "<style scoped>\n",
       "    .dataframe tbody tr th:only-of-type {\n",
       "        vertical-align: middle;\n",
       "    }\n",
       "\n",
       "    .dataframe tbody tr th {\n",
       "        vertical-align: top;\n",
       "    }\n",
       "\n",
       "    .dataframe thead th {\n",
       "        text-align: right;\n",
       "    }\n",
       "</style>\n",
       "<table border=\"1\" class=\"dataframe\">\n",
       "  <thead>\n",
       "    <tr style=\"text-align: right;\">\n",
       "      <th>year</th>\n",
       "      <th>2019</th>\n",
       "      <th>2020</th>\n",
       "      <th>2021</th>\n",
       "    </tr>\n",
       "    <tr>\n",
       "      <th>day_in_march</th>\n",
       "      <th></th>\n",
       "      <th></th>\n",
       "      <th></th>\n",
       "    </tr>\n",
       "  </thead>\n",
       "  <tbody>\n",
       "    <tr>\n",
       "      <th>1</th>\n",
       "      <td>2257920.0</td>\n",
       "      <td>2089641.0</td>\n",
       "      <td>1049692.0</td>\n",
       "    </tr>\n",
       "    <tr>\n",
       "      <th>2</th>\n",
       "      <td>1979558.0</td>\n",
       "      <td>1736393.0</td>\n",
       "      <td>744812.0</td>\n",
       "    </tr>\n",
       "    <tr>\n",
       "      <th>3</th>\n",
       "      <td>2143619.0</td>\n",
       "      <td>1877401.0</td>\n",
       "      <td>826924.0</td>\n",
       "    </tr>\n",
       "    <tr>\n",
       "      <th>4</th>\n",
       "      <td>2402692.0</td>\n",
       "      <td>2130015.0</td>\n",
       "      <td>1107534.0</td>\n",
       "    </tr>\n",
       "    <tr>\n",
       "      <th>5</th>\n",
       "      <td>2543689.0</td>\n",
       "      <td>2198517.0</td>\n",
       "      <td>1168734.0</td>\n",
       "    </tr>\n",
       "    <tr>\n",
       "      <th>6</th>\n",
       "      <td>2156262.0</td>\n",
       "      <td>1844811.0</td>\n",
       "      <td>992406.0</td>\n",
       "    </tr>\n",
       "    <tr>\n",
       "      <th>7</th>\n",
       "      <td>2485430.0</td>\n",
       "      <td>2119867.0</td>\n",
       "      <td>1278557.0</td>\n",
       "    </tr>\n",
       "    <tr>\n",
       "      <th>8</th>\n",
       "      <td>2378673.0</td>\n",
       "      <td>1909363.0</td>\n",
       "      <td>1119303.0</td>\n",
       "    </tr>\n",
       "    <tr>\n",
       "      <th>9</th>\n",
       "      <td>2122898.0</td>\n",
       "      <td>1617220.0</td>\n",
       "      <td>825745.0</td>\n",
       "    </tr>\n",
       "    <tr>\n",
       "      <th>10</th>\n",
       "      <td>2187298.0</td>\n",
       "      <td>1702686.0</td>\n",
       "      <td>974221.0</td>\n",
       "    </tr>\n",
       "  </tbody>\n",
       "</table>\n",
       "</div>"
      ],
      "text/plain": [
       "year               2019       2020       2021\n",
       "day_in_march                                 \n",
       "1             2257920.0  2089641.0  1049692.0\n",
       "2             1979558.0  1736393.0   744812.0\n",
       "3             2143619.0  1877401.0   826924.0\n",
       "4             2402692.0  2130015.0  1107534.0\n",
       "5             2543689.0  2198517.0  1168734.0\n",
       "6             2156262.0  1844811.0   992406.0\n",
       "7             2485430.0  2119867.0  1278557.0\n",
       "8             2378673.0  1909363.0  1119303.0\n",
       "9             2122898.0  1617220.0   825745.0\n",
       "10            2187298.0  1702686.0   974221.0"
      ]
     },
     "execution_count": 10,
     "metadata": {},
     "output_type": "execute_result"
    }
   ],
   "source": [
    "tsa_pivoted.T # or tsa_pivoted.transpose()"
   ]
  },
  {
   "cell_type": "markdown",
   "id": "65da6408-d946-4420-8fec-327094bf46e9",
   "metadata": {
    "slideshow": {
     "slide_type": "subslide"
    },
    "tags": []
   },
   "source": [
    "### Merging (Joining)\n",
    "\n",
    "We typically observe changes in air travel around the holidays, so adding information about the dates in the TSA dataset provides more context. The `holidays.csv` file contains a few major holidays in the United States:"
   ]
  },
  {
   "cell_type": "code",
   "execution_count": 11,
   "id": "df6a13e1-af80-4d5e-9aa6-24495d7197cd",
   "metadata": {},
   "outputs": [
    {
     "data": {
      "text/html": [
       "<div>\n",
       "<style scoped>\n",
       "    .dataframe tbody tr th:only-of-type {\n",
       "        vertical-align: middle;\n",
       "    }\n",
       "\n",
       "    .dataframe tbody tr th {\n",
       "        vertical-align: top;\n",
       "    }\n",
       "\n",
       "    .dataframe thead th {\n",
       "        text-align: right;\n",
       "    }\n",
       "</style>\n",
       "<table border=\"1\" class=\"dataframe\">\n",
       "  <thead>\n",
       "    <tr style=\"text-align: right;\">\n",
       "      <th></th>\n",
       "      <th>holiday</th>\n",
       "    </tr>\n",
       "    <tr>\n",
       "      <th>date</th>\n",
       "      <th></th>\n",
       "    </tr>\n",
       "  </thead>\n",
       "  <tbody>\n",
       "    <tr>\n",
       "      <th>2019-01-01</th>\n",
       "      <td>New Year's Day</td>\n",
       "    </tr>\n",
       "    <tr>\n",
       "      <th>2019-05-27</th>\n",
       "      <td>Memorial Day</td>\n",
       "    </tr>\n",
       "    <tr>\n",
       "      <th>2019-07-04</th>\n",
       "      <td>July 4th</td>\n",
       "    </tr>\n",
       "    <tr>\n",
       "      <th>2019-09-02</th>\n",
       "      <td>Labor Day</td>\n",
       "    </tr>\n",
       "    <tr>\n",
       "      <th>2019-11-28</th>\n",
       "      <td>Thanksgiving</td>\n",
       "    </tr>\n",
       "    <tr>\n",
       "      <th>2019-12-24</th>\n",
       "      <td>Christmas Eve</td>\n",
       "    </tr>\n",
       "    <tr>\n",
       "      <th>2019-12-25</th>\n",
       "      <td>Christmas Day</td>\n",
       "    </tr>\n",
       "    <tr>\n",
       "      <th>2019-12-31</th>\n",
       "      <td>New Year's Eve</td>\n",
       "    </tr>\n",
       "  </tbody>\n",
       "</table>\n",
       "</div>"
      ],
      "text/plain": [
       "                   holiday\n",
       "date                      \n",
       "2019-01-01  New Year's Day\n",
       "2019-05-27    Memorial Day\n",
       "2019-07-04        July 4th\n",
       "2019-09-02       Labor Day\n",
       "2019-11-28    Thanksgiving\n",
       "2019-12-24   Christmas Eve\n",
       "2019-12-25   Christmas Day\n",
       "2019-12-31  New Year's Eve"
      ]
     },
     "execution_count": 11,
     "metadata": {},
     "output_type": "execute_result"
    }
   ],
   "source": [
    "holidays = pd.read_csv('../data/holidays.csv', parse_dates=True, index_col='date')\n",
    "holidays.loc['2019']"
   ]
  },
  {
   "cell_type": "markdown",
   "id": "a0832a27-605c-48bd-b564-0901c2796b90",
   "metadata": {
    "slideshow": {
     "slide_type": "subslide"
    },
    "tags": []
   },
   "source": [
    "Merging the holidays with the TSA traveler throughput data will provide more context for our analysis:"
   ]
  },
  {
   "cell_type": "code",
   "execution_count": 12,
   "id": "367b9ccb-04f6-4400-88b2-ce548990bb6f",
   "metadata": {
    "tags": []
   },
   "outputs": [
    {
     "data": {
      "text/html": [
       "<div>\n",
       "<style scoped>\n",
       "    .dataframe tbody tr th:only-of-type {\n",
       "        vertical-align: middle;\n",
       "    }\n",
       "\n",
       "    .dataframe tbody tr th {\n",
       "        vertical-align: top;\n",
       "    }\n",
       "\n",
       "    .dataframe thead th {\n",
       "        text-align: right;\n",
       "    }\n",
       "</style>\n",
       "<table border=\"1\" class=\"dataframe\">\n",
       "  <thead>\n",
       "    <tr style=\"text-align: right;\">\n",
       "      <th></th>\n",
       "      <th>date</th>\n",
       "      <th>year</th>\n",
       "      <th>travelers</th>\n",
       "      <th>holiday</th>\n",
       "    </tr>\n",
       "  </thead>\n",
       "  <tbody>\n",
       "    <tr>\n",
       "      <th>863</th>\n",
       "      <td>2019-01-01</td>\n",
       "      <td>2019</td>\n",
       "      <td>2126398.0</td>\n",
       "      <td>New Year's Day</td>\n",
       "    </tr>\n",
       "    <tr>\n",
       "      <th>862</th>\n",
       "      <td>2019-01-02</td>\n",
       "      <td>2019</td>\n",
       "      <td>2345103.0</td>\n",
       "      <td>NaN</td>\n",
       "    </tr>\n",
       "    <tr>\n",
       "      <th>861</th>\n",
       "      <td>2019-01-03</td>\n",
       "      <td>2019</td>\n",
       "      <td>2202111.0</td>\n",
       "      <td>NaN</td>\n",
       "    </tr>\n",
       "    <tr>\n",
       "      <th>860</th>\n",
       "      <td>2019-01-04</td>\n",
       "      <td>2019</td>\n",
       "      <td>2150571.0</td>\n",
       "      <td>NaN</td>\n",
       "    </tr>\n",
       "    <tr>\n",
       "      <th>859</th>\n",
       "      <td>2019-01-05</td>\n",
       "      <td>2019</td>\n",
       "      <td>1975947.0</td>\n",
       "      <td>NaN</td>\n",
       "    </tr>\n",
       "  </tbody>\n",
       "</table>\n",
       "</div>"
      ],
      "text/plain": [
       "          date  year  travelers         holiday\n",
       "863 2019-01-01  2019  2126398.0  New Year's Day\n",
       "862 2019-01-02  2019  2345103.0             NaN\n",
       "861 2019-01-03  2019  2202111.0             NaN\n",
       "860 2019-01-04  2019  2150571.0             NaN\n",
       "859 2019-01-05  2019  1975947.0             NaN"
      ]
     },
     "execution_count": 12,
     "metadata": {},
     "output_type": "execute_result"
    }
   ],
   "source": [
    "# 'merge()' will join two dataframes, in the form df1.merge(df2, ......)\n",
    "# 'left_on' & 'right_on' are the columns or list of columns you are joining on, \n",
    "#   - in this case we use an index so there is a special parameter for that\n",
    "# 'how' defines the type of join, e.g. 'left','inner',etc.\n",
    "tsa_melted_holidays = tsa_melted.merge(\n",
    "    holidays, \n",
    "    left_on='date', \n",
    "    right_index=True, \n",
    "    how='left')\n",
    "    \n",
    "tsa_melted_holidays = tsa_melted_holidays.sort_values('date')\n",
    "tsa_melted_holidays.head()"
   ]
  },
  {
   "cell_type": "markdown",
   "id": "29efc7c8-f2c6-4a28-a36f-25e9da612d14",
   "metadata": {
    "slideshow": {
     "slide_type": "fragment"
    },
    "tags": []
   },
   "source": [
    "*Tip: There are many parameters for this method, so be sure to check out the [documentation](https://pandas.pydata.org/pandas-docs/stable/reference/api/pandas.DataFrame.merge.html). \n",
    "To append rows i.e. UNION ALL in SQL, take a look at the `pd.concat()` function.*"
   ]
  },
  {
   "cell_type": "markdown",
   "id": "6d79f677-5759-4790-9004-cb1a6361a0a8",
   "metadata": {
    "slideshow": {
     "slide_type": "subslide"
    },
    "tags": []
   },
   "source": [
    "We can take this a step further by marking a few days before and after each holiday as part of the holiday. This would make it easier to compare holiday travel across years and look for any uptick in travel around the holidays:"
   ]
  },
  {
   "cell_type": "code",
   "execution_count": 13,
   "id": "a589df8f-5870-41ea-b4c1-e413fa76ad31",
   "metadata": {},
   "outputs": [
    {
     "data": {
      "text/html": [
       "<div>\n",
       "<style scoped>\n",
       "    .dataframe tbody tr th:only-of-type {\n",
       "        vertical-align: middle;\n",
       "    }\n",
       "\n",
       "    .dataframe tbody tr th {\n",
       "        vertical-align: top;\n",
       "    }\n",
       "\n",
       "    .dataframe thead th {\n",
       "        text-align: right;\n",
       "    }\n",
       "</style>\n",
       "<table border=\"1\" class=\"dataframe\">\n",
       "  <thead>\n",
       "    <tr style=\"text-align: right;\">\n",
       "      <th></th>\n",
       "      <th>date</th>\n",
       "      <th>year</th>\n",
       "      <th>travelers</th>\n",
       "      <th>holiday</th>\n",
       "    </tr>\n",
       "  </thead>\n",
       "  <tbody>\n",
       "    <tr>\n",
       "      <th>863</th>\n",
       "      <td>2019-01-01</td>\n",
       "      <td>2019</td>\n",
       "      <td>2126398.0</td>\n",
       "      <td>New Year's Day</td>\n",
       "    </tr>\n",
       "    <tr>\n",
       "      <th>862</th>\n",
       "      <td>2019-01-02</td>\n",
       "      <td>2019</td>\n",
       "      <td>2345103.0</td>\n",
       "      <td>New Year's Day</td>\n",
       "    </tr>\n",
       "    <tr>\n",
       "      <th>861</th>\n",
       "      <td>2019-01-03</td>\n",
       "      <td>2019</td>\n",
       "      <td>2202111.0</td>\n",
       "      <td>NaN</td>\n",
       "    </tr>\n",
       "    <tr>\n",
       "      <th>860</th>\n",
       "      <td>2019-01-04</td>\n",
       "      <td>2019</td>\n",
       "      <td>2150571.0</td>\n",
       "      <td>NaN</td>\n",
       "    </tr>\n",
       "    <tr>\n",
       "      <th>859</th>\n",
       "      <td>2019-01-05</td>\n",
       "      <td>2019</td>\n",
       "      <td>1975947.0</td>\n",
       "      <td>NaN</td>\n",
       "    </tr>\n",
       "  </tbody>\n",
       "</table>\n",
       "</div>"
      ],
      "text/plain": [
       "          date  year  travelers         holiday\n",
       "863 2019-01-01  2019  2126398.0  New Year's Day\n",
       "862 2019-01-02  2019  2345103.0  New Year's Day\n",
       "861 2019-01-03  2019  2202111.0             NaN\n",
       "860 2019-01-04  2019  2150571.0             NaN\n",
       "859 2019-01-05  2019  1975947.0             NaN"
      ]
     },
     "execution_count": 13,
     "metadata": {},
     "output_type": "execute_result"
    }
   ],
   "source": [
    "tsa_melted_holiday_travel = tsa_melted_holidays.assign(\n",
    "    holiday=lambda x:\n",
    "        x.holiday.ffill(limit=1).bfill(limit=2)\n",
    ")\n",
    "tsa_melted_holiday_travel.head()"
   ]
  },
  {
   "cell_type": "markdown",
   "id": "eb5a331c-143a-4b3e-bb90-9d948da4d148",
   "metadata": {
    "slideshow": {
     "slide_type": "fragment"
    },
    "tags": []
   },
   "source": [
    "*Tip: Check out the [documentation](https://pandas.pydata.org/pandas-docs/stable/reference/api/pandas.DataFrame.fillna.html) for the full list of functionality available with the `fillna()` method.*"
   ]
  },
  {
   "cell_type": "markdown",
   "id": "1c86a8f0-124b-4837-9c09-21923fbcb926",
   "metadata": {
    "slideshow": {
     "slide_type": "subslide"
    },
    "tags": []
   },
   "source": [
    "Notice that we now have values for the day after each holiday and the two days prior. Thanksgiving in 2019 was on November 28th, so the 26th, 27th, and 29th were filled. Since we are only replacing null values, we don't override Christmas Day with the forward fill of Christmas Eve:"
   ]
  },
  {
   "cell_type": "code",
   "execution_count": 14,
   "id": "c895269f-37b5-4246-974a-d8a91730f346",
   "metadata": {},
   "outputs": [
    {
     "data": {
      "text/html": [
       "<div>\n",
       "<style scoped>\n",
       "    .dataframe tbody tr th:only-of-type {\n",
       "        vertical-align: middle;\n",
       "    }\n",
       "\n",
       "    .dataframe tbody tr th {\n",
       "        vertical-align: top;\n",
       "    }\n",
       "\n",
       "    .dataframe thead th {\n",
       "        text-align: right;\n",
       "    }\n",
       "</style>\n",
       "<table border=\"1\" class=\"dataframe\">\n",
       "  <thead>\n",
       "    <tr style=\"text-align: right;\">\n",
       "      <th></th>\n",
       "      <th>date</th>\n",
       "      <th>year</th>\n",
       "      <th>travelers</th>\n",
       "      <th>holiday</th>\n",
       "    </tr>\n",
       "  </thead>\n",
       "  <tbody>\n",
       "    <tr>\n",
       "      <th>899</th>\n",
       "      <td>2019-11-26</td>\n",
       "      <td>2019</td>\n",
       "      <td>1591158.0</td>\n",
       "      <td>Thanksgiving</td>\n",
       "    </tr>\n",
       "    <tr>\n",
       "      <th>898</th>\n",
       "      <td>2019-11-27</td>\n",
       "      <td>2019</td>\n",
       "      <td>1968137.0</td>\n",
       "      <td>Thanksgiving</td>\n",
       "    </tr>\n",
       "    <tr>\n",
       "      <th>897</th>\n",
       "      <td>2019-11-28</td>\n",
       "      <td>2019</td>\n",
       "      <td>2648268.0</td>\n",
       "      <td>Thanksgiving</td>\n",
       "    </tr>\n",
       "    <tr>\n",
       "      <th>896</th>\n",
       "      <td>2019-11-29</td>\n",
       "      <td>2019</td>\n",
       "      <td>2882915.0</td>\n",
       "      <td>Thanksgiving</td>\n",
       "    </tr>\n",
       "    <tr>\n",
       "      <th>873</th>\n",
       "      <td>2019-12-22</td>\n",
       "      <td>2019</td>\n",
       "      <td>1981433.0</td>\n",
       "      <td>Christmas Eve</td>\n",
       "    </tr>\n",
       "    <tr>\n",
       "      <th>872</th>\n",
       "      <td>2019-12-23</td>\n",
       "      <td>2019</td>\n",
       "      <td>1937235.0</td>\n",
       "      <td>Christmas Eve</td>\n",
       "    </tr>\n",
       "    <tr>\n",
       "      <th>871</th>\n",
       "      <td>2019-12-24</td>\n",
       "      <td>2019</td>\n",
       "      <td>2552194.0</td>\n",
       "      <td>Christmas Eve</td>\n",
       "    </tr>\n",
       "    <tr>\n",
       "      <th>870</th>\n",
       "      <td>2019-12-25</td>\n",
       "      <td>2019</td>\n",
       "      <td>2582580.0</td>\n",
       "      <td>Christmas Day</td>\n",
       "    </tr>\n",
       "    <tr>\n",
       "      <th>869</th>\n",
       "      <td>2019-12-26</td>\n",
       "      <td>2019</td>\n",
       "      <td>2470786.0</td>\n",
       "      <td>Christmas Day</td>\n",
       "    </tr>\n",
       "  </tbody>\n",
       "</table>\n",
       "</div>"
      ],
      "text/plain": [
       "          date  year  travelers        holiday\n",
       "899 2019-11-26  2019  1591158.0   Thanksgiving\n",
       "898 2019-11-27  2019  1968137.0   Thanksgiving\n",
       "897 2019-11-28  2019  2648268.0   Thanksgiving\n",
       "896 2019-11-29  2019  2882915.0   Thanksgiving\n",
       "873 2019-12-22  2019  1981433.0  Christmas Eve\n",
       "872 2019-12-23  2019  1937235.0  Christmas Eve\n",
       "871 2019-12-24  2019  2552194.0  Christmas Eve\n",
       "870 2019-12-25  2019  2582580.0  Christmas Day\n",
       "869 2019-12-26  2019  2470786.0  Christmas Day"
      ]
     },
     "execution_count": 14,
     "metadata": {},
     "output_type": "execute_result"
    }
   ],
   "source": [
    "# Note our 'year' column is formatted as a string\n",
    "tsa_melted_holiday_travel.loc[\n",
    "    (tsa_melted_holiday_travel['year'] == '2019') & \n",
    "    ((tsa_melted_holiday_travel['holiday'] == \"Thanksgiving\") | \n",
    "    (tsa_melted_holiday_travel['holiday'].str.contains(\"Christmas\")))\n",
    "]\n",
    "\n",
    "# Alternatively this can be filtered using 'query()'\n",
    "tsa_melted_holiday_travel.query(\n",
    "    'year == \"2019\" and '\n",
    "    '(holiday == \"Thanksgiving\" or holiday.str.contains(\"Christmas\"))'\n",
    ")"
   ]
  },
  {
   "cell_type": "markdown",
   "id": "84597dd2-780e-451c-8263-c02fdadb857b",
   "metadata": {
    "slideshow": {
     "slide_type": "slide"
    },
    "tags": []
   },
   "source": [
    "## Aggregations and grouping\n",
    "\n",
    "After reshaping and cleaning our data, we can perform aggregations to summarize it in a variety of ways. In this section, we will explore using pivot tables, crosstabs, and group by operations to aggregate the data."
   ]
  },
  {
   "cell_type": "markdown",
   "id": "350010f2-30ac-4167-8aa6-41e71933ef74",
   "metadata": {
    "slideshow": {
     "slide_type": "subslide"
    },
    "tags": []
   },
   "source": [
    "### Pivot tables\n",
    "We can build a pivot table to compare holiday travel across the years in our dataset:"
   ]
  },
  {
   "cell_type": "code",
   "execution_count": 15,
   "id": "944749f0-d9e1-4a6e-ad15-c8f33e737080",
   "metadata": {},
   "outputs": [
    {
     "data": {
      "text/html": [
       "<div>\n",
       "<style scoped>\n",
       "    .dataframe tbody tr th:only-of-type {\n",
       "        vertical-align: middle;\n",
       "    }\n",
       "\n",
       "    .dataframe tbody tr th {\n",
       "        vertical-align: top;\n",
       "    }\n",
       "\n",
       "    .dataframe thead th {\n",
       "        text-align: right;\n",
       "    }\n",
       "</style>\n",
       "<table border=\"1\" class=\"dataframe\">\n",
       "  <thead>\n",
       "    <tr style=\"text-align: right;\">\n",
       "      <th>holiday</th>\n",
       "      <th>Christmas Day</th>\n",
       "      <th>Christmas Eve</th>\n",
       "      <th>July 4th</th>\n",
       "      <th>Labor Day</th>\n",
       "      <th>Memorial Day</th>\n",
       "      <th>New Year's Day</th>\n",
       "      <th>New Year's Eve</th>\n",
       "      <th>Thanksgiving</th>\n",
       "    </tr>\n",
       "    <tr>\n",
       "      <th>year</th>\n",
       "      <th></th>\n",
       "      <th></th>\n",
       "      <th></th>\n",
       "      <th></th>\n",
       "      <th></th>\n",
       "      <th></th>\n",
       "      <th></th>\n",
       "      <th></th>\n",
       "    </tr>\n",
       "  </thead>\n",
       "  <tbody>\n",
       "    <tr>\n",
       "      <th>2019</th>\n",
       "      <td>5053366.0</td>\n",
       "      <td>6470862.0</td>\n",
       "      <td>9414228.0</td>\n",
       "      <td>8314811.0</td>\n",
       "      <td>9720691.0</td>\n",
       "      <td>4471501.0</td>\n",
       "      <td>6535464.0</td>\n",
       "      <td>9090478.0</td>\n",
       "    </tr>\n",
       "    <tr>\n",
       "      <th>2020</th>\n",
       "      <td>1745242.0</td>\n",
       "      <td>3029810.0</td>\n",
       "      <td>2682541.0</td>\n",
       "      <td>2993653.0</td>\n",
       "      <td>1126253.0</td>\n",
       "      <td>4490388.0</td>\n",
       "      <td>3057449.0</td>\n",
       "      <td>3364358.0</td>\n",
       "    </tr>\n",
       "    <tr>\n",
       "      <th>2021</th>\n",
       "      <td>NaN</td>\n",
       "      <td>NaN</td>\n",
       "      <td>NaN</td>\n",
       "      <td>NaN</td>\n",
       "      <td>NaN</td>\n",
       "      <td>1998871.0</td>\n",
       "      <td>NaN</td>\n",
       "      <td>NaN</td>\n",
       "    </tr>\n",
       "  </tbody>\n",
       "</table>\n",
       "</div>"
      ],
      "text/plain": [
       "holiday  Christmas Day  Christmas Eve   July 4th  Labor Day  Memorial Day  \\\n",
       "year                                                                        \n",
       "2019         5053366.0      6470862.0  9414228.0  8314811.0     9720691.0   \n",
       "2020         1745242.0      3029810.0  2682541.0  2993653.0     1126253.0   \n",
       "2021               NaN            NaN        NaN        NaN           NaN   \n",
       "\n",
       "holiday  New Year's Day  New Year's Eve  Thanksgiving  \n",
       "year                                                   \n",
       "2019          4471501.0       6535464.0     9090478.0  \n",
       "2020          4490388.0       3057449.0     3364358.0  \n",
       "2021          1998871.0             NaN           NaN  "
      ]
     },
     "execution_count": 15,
     "metadata": {},
     "output_type": "execute_result"
    }
   ],
   "source": [
    "# The pivot_table() function in pandas is similar to pivot(). However, it is more powerful \n",
    "# it enables you to create summary tables of data by pivoting on one or more columns and \n",
    "# aggregating values across one or more columns.\n",
    "\n",
    "pd.pivot_table(\n",
    "    tsa_melted_holiday_travel, # the dataframe\n",
    "    index = 'year', # the column(s) to pivot on\n",
    "    columns = 'holiday', # the header columns\n",
    "    values = 'travelers', # the values for our header columns\n",
    "    aggfunc = 'sum' # how we'll aggregrate the data\n",
    ")\n",
    "\n",
    "# tsa_melted_holiday_travel.pivot_table(\n",
    "#     index='year', columns='holiday', \n",
    "#     values='travelers', aggfunc='sum'\n",
    "# )"
   ]
  },
  {
   "cell_type": "markdown",
   "id": "9a189e47-9347-4922-a345-471206d8192c",
   "metadata": {
    "slideshow": {
     "slide_type": "subslide"
    },
    "tags": []
   },
   "source": [
    "We can use the `pct_change()` method on this result to see which holiday travel periods saw the biggest change in travel:"
   ]
  },
  {
   "cell_type": "code",
   "execution_count": 16,
   "id": "ad480312-626f-401b-93d3-0ffd6a6392bb",
   "metadata": {},
   "outputs": [
    {
     "data": {
      "text/html": [
       "<div>\n",
       "<style scoped>\n",
       "    .dataframe tbody tr th:only-of-type {\n",
       "        vertical-align: middle;\n",
       "    }\n",
       "\n",
       "    .dataframe tbody tr th {\n",
       "        vertical-align: top;\n",
       "    }\n",
       "\n",
       "    .dataframe thead th {\n",
       "        text-align: right;\n",
       "    }\n",
       "</style>\n",
       "<table border=\"1\" class=\"dataframe\">\n",
       "  <thead>\n",
       "    <tr style=\"text-align: right;\">\n",
       "      <th>holiday</th>\n",
       "      <th>Christmas Day</th>\n",
       "      <th>Christmas Eve</th>\n",
       "      <th>July 4th</th>\n",
       "      <th>Labor Day</th>\n",
       "      <th>Memorial Day</th>\n",
       "      <th>New Year's Day</th>\n",
       "      <th>New Year's Eve</th>\n",
       "      <th>Thanksgiving</th>\n",
       "    </tr>\n",
       "    <tr>\n",
       "      <th>year</th>\n",
       "      <th></th>\n",
       "      <th></th>\n",
       "      <th></th>\n",
       "      <th></th>\n",
       "      <th></th>\n",
       "      <th></th>\n",
       "      <th></th>\n",
       "      <th></th>\n",
       "    </tr>\n",
       "  </thead>\n",
       "  <tbody>\n",
       "    <tr>\n",
       "      <th>2019</th>\n",
       "      <td>NaN</td>\n",
       "      <td>NaN</td>\n",
       "      <td>NaN</td>\n",
       "      <td>NaN</td>\n",
       "      <td>NaN</td>\n",
       "      <td>NaN</td>\n",
       "      <td>NaN</td>\n",
       "      <td>NaN</td>\n",
       "    </tr>\n",
       "    <tr>\n",
       "      <th>2020</th>\n",
       "      <td>-0.654638</td>\n",
       "      <td>-0.531776</td>\n",
       "      <td>-0.715055</td>\n",
       "      <td>-0.639961</td>\n",
       "      <td>-0.884139</td>\n",
       "      <td>0.004224</td>\n",
       "      <td>-0.532176</td>\n",
       "      <td>-0.629903</td>\n",
       "    </tr>\n",
       "    <tr>\n",
       "      <th>2021</th>\n",
       "      <td>NaN</td>\n",
       "      <td>NaN</td>\n",
       "      <td>NaN</td>\n",
       "      <td>NaN</td>\n",
       "      <td>NaN</td>\n",
       "      <td>-0.554856</td>\n",
       "      <td>NaN</td>\n",
       "      <td>NaN</td>\n",
       "    </tr>\n",
       "  </tbody>\n",
       "</table>\n",
       "</div>"
      ],
      "text/plain": [
       "holiday  Christmas Day  Christmas Eve  July 4th  Labor Day  Memorial Day  \\\n",
       "year                                                                       \n",
       "2019               NaN            NaN       NaN        NaN           NaN   \n",
       "2020         -0.654638      -0.531776 -0.715055  -0.639961     -0.884139   \n",
       "2021               NaN            NaN       NaN        NaN           NaN   \n",
       "\n",
       "holiday  New Year's Day  New Year's Eve  Thanksgiving  \n",
       "year                                                   \n",
       "2019                NaN             NaN           NaN  \n",
       "2020           0.004224       -0.532176     -0.629903  \n",
       "2021          -0.554856             NaN           NaN  "
      ]
     },
     "execution_count": 16,
     "metadata": {},
     "output_type": "execute_result"
    }
   ],
   "source": [
    "pd.pivot_table(\n",
    "    tsa_melted_holiday_travel, \n",
    "    index = 'year', \n",
    "    columns = 'holiday', \n",
    "    values = 'travelers', \n",
    "    aggfunc = 'sum' \n",
    ").pct_change(fill_method=None)\n"
   ]
  },
  {
   "cell_type": "markdown",
   "id": "30a2f712-13e2-4f84-a6aa-d234b8d65dff",
   "metadata": {
    "slideshow": {
     "slide_type": "subslide"
    },
    "tags": []
   },
   "source": [
    "Let's make one last pivot table with column and row subtotals, along with some formatting improvements. First, we set a display option for all floats:"
   ]
  },
  {
   "cell_type": "code",
   "execution_count": 17,
   "id": "33a98f21-ea62-432c-8f7f-ee0d542b155b",
   "metadata": {},
   "outputs": [],
   "source": [
    "pd.set_option('display.float_format', '{:,.0f}'.format)"
   ]
  },
  {
   "cell_type": "markdown",
   "id": "f8b441fb-40a1-42d2-a938-73996943ec49",
   "metadata": {},
   "source": [
    "### If else statements with numpy\n",
    "\n",
    "In this next section we'll use the numpy library to create conditional statements, i.e. Ifelse statements, if elseif, IIF()"
   ]
  },
  {
   "cell_type": "code",
   "execution_count": 18,
   "id": "5a166c00-e12b-4776-a7b9-7e5397348c68",
   "metadata": {},
   "outputs": [
    {
     "data": {
      "text/html": [
       "<div>\n",
       "<style scoped>\n",
       "    .dataframe tbody tr th:only-of-type {\n",
       "        vertical-align: middle;\n",
       "    }\n",
       "\n",
       "    .dataframe tbody tr th {\n",
       "        vertical-align: top;\n",
       "    }\n",
       "\n",
       "    .dataframe thead th {\n",
       "        text-align: right;\n",
       "    }\n",
       "</style>\n",
       "<table border=\"1\" class=\"dataframe\">\n",
       "  <thead>\n",
       "    <tr style=\"text-align: right;\">\n",
       "      <th></th>\n",
       "      <th>date</th>\n",
       "      <th>year</th>\n",
       "      <th>travelers</th>\n",
       "      <th>holiday</th>\n",
       "      <th>before_pandemic</th>\n",
       "    </tr>\n",
       "  </thead>\n",
       "  <tbody>\n",
       "    <tr>\n",
       "      <th>863</th>\n",
       "      <td>2019-01-01</td>\n",
       "      <td>2019</td>\n",
       "      <td>2,126,398</td>\n",
       "      <td>New Year's Day</td>\n",
       "      <td>Y</td>\n",
       "    </tr>\n",
       "    <tr>\n",
       "      <th>862</th>\n",
       "      <td>2019-01-02</td>\n",
       "      <td>2019</td>\n",
       "      <td>2,345,103</td>\n",
       "      <td>New Year's Day</td>\n",
       "      <td>Y</td>\n",
       "    </tr>\n",
       "    <tr>\n",
       "      <th>861</th>\n",
       "      <td>2019-01-03</td>\n",
       "      <td>2019</td>\n",
       "      <td>2,202,111</td>\n",
       "      <td>NaN</td>\n",
       "      <td>Y</td>\n",
       "    </tr>\n",
       "    <tr>\n",
       "      <th>860</th>\n",
       "      <td>2019-01-04</td>\n",
       "      <td>2019</td>\n",
       "      <td>2,150,571</td>\n",
       "      <td>NaN</td>\n",
       "      <td>Y</td>\n",
       "    </tr>\n",
       "    <tr>\n",
       "      <th>859</th>\n",
       "      <td>2019-01-05</td>\n",
       "      <td>2019</td>\n",
       "      <td>1,975,947</td>\n",
       "      <td>NaN</td>\n",
       "      <td>Y</td>\n",
       "    </tr>\n",
       "  </tbody>\n",
       "</table>\n",
       "</div>"
      ],
      "text/plain": [
       "          date  year  travelers         holiday before_pandemic\n",
       "863 2019-01-01  2019  2,126,398  New Year's Day               Y\n",
       "862 2019-01-02  2019  2,345,103  New Year's Day               Y\n",
       "861 2019-01-03  2019  2,202,111             NaN               Y\n",
       "860 2019-01-04  2019  2,150,571             NaN               Y\n",
       "859 2019-01-05  2019  1,975,947             NaN               Y"
      ]
     },
     "execution_count": 18,
     "metadata": {},
     "output_type": "execute_result"
    }
   ],
   "source": [
    "# You may need to install numpy via terminal and then restart this notebook in a new tab\n",
    "import numpy as np\n",
    "\n",
    "# np.where(statement, if true, if false)\n",
    "tsa_melted_holiday_travel['before_pandemic'] = np.where(tsa_melted_holiday_travel['date']<'2020-03-01','Y','N')\n",
    "tsa_melted_holiday_travel.head()\n",
    "\n",
    "# Note you can also nest np.where() statements, e.g.\n",
    "# np.where(statement, if true, np.where(statement, if true, if false))"
   ]
  },
  {
   "cell_type": "markdown",
   "id": "d5ccd3b9-2179-45ac-85a2-6b57f220b1ed",
   "metadata": {
    "slideshow": {
     "slide_type": "subslide"
    },
    "tags": []
   },
   "source": [
    "Next, we group together Christmas Eve and Christmas Day, likewise for New Year's Eve and New Year's Day, and create the pivot table:"
   ]
  },
  {
   "cell_type": "code",
   "execution_count": 31,
   "id": "98ab467c-f26d-436d-9f73-7ea35fc5fa86",
   "metadata": {},
   "outputs": [
    {
     "data": {
      "text/html": [
       "<div>\n",
       "<style scoped>\n",
       "    .dataframe tbody tr th:only-of-type {\n",
       "        vertical-align: middle;\n",
       "    }\n",
       "\n",
       "    .dataframe tbody tr th {\n",
       "        vertical-align: top;\n",
       "    }\n",
       "\n",
       "    .dataframe thead th {\n",
       "        text-align: right;\n",
       "    }\n",
       "</style>\n",
       "<table border=\"1\" class=\"dataframe\">\n",
       "  <thead>\n",
       "    <tr style=\"text-align: right;\">\n",
       "      <th>holiday</th>\n",
       "      <th>Christmas</th>\n",
       "      <th>July 4th</th>\n",
       "      <th>Labor Day</th>\n",
       "      <th>Memorial Day</th>\n",
       "      <th>New Year's</th>\n",
       "      <th>Thanksgiving</th>\n",
       "      <th>Total</th>\n",
       "    </tr>\n",
       "    <tr>\n",
       "      <th>year</th>\n",
       "      <th></th>\n",
       "      <th></th>\n",
       "      <th></th>\n",
       "      <th></th>\n",
       "      <th></th>\n",
       "      <th></th>\n",
       "      <th></th>\n",
       "    </tr>\n",
       "  </thead>\n",
       "  <tbody>\n",
       "    <tr>\n",
       "      <th>2019</th>\n",
       "      <td>11524228.0</td>\n",
       "      <td>9414228.0</td>\n",
       "      <td>8314811.0</td>\n",
       "      <td>9720691.0</td>\n",
       "      <td>11006965.0</td>\n",
       "      <td>9090478.0</td>\n",
       "      <td>59071401.0</td>\n",
       "    </tr>\n",
       "    <tr>\n",
       "      <th>2020</th>\n",
       "      <td>4775052.0</td>\n",
       "      <td>2682541.0</td>\n",
       "      <td>2993653.0</td>\n",
       "      <td>1126253.0</td>\n",
       "      <td>7547837.0</td>\n",
       "      <td>3364358.0</td>\n",
       "      <td>22489694.0</td>\n",
       "    </tr>\n",
       "    <tr>\n",
       "      <th>2021</th>\n",
       "      <td>NaN</td>\n",
       "      <td>NaN</td>\n",
       "      <td>NaN</td>\n",
       "      <td>NaN</td>\n",
       "      <td>1998871.0</td>\n",
       "      <td>NaN</td>\n",
       "      <td>1998871.0</td>\n",
       "    </tr>\n",
       "    <tr>\n",
       "      <th>Total</th>\n",
       "      <td>16299280.0</td>\n",
       "      <td>12096769.0</td>\n",
       "      <td>11308464.0</td>\n",
       "      <td>10846944.0</td>\n",
       "      <td>20553673.0</td>\n",
       "      <td>12454836.0</td>\n",
       "      <td>83559966.0</td>\n",
       "    </tr>\n",
       "  </tbody>\n",
       "</table>\n",
       "</div>"
      ],
      "text/plain": [
       "holiday   Christmas    July 4th   Labor Day  Memorial Day  New Year's  \\\n",
       "year                                                                    \n",
       "2019     11524228.0   9414228.0   8314811.0     9720691.0  11006965.0   \n",
       "2020      4775052.0   2682541.0   2993653.0     1126253.0   7547837.0   \n",
       "2021            NaN         NaN         NaN           NaN   1998871.0   \n",
       "Total    16299280.0  12096769.0  11308464.0    10846944.0  20553673.0   \n",
       "\n",
       "holiday  Thanksgiving       Total  \n",
       "year                               \n",
       "2019        9090478.0  59071401.0  \n",
       "2020        3364358.0  22489694.0  \n",
       "2021              NaN   1998871.0  \n",
       "Total      12454836.0  83559966.0  "
      ]
     },
     "execution_count": 31,
     "metadata": {},
     "output_type": "execute_result"
    }
   ],
   "source": [
    "import numpy as np\n",
    "\n",
    "# Group Christmas and New Year by removing Day or Eve\n",
    "tsa_melted_holiday_travel = tsa_melted_holiday_travel.assign(\n",
    "    holiday=lambda x: np.where(\n",
    "        x.holiday.str.contains('Christmas|New Year', regex=True), \n",
    "        x.holiday.str.replace('Day|Eve', '', regex=True).str.strip(), \n",
    "        x.holiday\n",
    "    )\n",
    ")\n",
    "\n",
    "tsa_melted_holiday_travel.pivot_table(\n",
    "    index='year', \n",
    "    columns='holiday', \n",
    "    values='travelers', \n",
    "    aggfunc='sum', \n",
    "    margins=True, # creates column & row totals\n",
    "    margins_name='Total'\n",
    ")"
   ]
  },
  {
   "cell_type": "markdown",
   "id": "145150cd-3fde-48c1-87d4-857c858d8494",
   "metadata": {
    "slideshow": {
     "slide_type": "subslide"
    },
    "tags": []
   },
   "source": [
    "Before moving on, let's reset the display option:"
   ]
  },
  {
   "cell_type": "code",
   "execution_count": 20,
   "id": "55e95c66-fb5b-4ee2-a1ce-8ead82a2715a",
   "metadata": {},
   "outputs": [],
   "source": [
    "pd.reset_option('display.float_format')"
   ]
  },
  {
   "cell_type": "markdown",
   "id": "fa6dc364-f48f-482b-86be-152d6d16961f",
   "metadata": {
    "slideshow": {
     "slide_type": "fragment"
    },
    "tags": []
   },
   "source": [
    "*Tip: Read more about options in the documentation [here](https://pandas.pydata.org/pandas-docs/stable/user_guide/options.html).*"
   ]
  },
  {
   "cell_type": "markdown",
   "id": "87b782d9-3404-4e68-b0eb-cdc201393cb3",
   "metadata": {},
   "source": [
    "### Exercise 3\n",
    "\n",
    "Using the meteorite data from the `Meteorite_Landings.csv` file, create a pivot table that shows both the number of meteorites and the 95th percentile of meteorite mass for those that were found versus observed falling per year from 2005 through 2009 (inclusive). Hint: Be sure to convert the `year` column to a number as we did in the previous exercise."
   ]
  },
  {
   "cell_type": "code",
   "execution_count": 21,
   "id": "86157a08-5379-4ffd-af34-da2ef32a2633",
   "metadata": {},
   "outputs": [],
   "source": [
    "# Enter your code here"
   ]
  },
  {
   "cell_type": "markdown",
   "id": "2d988e70-5547-4a15-ab6c-b0eade8fb8b9",
   "metadata": {
    "slideshow": {
     "slide_type": "subslide"
    },
    "tags": []
   },
   "source": [
    "### Crosstabs\n",
    "The `pd.crosstab()` function provides an easy way to create a frequency table. Here, we count the number of low-, medium-, and high-volume travel days per year, using the `pd.cut()` function to create three travel volume bins of equal width:"
   ]
  },
  {
   "cell_type": "code",
   "execution_count": 22,
   "id": "27d17ef2-b8be-43df-aab8-a2d7f5d228f5",
   "metadata": {},
   "outputs": [
    {
     "data": {
      "text/html": [
       "<div>\n",
       "<style scoped>\n",
       "    .dataframe tbody tr th:only-of-type {\n",
       "        vertical-align: middle;\n",
       "    }\n",
       "\n",
       "    .dataframe tbody tr th {\n",
       "        vertical-align: top;\n",
       "    }\n",
       "\n",
       "    .dataframe thead th {\n",
       "        text-align: right;\n",
       "    }\n",
       "</style>\n",
       "<table border=\"1\" class=\"dataframe\">\n",
       "  <thead>\n",
       "    <tr style=\"text-align: right;\">\n",
       "      <th>year</th>\n",
       "      <th>2019</th>\n",
       "      <th>2020</th>\n",
       "      <th>2021</th>\n",
       "    </tr>\n",
       "    <tr>\n",
       "      <th>travel_volume</th>\n",
       "      <th></th>\n",
       "      <th></th>\n",
       "      <th></th>\n",
       "    </tr>\n",
       "  </thead>\n",
       "  <tbody>\n",
       "    <tr>\n",
       "      <th>low</th>\n",
       "      <td>0</td>\n",
       "      <td>277</td>\n",
       "      <td>54</td>\n",
       "    </tr>\n",
       "    <tr>\n",
       "      <th>medium</th>\n",
       "      <td>42</td>\n",
       "      <td>44</td>\n",
       "      <td>80</td>\n",
       "    </tr>\n",
       "    <tr>\n",
       "      <th>high</th>\n",
       "      <td>323</td>\n",
       "      <td>44</td>\n",
       "      <td>0</td>\n",
       "    </tr>\n",
       "  </tbody>\n",
       "</table>\n",
       "</div>"
      ],
      "text/plain": [
       "year           2019  2020  2021\n",
       "travel_volume                  \n",
       "low               0   277    54\n",
       "medium           42    44    80\n",
       "high            323    44     0"
      ]
     },
     "execution_count": 22,
     "metadata": {},
     "output_type": "execute_result"
    }
   ],
   "source": [
    "# pd.cut() here is used to segment and sort data values 'travelers' into bins.\n",
    "tsa_melted_holiday_travel['travel_volume'] = pd.cut(tsa_melted_holiday_travel['travelers'], bins=3, labels=['low', 'medium', 'high'])\n",
    "\n",
    "# pd.crosstab() can now make a quick frequency table by year\n",
    "pd.crosstab(\n",
    "    index = tsa_melted_holiday_travel['travel_volume'], # the bins we created with pd.cut()\n",
    "    columns = tsa_melted_holiday_travel['year'] # our column headers\n",
    ")"
   ]
  },
  {
   "cell_type": "markdown",
   "id": "7aceb604-c3e9-4b1a-b62d-ada3f86ad897",
   "metadata": {
    "slideshow": {
     "slide_type": "fragment"
    },
    "tags": []
   },
   "source": [
    "*Tip: The `pd.cut()` function can also be used to specify custom bin ranges. For equal-sized bins based on quantiles, use the `pd.qcut()` function instead.*"
   ]
  },
  {
   "cell_type": "markdown",
   "id": "cb00efed-de93-4adf-92b2-4d88ae07565e",
   "metadata": {
    "slideshow": {
     "slide_type": "subslide"
    },
    "tags": []
   },
   "source": [
    "Note that the `pd.crosstab()` function supports other aggregations provided you pass in the data to aggregate as `values` and specify the aggregation with `aggfunc`. You can also add subtotals and normalize the data. See the [documentation](https://pandas.pydata.org/pandas-docs/stable/reference/api/pandas.crosstab.html) for more information."
   ]
  },
  {
   "cell_type": "markdown",
   "id": "08c2a7b6-7e1d-4c91-9360-888335dc26df",
   "metadata": {
    "slideshow": {
     "slide_type": "subslide"
    },
    "tags": []
   },
   "source": [
    "### Group by operations\n",
    "Rather than perform aggregations, like `mean()` or `describe()`, on the full dataset at once, we can perform these calculations per group by first calling `groupby()`:"
   ]
  },
  {
   "cell_type": "code",
   "execution_count": 32,
   "id": "638ecd3d-48e9-4fea-96eb-1a6be49bb43d",
   "metadata": {},
   "outputs": [
    {
     "data": {
      "text/html": [
       "<div>\n",
       "<style scoped>\n",
       "    .dataframe tbody tr th:only-of-type {\n",
       "        vertical-align: middle;\n",
       "    }\n",
       "\n",
       "    .dataframe tbody tr th {\n",
       "        vertical-align: top;\n",
       "    }\n",
       "\n",
       "    .dataframe thead tr th {\n",
       "        text-align: left;\n",
       "    }\n",
       "\n",
       "    .dataframe thead tr:last-of-type th {\n",
       "        text-align: right;\n",
       "    }\n",
       "</style>\n",
       "<table border=\"1\" class=\"dataframe\">\n",
       "  <thead>\n",
       "    <tr>\n",
       "      <th></th>\n",
       "      <th colspan=\"8\" halign=\"left\">travelers</th>\n",
       "    </tr>\n",
       "    <tr>\n",
       "      <th></th>\n",
       "      <th>count</th>\n",
       "      <th>mean</th>\n",
       "      <th>std</th>\n",
       "      <th>min</th>\n",
       "      <th>25%</th>\n",
       "      <th>50%</th>\n",
       "      <th>75%</th>\n",
       "      <th>max</th>\n",
       "    </tr>\n",
       "    <tr>\n",
       "      <th>year</th>\n",
       "      <th></th>\n",
       "      <th></th>\n",
       "      <th></th>\n",
       "      <th></th>\n",
       "      <th></th>\n",
       "      <th></th>\n",
       "      <th></th>\n",
       "      <th></th>\n",
       "    </tr>\n",
       "  </thead>\n",
       "  <tbody>\n",
       "    <tr>\n",
       "      <th>2019</th>\n",
       "      <td>365.0</td>\n",
       "      <td>2.309482e+06</td>\n",
       "      <td>285061.490784</td>\n",
       "      <td>1534386.0</td>\n",
       "      <td>2091116.0</td>\n",
       "      <td>2358007.0</td>\n",
       "      <td>2538384.00</td>\n",
       "      <td>2882915.0</td>\n",
       "    </tr>\n",
       "    <tr>\n",
       "      <th>2020</th>\n",
       "      <td>365.0</td>\n",
       "      <td>8.818674e+05</td>\n",
       "      <td>639775.194297</td>\n",
       "      <td>87534.0</td>\n",
       "      <td>507129.0</td>\n",
       "      <td>718310.0</td>\n",
       "      <td>983745.00</td>\n",
       "      <td>2507588.0</td>\n",
       "    </tr>\n",
       "    <tr>\n",
       "      <th>2021</th>\n",
       "      <td>134.0</td>\n",
       "      <td>1.112632e+06</td>\n",
       "      <td>338040.673782</td>\n",
       "      <td>468933.0</td>\n",
       "      <td>807156.0</td>\n",
       "      <td>1117391.0</td>\n",
       "      <td>1409377.75</td>\n",
       "      <td>1743515.0</td>\n",
       "    </tr>\n",
       "  </tbody>\n",
       "</table>\n",
       "</div>"
      ],
      "text/plain": [
       "     travelers                                                                \\\n",
       "         count          mean            std        min        25%        50%   \n",
       "year                                                                           \n",
       "2019     365.0  2.309482e+06  285061.490784  1534386.0  2091116.0  2358007.0   \n",
       "2020     365.0  8.818674e+05  639775.194297    87534.0   507129.0   718310.0   \n",
       "2021     134.0  1.112632e+06  338040.673782   468933.0   807156.0  1117391.0   \n",
       "\n",
       "                             \n",
       "             75%        max  \n",
       "year                         \n",
       "2019  2538384.00  2882915.0  \n",
       "2020   983745.00  2507588.0  \n",
       "2021  1409377.75  1743515.0  "
      ]
     },
     "execution_count": 32,
     "metadata": {},
     "output_type": "execute_result"
    }
   ],
   "source": [
    "tsa_melted_holiday_travel.groupby('year').describe(include=np.number)"
   ]
  },
  {
   "cell_type": "markdown",
   "id": "72053860-fe4d-4e16-971c-91dedd14f522",
   "metadata": {
    "slideshow": {
     "slide_type": "subslide"
    },
    "tags": []
   },
   "source": [
    "Groups can also be used to perform separate calculations per subset of the data. For example, we can find the highest-volume travel day per year using `rank()`:"
   ]
  },
  {
   "cell_type": "code",
   "execution_count": 36,
   "id": "7c5f7495-7d00-4b7b-a3b6-76c1f47457c4",
   "metadata": {},
   "outputs": [
    {
     "data": {
      "text/html": [
       "<div>\n",
       "<style scoped>\n",
       "    .dataframe tbody tr th:only-of-type {\n",
       "        vertical-align: middle;\n",
       "    }\n",
       "\n",
       "    .dataframe tbody tr th {\n",
       "        vertical-align: top;\n",
       "    }\n",
       "\n",
       "    .dataframe thead th {\n",
       "        text-align: right;\n",
       "    }\n",
       "</style>\n",
       "<table border=\"1\" class=\"dataframe\">\n",
       "  <thead>\n",
       "    <tr style=\"text-align: right;\">\n",
       "      <th></th>\n",
       "      <th>date</th>\n",
       "      <th>year</th>\n",
       "      <th>travelers</th>\n",
       "      <th>holiday</th>\n",
       "      <th>before_pandemic</th>\n",
       "      <th>travel_volume</th>\n",
       "      <th>travel_volume_rank</th>\n",
       "    </tr>\n",
       "  </thead>\n",
       "  <tbody>\n",
       "    <tr>\n",
       "      <th>896</th>\n",
       "      <td>2019-11-29</td>\n",
       "      <td>2019</td>\n",
       "      <td>2882915.0</td>\n",
       "      <td>Thanksgiving</td>\n",
       "      <td>Y</td>\n",
       "      <td>high</td>\n",
       "      <td>1.0</td>\n",
       "    </tr>\n",
       "    <tr>\n",
       "      <th>456</th>\n",
       "      <td>2020-02-12</td>\n",
       "      <td>2020</td>\n",
       "      <td>2507588.0</td>\n",
       "      <td>NaN</td>\n",
       "      <td>Y</td>\n",
       "      <td>high</td>\n",
       "      <td>1.0</td>\n",
       "    </tr>\n",
       "    <tr>\n",
       "      <th>1</th>\n",
       "      <td>2021-05-13</td>\n",
       "      <td>2021</td>\n",
       "      <td>1743515.0</td>\n",
       "      <td>NaN</td>\n",
       "      <td>N</td>\n",
       "      <td>medium</td>\n",
       "      <td>1.0</td>\n",
       "    </tr>\n",
       "  </tbody>\n",
       "</table>\n",
       "</div>"
      ],
      "text/plain": [
       "          date  year  travelers       holiday before_pandemic travel_volume  \\\n",
       "896 2019-11-29  2019  2882915.0  Thanksgiving               Y          high   \n",
       "456 2020-02-12  2020  2507588.0           NaN               Y          high   \n",
       "1   2021-05-13  2021  1743515.0           NaN               N        medium   \n",
       "\n",
       "     travel_volume_rank  \n",
       "896                 1.0  \n",
       "456                 1.0  \n",
       "1                   1.0  "
      ]
     },
     "execution_count": 36,
     "metadata": {},
     "output_type": "execute_result"
    }
   ],
   "source": [
    "# Create rank of travelers each year\n",
    "tsa_melted_holiday_travel['travel_volume_rank'] = tsa_melted_holiday_travel.groupby('year').travelers.rank(ascending=False)\n",
    "\n",
    "# show top ranks for each year\n",
    "tsa_melted_holiday_travel.sort_values(['travel_volume_rank', 'year']).head(3)"
   ]
  },
  {
   "cell_type": "markdown",
   "id": "bc57c29a-cd58-4ff5-9c69-9e8f68b05168",
   "metadata": {
    "slideshow": {
     "slide_type": "subslide"
    },
    "tags": []
   },
   "source": [
    "The previous two examples called a single method on the grouped data, but using the `agg()` method we can specify any number of them:"
   ]
  },
  {
   "cell_type": "code",
   "execution_count": 38,
   "id": "ce014d66-ba8b-4537-b8f1-9548dccab5b9",
   "metadata": {},
   "outputs": [
    {
     "data": {
      "text/html": [
       "<div>\n",
       "<style scoped>\n",
       "    .dataframe tbody tr th:only-of-type {\n",
       "        vertical-align: middle;\n",
       "    }\n",
       "\n",
       "    .dataframe tbody tr th {\n",
       "        vertical-align: top;\n",
       "    }\n",
       "\n",
       "    .dataframe thead tr th {\n",
       "        text-align: left;\n",
       "    }\n",
       "\n",
       "    .dataframe thead tr:last-of-type th {\n",
       "        text-align: right;\n",
       "    }\n",
       "</style>\n",
       "<table border=\"1\" class=\"dataframe\">\n",
       "  <thead>\n",
       "    <tr>\n",
       "      <th></th>\n",
       "      <th colspan=\"2\" halign=\"left\">travelers</th>\n",
       "      <th colspan=\"2\" halign=\"left\">travel_volume_rank</th>\n",
       "      <th colspan=\"2\" halign=\"left\">holiday_travelers</th>\n",
       "      <th colspan=\"2\" halign=\"left\">non_holiday_travelers</th>\n",
       "    </tr>\n",
       "    <tr>\n",
       "      <th></th>\n",
       "      <th>mean</th>\n",
       "      <th>std</th>\n",
       "      <th>mean</th>\n",
       "      <th>std</th>\n",
       "      <th>mean</th>\n",
       "      <th>std</th>\n",
       "      <th>mean</th>\n",
       "      <th>std</th>\n",
       "    </tr>\n",
       "    <tr>\n",
       "      <th>year</th>\n",
       "      <th></th>\n",
       "      <th></th>\n",
       "      <th></th>\n",
       "      <th></th>\n",
       "      <th></th>\n",
       "      <th></th>\n",
       "      <th></th>\n",
       "      <th></th>\n",
       "    </tr>\n",
       "  </thead>\n",
       "  <tbody>\n",
       "    <tr>\n",
       "      <th>2019</th>\n",
       "      <td>2.309482e+06</td>\n",
       "      <td>285061.490784</td>\n",
       "      <td>183.0</td>\n",
       "      <td>105.510656</td>\n",
       "      <td>2.271977e+06</td>\n",
       "      <td>303021.675751</td>\n",
       "      <td>2.312359e+06</td>\n",
       "      <td>283906.226598</td>\n",
       "    </tr>\n",
       "    <tr>\n",
       "      <th>2020</th>\n",
       "      <td>8.818674e+05</td>\n",
       "      <td>639775.194297</td>\n",
       "      <td>183.0</td>\n",
       "      <td>105.510656</td>\n",
       "      <td>8.649882e+05</td>\n",
       "      <td>489938.240989</td>\n",
       "      <td>8.831619e+05</td>\n",
       "      <td>650399.772930</td>\n",
       "    </tr>\n",
       "    <tr>\n",
       "      <th>2021</th>\n",
       "      <td>1.112632e+06</td>\n",
       "      <td>338040.673782</td>\n",
       "      <td>67.5</td>\n",
       "      <td>38.826537</td>\n",
       "      <td>9.994355e+05</td>\n",
       "      <td>273573.249680</td>\n",
       "      <td>1.114347e+06</td>\n",
       "      <td>339479.298658</td>\n",
       "    </tr>\n",
       "  </tbody>\n",
       "</table>\n",
       "</div>"
      ],
      "text/plain": [
       "         travelers                travel_volume_rank              \\\n",
       "              mean            std               mean         std   \n",
       "year                                                               \n",
       "2019  2.309482e+06  285061.490784              183.0  105.510656   \n",
       "2020  8.818674e+05  639775.194297              183.0  105.510656   \n",
       "2021  1.112632e+06  338040.673782               67.5   38.826537   \n",
       "\n",
       "     holiday_travelers                non_holiday_travelers                 \n",
       "                  mean            std                  mean            std  \n",
       "year                                                                        \n",
       "2019      2.271977e+06  303021.675751          2.312359e+06  283906.226598  \n",
       "2020      8.649882e+05  489938.240989          8.831619e+05  650399.772930  \n",
       "2021      9.994355e+05  273573.249680          1.114347e+06  339479.298658  "
      ]
     },
     "execution_count": 38,
     "metadata": {},
     "output_type": "execute_result"
    }
   ],
   "source": [
    "# Create columns for travellers during the holidays and non-holidays, and converting year to a numeric\n",
    "tsa_melted_holiday_travel = tsa_melted_holiday_travel.assign(\n",
    "    holiday_travelers=lambda x: np.where(x.holiday.isna(), np.nan, x.travelers),\n",
    "    non_holiday_travelers=lambda x: np.where(x.holiday.isna(), x.travelers, np.nan),\n",
    "    year=lambda x: pd.to_numeric(x.year)\n",
    ")\n",
    "\n",
    "# select_dtypes(include='number') is selecting all numerical data types from our dataframe\n",
    "tsa_melted_holiday_travel.select_dtypes(include='number').groupby('year').agg(['mean', 'std'])"
   ]
  },
  {
   "cell_type": "markdown",
   "id": "f7484d71-3091-4d8f-9e2d-53b07871ebaf",
   "metadata": {
    "slideshow": {
     "slide_type": "fragment"
    },
    "tags": []
   },
   "source": [
    "*Tip: The `select_dtypes()` method makes it possible to select columns by their data type. We can specify the data types to `exclude` and/or `include`.*"
   ]
  },
  {
   "cell_type": "markdown",
   "id": "7f012232-0ac4-48ce-9ae3-ed936657ef24",
   "metadata": {
    "slideshow": {
     "slide_type": "subslide"
    },
    "tags": []
   },
   "source": [
    "In addition, we can specify which aggregations to perform on each column:"
   ]
  },
  {
   "cell_type": "code",
   "execution_count": 26,
   "id": "3080e40b-4ac7-4395-a76e-e773d16901fc",
   "metadata": {},
   "outputs": [
    {
     "data": {
      "text/html": [
       "<div>\n",
       "<style scoped>\n",
       "    .dataframe tbody tr th:only-of-type {\n",
       "        vertical-align: middle;\n",
       "    }\n",
       "\n",
       "    .dataframe tbody tr th {\n",
       "        vertical-align: top;\n",
       "    }\n",
       "\n",
       "    .dataframe thead tr th {\n",
       "        text-align: left;\n",
       "    }\n",
       "\n",
       "    .dataframe thead tr:last-of-type th {\n",
       "        text-align: right;\n",
       "    }\n",
       "</style>\n",
       "<table border=\"1\" class=\"dataframe\">\n",
       "  <thead>\n",
       "    <tr>\n",
       "      <th></th>\n",
       "      <th colspan=\"2\" halign=\"left\">holiday_travelers</th>\n",
       "      <th colspan=\"2\" halign=\"left\">holiday</th>\n",
       "    </tr>\n",
       "    <tr>\n",
       "      <th></th>\n",
       "      <th>mean</th>\n",
       "      <th>std</th>\n",
       "      <th>nunique</th>\n",
       "      <th>count</th>\n",
       "    </tr>\n",
       "    <tr>\n",
       "      <th>year</th>\n",
       "      <th></th>\n",
       "      <th></th>\n",
       "      <th></th>\n",
       "      <th></th>\n",
       "    </tr>\n",
       "  </thead>\n",
       "  <tbody>\n",
       "    <tr>\n",
       "      <th>2019</th>\n",
       "      <td>2.271977e+06</td>\n",
       "      <td>303021.675751</td>\n",
       "      <td>6</td>\n",
       "      <td>26</td>\n",
       "    </tr>\n",
       "    <tr>\n",
       "      <th>2020</th>\n",
       "      <td>8.649882e+05</td>\n",
       "      <td>489938.240989</td>\n",
       "      <td>6</td>\n",
       "      <td>26</td>\n",
       "    </tr>\n",
       "    <tr>\n",
       "      <th>2021</th>\n",
       "      <td>9.994355e+05</td>\n",
       "      <td>273573.249680</td>\n",
       "      <td>1</td>\n",
       "      <td>2</td>\n",
       "    </tr>\n",
       "  </tbody>\n",
       "</table>\n",
       "</div>"
      ],
      "text/plain": [
       "     holiday_travelers                holiday      \n",
       "                  mean            std nunique count\n",
       "year                                               \n",
       "2019      2.271977e+06  303021.675751       6    26\n",
       "2020      8.649882e+05  489938.240989       6    26\n",
       "2021      9.994355e+05  273573.249680       1     2"
      ]
     },
     "execution_count": 26,
     "metadata": {},
     "output_type": "execute_result"
    }
   ],
   "source": [
    "tsa_melted_holiday_travel.assign(\n",
    "    holiday_travelers=lambda x: np.where(x.holiday.isna(), np.nan, x.travelers),\n",
    "    non_holiday_travelers=lambda x: np.where(x.holiday.isna(), x.travelers, np.nan)\n",
    ").groupby('year').agg({\n",
    "    'holiday_travelers': ['mean', 'std'], \n",
    "    'holiday': ['nunique', 'count']\n",
    "})"
   ]
  },
  {
   "cell_type": "markdown",
   "id": "73fc6c25-387e-4ff6-aaa0-7e212f766c2e",
   "metadata": {
    "slideshow": {
     "slide_type": "subslide"
    },
    "tags": []
   },
   "source": [
    "We are only scratching the surface; some additional functionalities to be aware of include the following:\n",
    "- We can group by multiple columns &ndash; this creates a hierarchical index.\n",
    "- Groups can be excluded from calculations with the `filter()` method.\n",
    "- We can group on content in the index using the `level` or `name` parameters e.g., `groupby(level=0)` or `groupby(name='year')`.\n",
    "- We can group by date ranges if we use a `pd.Grouper()` object."
   ]
  },
  {
   "cell_type": "markdown",
   "id": "fd7409b7-6eec-4ed0-8a09-c8b6333ef75d",
   "metadata": {
    "slideshow": {
     "slide_type": "fragment"
    },
    "tags": []
   },
   "source": [
    "Be sure to check out the [documentation](https://pandas.pydata.org/pandas-docs/stable/reference/api/pandas.DataFrame.groupby.html) for more details."
   ]
  },
  {
   "cell_type": "markdown",
   "id": "f35e0f4b-916e-4a99-ba99-4d4a02d4d884",
   "metadata": {},
   "source": [
    "### Exercise 4\n",
    "\n",
    "Using the meteorite data from the `Meteorite_Landings.csv` file, compare summary statistics of the mass column for the meteorites that were found versus observed falling."
   ]
  },
  {
   "cell_type": "code",
   "execution_count": 27,
   "id": "32e4f6ff-a57c-4d50-9911-fd74b4522125",
   "metadata": {},
   "outputs": [],
   "source": [
    "# Enter your code here"
   ]
  },
  {
   "cell_type": "markdown",
   "id": "046e8279-f2a1-4018-aec2-fd34a7c6c925",
   "metadata": {},
   "source": [
    "## Mini Project: Preppin' Data 2022: Week 4\n",
    "\n",
    "The final introductory challenge for 2022 looks at how are students are getting to and from the school. Are the students travelling in a sustainable manner? What's the most popular type of sustainable travel?ut"
   ]
  },
  {
   "cell_type": "code",
   "execution_count": 28,
   "id": "54d34522-00d3-41c2-a7d2-72a553604dea",
   "metadata": {},
   "outputs": [
    {
     "name": "stdout",
     "output_type": "stream",
     "text": [
      "Input\n",
      "\n",
      "Students\n",
      "   id pupil first name pupil last name  gender Date of Birth  \\\n",
      "0   1            Ronna         Nellies  Female    12/21/2013   \n",
      "1   2            Rusty       Andriulis    Male     7/21/2012   \n",
      "2   3          Roberta       Oakeshott  Female     12/4/2011   \n",
      "3   4             Lola       Rubinfajn    Male     6/29/2012   \n",
      "4   5           Kamila        Benedtti  Female     7/10/2012   \n",
      "\n",
      "  Parental Contact Name_1 Parental Contact Name_2 Preferred Contact Employer  \\\n",
      "0                 Purcell                   Ketti                     Demizz   \n",
      "1                 Vassili                    Rivi                   Brainbox   \n",
      "2                    Lind                 Haskell                   Centidel   \n",
      "3                    Elie                   Tresa                   Edgeblab   \n",
      "4                   Adela                  Clevey                     Trudoo   \n",
      "\n",
      "   Parental Contact  \n",
      "0                 1  \n",
      "1                 1  \n",
      "2                 2  \n",
      "3                 2  \n",
      "4                 1  \n",
      " \n",
      " \n",
      " \n",
      "Travel\n",
      "   Student ID        M       Tu        W       Th        F\n",
      "0           1      Car      Car      Car      Car  Bycycle\n",
      "1           2  Bicycle  Bicycle  Bicycle     Walk     Walk\n",
      "2           3      Car  Bicycle     Carr     Walk      Car\n",
      "3           4  Scooter  Scooter   Scootr  Scooter   Scoter\n",
      "4           5  Bycycle     Carr   Scoter    Walkk   Scoter\n"
     ]
    }
   ],
   "source": [
    "import pandas as pd \n",
    "student_df = pd.read_csv('../data/students.csv')\n",
    "travel_df = pd.read_csv('../data/travel.csv')\n",
    "\n",
    "print(\"\"\"Input\n",
    "\"\"\")\n",
    "\n",
    "print('Students')\n",
    "print(student_df.head(5))\n",
    "print(\"\"\" \n",
    " \n",
    " \"\"\")\n",
    "print('Travel')\n",
    "print(travel_df.head(5))"
   ]
  },
  {
   "cell_type": "markdown",
   "id": "59bbfd12-b9b6-4267-a9c8-e36f81ef9558",
   "metadata": {},
   "source": [
    "### Requirements\n",
    "\n",
    "- Input the data sets\n",
    "- Join the data sets together based on their common field\n",
    "- Remove any fields you don't need for the challenge\n",
    "- Change the weekdays from separate columns to one column of weekdays and one of the pupil's travel choice\n",
    "- Group the travel choices together to remove spelling mistakes\n",
    "- Create a Sustainable (non-motorised) vs Non-Sustainable (motorised) data field \n",
    "- Scooters are the child type rather than the motorised type\n",
    "- Total up the number of pupil's travelling by each method of travel \n",
    "- Work out the % of trips taken by each method of travel each day\n",
    "- Round to 2 decimal places\n",
    "- Output the data"
   ]
  },
  {
   "cell_type": "code",
   "execution_count": 29,
   "id": "e66dda60-bc74-4472-a336-68675e924111",
   "metadata": {},
   "outputs": [],
   "source": [
    "# Enter your code here"
   ]
  },
  {
   "cell_type": "code",
   "execution_count": 30,
   "id": "a94d0234-e201-4dac-a219-441d5e20fe60",
   "metadata": {},
   "outputs": [
    {
     "name": "stdout",
     "output_type": "stream",
     "text": [
      "      Sustainable?  % of trips per day  Trips per day  Number of Trips  \\\n",
      "0      Sustainable                0.51           1000              510   \n",
      "1  Non-Sustainable                0.01           1000                9   \n",
      "2  Non-Sustainable                0.01           1000                9   \n",
      "3      Sustainable                0.01           1000               13   \n",
      "4      Sustainable                0.22           1000              220   \n",
      "\n",
      "  Weekday Method of Travel  \n",
      "0      Th             Walk  \n",
      "1      Th        Aeroplane  \n",
      "2      Tu        Aeroplane  \n",
      "3       W  Mum's Shoulders  \n",
      "4      Tu          Bicycle  \n"
     ]
    }
   ],
   "source": [
    "import pandas as pd \n",
    "solution_df = pd.read_csv('../data/PD2022Wk4Output.csv')\n",
    "print(solution_df.head(5))"
   ]
  },
  {
   "cell_type": "markdown",
   "id": "1b0b2237-2f33-4f7f-9517-27a5d26e95b7",
   "metadata": {},
   "source": [
    "## Additional Resources\n",
    "- 📰 **Py Data** - Pandas Docs - https://pandas.pydata.org/docs/\n",
    "- 📰 **wjsutton** - Python Preppin' Data Solutions - https://github.com/wjsutton/preppin-data\n",
    "- 📺 **Alex the Analyst** The Best Python Pandas Tutorial - https://youtu.be/bDhvCp3_lYw?si=LljpeI6ad1lNgr5z\n",
    "\n",
    "## Summary\n",
    "\n",
    "In this lesson explored more ways to clean and prepare a dataset, utilised lamda functions, and saw how we can join, pivot and union data in Python. \n",
    "\n",
    "## Next Lesson\n",
    "\n",
    "**[Lesson 6: Pandas Test](./fundamentals-06-pandas-test.ipynb)** \n",
    "Put those skills to work in this test on pandas."
   ]
  }
 ],
 "metadata": {
  "kernelspec": {
   "display_name": "Python 3 (ipykernel)",
   "language": "python",
   "name": "python3"
  },
  "language_info": {
   "codemirror_mode": {
    "name": "ipython",
    "version": 3
   },
   "file_extension": ".py",
   "mimetype": "text/x-python",
   "name": "python",
   "nbconvert_exporter": "python",
   "pygments_lexer": "ipython3",
   "version": "3.10.10"
  }
 },
 "nbformat": 4,
 "nbformat_minor": 5
}
