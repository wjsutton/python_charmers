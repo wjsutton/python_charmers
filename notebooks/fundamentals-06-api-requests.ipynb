{
 "cells": [
  {
   "cell_type": "markdown",
   "id": "f494e021-727d-49fd-9be9-7caef053cd33",
   "metadata": {},
   "source": [
    "# Section 4: Hands-On Data Analysis Lab\n",
    "\n",
    "We will practice all that you’ve learned in a hands-on lab. This section features a set of analysis tasks that provide opportunities to apply the material from the previous sections. This lab comes in 2 formats &ndash; select the one that is most appropriate:\n",
    "\n",
    "- [Live Session](../notebooks/4-hands_on_data_analysis_lab.ipynb#Live-Session)\n",
    "- [Asynchronous Session](#Asynchronous-Session)\n",
    "\n",
    "## Asynchronous Session\n",
    "\n",
    "The lab tasks for the asynchronous session can be found below. Note that these are different from those in the live session. Sample solutions can be found [here](solutions.ipynb).\n",
    "\n",
    "### About the Data\n",
    "\n",
    "We will be using 2019 flight statistics from the United States Department of Transportation’s Bureau of Transportation Statistics (available [here](https://www.transtats.bts.gov/DL_SelectFields.asp?gnoyr_VQ=FMF&QO_fu146_anzr=Nv4%20Pn44vr45) and in this repository as `data/T100_MARKET_ALL_CARRIER.zip`). Each row contains information about a specific route for a given carrier in a given month (e.g., JFK &rarr; LAX on Delta Airlines in January). There are 321,409 rows and 41 columns. Note that you don't need to unzip the file to read it in with `pd.read_csv()`.\n",
    "\n",
    "#### Exercises\n",
    "\n",
    "##### 1. Read in the data and convert the column names to lowercase to make them easier to work with."
   ]
  },
  {
   "cell_type": "code",
   "execution_count": null,
   "id": "66c20c07-36c7-4035-a382-edd0d5b65f10",
   "metadata": {},
   "outputs": [],
   "source": []
  },
  {
   "cell_type": "markdown",
   "id": "7583ee63-a49a-4ee4-a997-f3f15a67e8f5",
   "metadata": {},
   "source": [
    "##### 2. What columns are in the data?"
   ]
  },
  {
   "cell_type": "code",
   "execution_count": null,
   "id": "4b666eca-d4f7-42df-ae37-8d933c35b76f",
   "metadata": {},
   "outputs": [],
   "source": []
  },
  {
   "cell_type": "markdown",
   "id": "1b4b5dbb-9175-4f2a-88c9-0bd0b51227eb",
   "metadata": {},
   "source": [
    "##### 3. How many distinct carrier names are in the dataset?"
   ]
  },
  {
   "cell_type": "code",
   "execution_count": null,
   "id": "44a7eb68-f2ff-44bd-98c6-cb2e14fecf2e",
   "metadata": {},
   "outputs": [],
   "source": []
  },
  {
   "cell_type": "markdown",
   "id": "2f4cf587-5c27-49e4-b207-c88246fa407b",
   "metadata": {},
   "source": [
    "##### 4. Calculate the totals of the `freight`, `mail`, and `passengers` columns for flights from the United Kingdom to the United States."
   ]
  },
  {
   "cell_type": "code",
   "execution_count": null,
   "id": "6b425e67-4c79-425a-a65e-3c9acec8caa5",
   "metadata": {},
   "outputs": [],
   "source": []
  },
  {
   "cell_type": "markdown",
   "id": "8646906c-90f1-492f-b7d1-ec8d9d5d2c4e",
   "metadata": {},
   "source": [
    "##### 5. Find the top 5 carriers for median route distance (i.e., for all origin-destination pairs that each carrier has, find the median distance after removing duplicates)."
   ]
  },
  {
   "cell_type": "code",
   "execution_count": null,
   "id": "77ad5f12-72f1-4d9c-8ee4-7bdd98ab4a63",
   "metadata": {},
   "outputs": [],
   "source": []
  },
  {
   "cell_type": "markdown",
   "id": "14df568e-e9c5-4ff4-9ba2-5afb9e813846",
   "metadata": {},
   "source": [
    "##### 6. Find the total cargo transported (mail + freight) and mean distance traveled for the 10 carriers that transported the most cargo."
   ]
  },
  {
   "cell_type": "code",
   "execution_count": null,
   "id": "dddd7f77-aef8-4cf1-91fe-c5aab118cb46",
   "metadata": {},
   "outputs": [],
   "source": []
  },
  {
   "cell_type": "markdown",
   "id": "e13054ce-a69d-4c86-b484-ee6cad664ae3",
   "metadata": {},
   "source": [
    "##### 7. Which 10 carriers flew the most passengers out of the United States to another country?"
   ]
  },
  {
   "cell_type": "code",
   "execution_count": null,
   "id": "fff4f9df-8d9c-445b-bcce-05977aa72e4e",
   "metadata": {},
   "outputs": [],
   "source": []
  },
  {
   "cell_type": "markdown",
   "id": "c7ce2d15-42bd-48f3-9292-f0a7aeb57010",
   "metadata": {},
   "source": [
    "##### 8. For each of the carriers found in *#7*, find the most popular destination country outside of the United States."
   ]
  },
  {
   "cell_type": "code",
   "execution_count": null,
   "id": "ee2eebe0-2384-4cf1-924c-99f1d62e481b",
   "metadata": {},
   "outputs": [],
   "source": []
  },
  {
   "cell_type": "markdown",
   "id": "d93b58d7-38a2-48a7-b780-e4358b02d5f8",
   "metadata": {},
   "source": [
    "##### 9. For each of the carriers found in *#7*, find the total number of passengers flown on international flights to/from the destinations in *#8* or the United States. Note that this dataset only has data for flights with an origin and/or destination of the United States."
   ]
  },
  {
   "cell_type": "code",
   "execution_count": null,
   "id": "1bc598b5-4cfd-4307-bbba-5952121043dd",
   "metadata": {},
   "outputs": [],
   "source": []
  },
  {
   "cell_type": "markdown",
   "id": "89d9952b-5f8f-4d3c-a320-be392ea76323",
   "metadata": {},
   "source": [
    "##### 10. Between which two cities were the most passengers flown? Make sure to account for both directions."
   ]
  },
  {
   "cell_type": "code",
   "execution_count": null,
   "id": "00b6eda1-4591-422a-abd7-466b1e1d8128",
   "metadata": {},
   "outputs": [],
   "source": []
  },
  {
   "cell_type": "markdown",
   "id": "9a03d6bd-d654-49a2-9b19-ef9e422d984c",
   "metadata": {},
   "source": [
    "##### 11. Find the top 3 carriers for the pair of cities found in *#10* and calculate the percentage of passengers each accounted for."
   ]
  },
  {
   "cell_type": "code",
   "execution_count": null,
   "id": "a0e55857-ebe5-4d87-8660-dd92091580ff",
   "metadata": {},
   "outputs": [],
   "source": []
  },
  {
   "cell_type": "markdown",
   "id": "c4c7024c-dce5-46a3-a520-3bf6ae294bd3",
   "metadata": {},
   "source": [
    "##### 12. Find the percentage of international travel per country using total passengers on class F flights."
   ]
  },
  {
   "cell_type": "code",
   "execution_count": null,
   "id": "40c37867-16bf-4c8c-a1a8-46968ad2959b",
   "metadata": {},
   "outputs": [],
   "source": []
  },
  {
   "cell_type": "markdown",
   "id": "310d6c9c-1438-4391-aa97-a58193a9bde1",
   "metadata": {},
   "source": [
    "##### 13. Using a crosstab, find the percentage of total passengers on class F international flights between US cities and the countries found in *#12* that used the carriers found in *#11*. "
   ]
  },
  {
   "cell_type": "code",
   "execution_count": null,
   "id": "f7e37cde-8346-4617-9942-466a969d0da8",
   "metadata": {},
   "outputs": [],
   "source": []
  },
  {
   "cell_type": "markdown",
   "id": "c11ee42e-7dee-408f-9e42-d06e85ff9b8d",
   "metadata": {},
   "source": [
    "##### 14. Create a pivot table showing the total passengers transported between cities in the United States and other countries by the carriers identified in *#7*. Select the top 10 US cities and top 10 international countries from the result."
   ]
  },
  {
   "cell_type": "code",
   "execution_count": null,
   "id": "d88ef592-9686-4e07-bbd7-0a1429c5f2f6",
   "metadata": {},
   "outputs": [],
   "source": []
  },
  {
   "cell_type": "markdown",
   "id": "cb7dd171-87f5-4d78-8168-cbd9e6f907f7",
   "metadata": {},
   "source": [
    "##### 15: For the top 15 international countries, find the percentage of class F passengers traveling to/from the top 10 US cities for international travel (e.g. if only cities A, B, and C flew into Aruba, the sum of the Aruba row/column would be 1). Plot the result as a heatmap."
   ]
  },
  {
   "cell_type": "code",
   "execution_count": null,
   "id": "e4f4c4e4-e335-432a-aa8a-f50d98530ba2",
   "metadata": {},
   "outputs": [],
   "source": []
  }
 ],
 "metadata": {
  "kernelspec": {
   "display_name": "Python 3",
   "language": "python",
   "name": "python3"
  },
  "language_info": {
   "codemirror_mode": {
    "name": "ipython",
    "version": 3
   },
   "file_extension": ".py",
   "mimetype": "text/x-python",
   "name": "python",
   "nbconvert_exporter": "python",
   "pygments_lexer": "ipython3",
   "version": "3.7.3"
  }
 },
 "nbformat": 4,
 "nbformat_minor": 5
}
