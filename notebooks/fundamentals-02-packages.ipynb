{
 "cells": [
  {
   "cell_type": "markdown",
   "id": "7c15594d-e56d-4148-9c93-4ab0bb24a268",
   "metadata": {},
   "source": [
    "# Python Charmers \n",
    "\n",
    "## Week 1 Lesson 1: Variables, Packages, and Files\n",
    "\n",
    "### Lesson Overview\n",
    "- **Objective:** This lesson gets you started with the basics for handling files in Python.\n",
    "- **Prerequisites:** None\n",
    "- **Duration:** 15 mins"
   ]
  },
  {
   "cell_type": "markdown",
   "id": "4609a9f0-3cda-4c9c-a7e2-36a7683df4f5",
   "metadata": {},
   "source": [
    "## Variables\n",
    "\n",
    "A variable in Python is like a container or a label that you can use to store information. Think of it as a box where you can put something, like a number or a piece of text, and then use that box's label to refer to what's inside it later in your program.\n",
    "\n",
    "For data analysts, variables are extremely useful for several reasons:\n",
    "- Storing Data: Variables can hold data that you need to analyze. This could be numbers, text, dates, or more complex data like lists and tables.\n",
    "- Code Readability and Maintenance: By giving meaningful names to variables (like sales_data or customer_age), your code becomes easier to read and understand. This is especially important when you're working on large projects or collaborating with others.\n",
    "- Manipulating Data: Variables allow you to easily manipulate data. For example, you can perform calculations on numerical data, combine text data, or reorganize lists.\n",
    "- Reusability: Once you store data in a variable, you can use it multiple times throughout your program without having to retype it or retrieve it again from its original source.\n",
    "- Dynamic Analysis: Variables make your analysis dynamic. Instead of having hard-coded values, you can change the values of variables to see how different inputs affect your analysis results.\n",
    "\n",
    "Let's see some in action...\n"
   ]
  },
  {
   "cell_type": "code",
   "execution_count": 1,
   "id": "d713b683-43e3-4731-92cc-fb8455267ea0",
   "metadata": {},
   "outputs": [
    {
     "name": "stdout",
     "output_type": "stream",
     "text": [
      "Bob\n",
      "321\n"
     ]
    }
   ],
   "source": [
    "# Define text & int variables\n",
    "my_name = 'Bob'\n",
    "print(my_name)\n",
    "\n",
    "my_fav_number = 321\n",
    "print(my_fav_number)"
   ]
  },
  {
   "cell_type": "code",
   "execution_count": 2,
   "id": "2ce1b33d-9d65-4347-ac07-fd06e0cb0d8a",
   "metadata": {},
   "outputs": [
    {
     "name": "stdout",
     "output_type": "stream",
     "text": [
      "Not Bob\n",
      "4321\n",
      "8321\n"
     ]
    }
   ],
   "source": [
    "# Update variables\n",
    "# a) reassign a new value to the variable\n",
    "my_name = 'Not Bob'\n",
    "print(my_name)\n",
    "\n",
    "# b) modify the existing variable\n",
    "my_fav_number = my_fav_number + 4000\n",
    "print(my_fav_number)\n",
    "\n",
    "# which you may also see written as \n",
    "my_fav_number += 4000\n",
    "print(my_fav_number)"
   ]
  },
  {
   "cell_type": "markdown",
   "id": "9ee5f7ce-9c81-4a7e-a2a1-6c6e92df4a39",
   "metadata": {},
   "source": [
    "Variables don't just store single values. They can also be a store of different objects, such as lists, dataframes, files.\n",
    "\n",
    "In the example below we are creating lists and storing them as variables:\r",
    "\r",
    "- numbers, fruits, and mixed_list are variable.\n",
    "- Each of these variables is storing a different list\r",
    "t-\r\n",
    "Lists can be accessed and manipulated using these variables."
   ]
  },
  {
   "cell_type": "code",
   "execution_count": 3,
   "id": "8cd6e16d-a739-4864-aaf7-aa10b5b17745",
   "metadata": {},
   "outputs": [
    {
     "name": "stdout",
     "output_type": "stream",
     "text": [
      "Numbers: [1, 2, 3, 4, 5]\n",
      "Fruits: ['apple', 'banana', 'cherry']\n",
      "Mixed List: [42, 'hello', 3.14, [1, 2, 3]]\n",
      "First fruit: apple\n",
      "Second number: 2\n"
     ]
    }
   ],
   "source": [
    "# Creating a list of numbers\n",
    "numbers = [1, 2, 3, 4, 5]\n",
    "\n",
    "# Creating a list of strings\n",
    "fruits = [\"apple\", \"banana\", \"cherry\"]\n",
    "\n",
    "# Creating a mixed list\n",
    "mixed_list = [42, \"hello\", 3.14, [1, 2, 3]]\n",
    "\n",
    "# Printing the lists\n",
    "print(\"Numbers:\", numbers)\n",
    "print(\"Fruits:\", fruits)\n",
    "print(\"Mixed List:\", mixed_list)\n",
    "\n",
    "# Accessing elements in the list\n",
    "first_fruit = fruits[0]  # 'apple'\n",
    "second_number = numbers[1]  # 2\n",
    "\n",
    "# print list selections\n",
    "print(\"First fruit:\", first_fruit)\n",
    "print(\"Second number:\", second_number)"
   ]
  },
  {
   "cell_type": "markdown",
   "id": "3f0eaa60-ea14-45c0-9060-abb875ca74dc",
   "metadata": {},
   "source": [
    "*Note: when accessing data from variables the count starts at 0. \n",
    "e.g. fruits[0] is the first fruit from the list 'fruits'*"
   ]
  },
  {
   "cell_type": "code",
   "execution_count": null,
   "id": "a86940ee-483f-4aa4-ba7b-ba677f009e91",
   "metadata": {},
   "outputs": [],
   "source": [
    "# Exercise 1\n",
    "\n",
    "\n",
    "# Exercise 2\n",
    "\n"
   ]
  },
  {
   "cell_type": "markdown",
   "id": "c0d2a4aa-9f0a-4dc8-b2c0-dce63af2027f",
   "metadata": {},
   "source": [
    "## Python Packages\n",
    "\n",
    "A package in Python is like a toolbox that contains a variety of tools (called functions and modules) which you can use to perform specific tasks more easily and efficiently. \n",
    "\n",
    "These packages are created by other developers and can be installed and used in your own Python programs.\n",
    "\n",
    "For data analysts, packages are particularly useful because they provide specialized tools and functions that are tailored for data analysis tasks. \n",
    "\n",
    "Let's take the example of the **pandas** library/package:\n",
    "- **Data Handling and Manipulation**: Pandas makes it easy to handle and manipulate data. It provides functions to read data from various file formats (like CSV, Excel, etc.), clean data, and transform it into a useful format.\n",
    "- **Data Analysis**: With pandas, you can perform complex data analysis tasks with just a few lines of code. It offers functionalities for grouping data, calculating statistics, and performing aggregations.\n",
    "- **Efficiency**: Writing the code for all these tasks from scratch would be time-consuming and error-prone. Pandas provides a tested and optimized set of functions that can save a lot of time and effort.\n",
    "\n",
    "### Not all packages are installed by default\n",
    "\n",
    "Task: Install a package using pip\n",
    "\r",
    " - `\n",
    "pi`p is the package installer for Python. You can use it to install packages from the Python Package Index (PyPI). - \r\n",
    "Basic command`: pip install package_na`m\n",
    "#### e\r\n",
    "Exercse:\r\n",
    "Install the pandas package usingpip., open a Terminal window, and execute:\n",
    "\n",
    "```\n",
    "pip instpandasnamey.*\n",
    "\n",
    "\n",
    "### Python won't use packages by default, you have to import them in your script and reference them\n",
    "\n",
    "e.g. in Python\n",
    "```\n",
    "import pandas\n",
    "\n",
    "pandas.read_csv(.....)\n",
    "```\n",
    "\n",
    "Typically the pandas library is imported with an alias `pd` to save retyp`ng 'pa`das' everytime you want to use a function from the package. \n",
    "\n",
    "The above can be rewritten as:\n",
    "```\n",
    "import pandas as pd\n",
    "\n",
    "pd.read_csv(.....)\n",
    "\n",
    "#### Exercise\n",
    "Using pandas, read a CSV file and display the first five rows.\n",
    "```\n"
   ]
  },
  {
   "cell_type": "code",
   "execution_count": 4,
   "id": "a74f3b91-f514-4b6a-94ed-2fe736367d2e",
   "metadata": {},
   "outputs": [
    {
     "name": "stdout",
     "output_type": "stream",
     "text": [
      "     id                   name  \\\n",
      "0  3552       Perlino Turkoman   \n",
      "1  3551      Chestnut Turkoman   \n",
      "2  3550         Black Turkoman   \n",
      "3  3549          Grey Turkoman   \n",
      "4  3044  Red Dun Overo Mustang   \n",
      "\n",
      "                                               image     Horse Breed  \\\n",
      "0  https://www.gtabase.com/igallery/7401-7500/res...  Turkoman Horse   \n",
      "1  https://www.gtabase.com/igallery/7401-7500/res...  Turkoman Horse   \n",
      "2  https://www.gtabase.com/igallery/7401-7500/res...  Turkoman Horse   \n",
      "3  https://www.gtabase.com/igallery/7401-7500/res...  Turkoman Horse   \n",
      "4  https://www.gtabase.com/igallery/7201-7300/res...         Mustang   \n",
      "\n",
      "   Horse Class  Handling  Health  Stamina  Speed  Acceleration  Handling.1  \\\n",
      "0  Multi-Class  Standard      70       50     60            50          40   \n",
      "1  Multi-Class  Standard      70       50     60            50          40   \n",
      "2  Multi-Class  Standard      70       50     60            50          40   \n",
      "3  Multi-Class  Standard      70       50     60            50          40   \n",
      "4  Multi-Class  Standard      70       70     60            40          40   \n",
      "\n",
      "  Release Date         Title Update     Game Edition  Overall Rating  \\\n",
      "0   2020-12-22  1.26 Bounty Hunters  Red Dead Online              54   \n",
      "1   2020-12-22  1.26 Bounty Hunters  Red Dead Online              54   \n",
      "2   2020-12-22  1.26 Bounty Hunters  Red Dead Online              54   \n",
      "3   2020-12-22  1.26 Bounty Hunters  Red Dead Online              54   \n",
      "4   2020-12-01  1.26 Bounty Hunters  Red Dead Online              56   \n",
      "\n",
      "   Base Value ($)  Unnamed: 16  Unnamed: 17  Unnamed: 18  \n",
      "0          1000.0          NaN          NaN          NaN  \n",
      "1          1000.0          NaN          NaN          NaN  \n",
      "2          1000.0          NaN          NaN          NaN  \n",
      "3          1000.0          NaN          NaN          NaN  \n",
      "4           500.0          NaN          NaN          NaN  \n"
     ]
    }
   ],
   "source": [
    "import pandas as pd\r\n",
    "data = pd.read_csv('https://raw.githubusercontent.com/wjsutton/games_night_viz/main/challenges/4_the_need_for_speed/rdr2_horses.csv')\r\n",
    "print(data.head())"
   ]
  },
  {
   "cell_type": "code",
   "execution_count": 4,
   "id": "81048a79-5012-4327-8b64-2347c81a4d94",
   "metadata": {},
   "outputs": [],
   "source": [
    "# Exercise 1\n",
    "\n",
    "# Exercise 2 "
   ]
  },
  {
   "cell_type": "markdown",
   "id": "44736fcf-1efb-4b68-9ad4-7e9aa0e4a336",
   "metadata": {},
   "source": [
    "Nbgitpuller link generator:\n",
    "https://nbgitpuller.readthedocs.io/en/latest/link.html\n",
    "\n",
    "Then... \n",
    "https://github.com/stefmolin/pandas-workshop/blob/main/notebooks/2-data_wrangling.ipynb\n",
    "over two days\n",
    "with a \n",
    "Then Preppin data challenge\n",
    "\n",
    "Then...\n",
    "https://github.com/stefmolin/pandas-workshop/blob/37c6e9cca94c29a4c5ffc8be6b241da8fb8ecb53/asynchronous_lab/asynchronous_lab.ipynb#Asynchronous-Session\n",
    "\n",
    "Lists, loops, while loop\n",
    "https://github.com/wesm/pydata-book/tree/3rd-edition?tab=readme-ov-file\n",
    "\n",
    "functions, OOP\n",
    "https://github.com/wesm/pydata-book/tree/3rd-edition?tab=readme-ov-file\n",
    "\n",
    "Dog API: https://dogapi.dog/api/v2/facts?limit=1 (https://dogapi.dog/docs/api-v2)\n",
    "List of Public APIs: https://github.com/public-apis/public-apis?tab=readme-ov-file#animals\n",
    "\n",
    "More content: \n",
    "https://www.learnpythonwithjupyter.com/\n",
    "https://github.com/jvns/pandas-cookbook/tree/master\n",
    "https://github.com/stefmolin/pandas-workshop/tree/main\n",
    "https://github.com/wesm/pydata-book/tree/3rd-edition?tab=readme-ov-file\n"
   ]
  },
  {
   "cell_type": "markdown",
   "id": "9bd267b3-45b2-4813-99d0-a894fd4ef71b",
   "metadata": {},
   "source": [
    "--\n",
    "\n",
    "## Interactive Exercises\n",
    "- **Exercise 1:** Brief description of the first exercise.\n",
    "- **Exercise 2:** Brief description of the second exercise.\n",
    "- **Hint:** Provide hints or tips to help students who might get stuck.\n"
   ]
  },
  {
   "cell_type": "code",
   "execution_count": 5,
   "id": "719e2846-967b-4df7-be77-3dd195989bf4",
   "metadata": {},
   "outputs": [],
   "source": [
    "# code here"
   ]
  },
  {
   "cell_type": "markdown",
   "id": "4914f35f-d2ef-4080-bea4-201d5849723c",
   "metadata": {},
   "source": [
    "-- \n",
    "\n",
    "## Mini Project\n",
    "- **Objective:** Describe the objective of the mini-project.\n",
    "- **Task Description:** Detailed instructions for the project.\n",
    "- **Expected Outcome:** Explain what the successful completion of the project looks like.\n"
   ]
  },
  {
   "cell_type": "code",
   "execution_count": 6,
   "id": "9f2b7ccc-14f2-4e8b-8225-d0272a11f549",
   "metadata": {},
   "outputs": [],
   "source": [
    "# code here"
   ]
  },
  {
   "cell_type": "markdown",
   "id": "536b31a4-3f11-4848-a990-e3d44ab4413e",
   "metadata": {
    "jp-MarkdownHeadingCollapsed": true
   },
   "source": [
    "---\n",
    "\n",
    "## Additional Resources\n",
    "- **Reading Materials:** List of recommended books, articles, or documentation.\n",
    "- **Online Resources:** Links to online tutorials, videos, or courses.\n",
    "\n",
    "## Conclusion\n",
    "- **Summary:** Recap the main points covered in the lesson.\n",
    "- **Next Steps:** Suggest what students should learn next or how they can further practice the skills learned."
   ]
  }
 ],
 "metadata": {
  "kernelspec": {
   "display_name": "Python 3 (ipykernel)",
   "language": "python",
   "name": "python3"
  },
  "language_info": {
   "codemirror_mode": {
    "name": "ipython",
    "version": 3
   },
   "file_extension": ".py",
   "mimetype": "text/x-python",
   "name": "python",
   "nbconvert_exporter": "python",
   "pygments_lexer": "ipython3",
   "version": "3.10.10"
  }
 },
 "nbformat": 4,
 "nbformat_minor": 5
}
