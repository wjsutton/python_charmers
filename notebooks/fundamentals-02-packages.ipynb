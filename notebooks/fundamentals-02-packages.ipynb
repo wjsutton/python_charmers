{
 "cells": [
  {
   "cell_type": "markdown",
   "id": "7c15594d-e56d-4148-9c93-4ab0bb24a268",
   "metadata": {},
   "source": [
    "# Python Charmers \n",
    "\n",
    "## Python Fundamentals Lesson 2: Packages\n",
    "\n",
    "### Lesson Overview\n",
    "- **Objective:** This lesson gets you started with the basics of installing and using packages in Python.\n",
    "- **Source materials:** Original content\n",
    "- **Prerequisites:** [Lesson 1: Variables](./fundamentals-01-variables.ipynb)\n",
    "- **Duration:** 15 mins"
   ]
  },
  {
   "cell_type": "markdown",
   "id": "c873597f-8ed9-4c51-8b0b-5a23d96e80bb",
   "metadata": {},
   "source": [
    "## Python Packages\n",
    "\n",
    "A package in Python is like a toolbox that contains a variety of tools (called functions and modules) which you can use to perform specific tasks more easily and efficiently. \n",
    "\n",
    "These packages are created by other developers and can be installed and used in your own Python programs.\n",
    "\n",
    "For data analysts, packages are particularly useful because they provide specialized tools and functions that are tailored for data analysis tasks. \n",
    "\n",
    "Let's take the example of the **pandas** library/package:\n",
    "- **Data Handling and Manipulation**: Pandas makes it easy to handle and manipulate data. It provides functions to read data from various file formats (like CSV, Excel, etc.), clean data, and transform it into a useful format.\n",
    "- **Data Analysis**: With pandas, you can perform complex data analysis tasks with just a few lines of code. It offers functionalities for grouping data, calculating statistics, and performing aggregations.\n",
    "- **Efficiency**: Writing the code for all these tasks from scratch would be time-consuming and error-prone. Pandas provides a tested and optimized set of functions that can save a lot of time and effort.\n",
    "\n",
    "### Not all packages are installed by default\n",
    "\n",
    "Installing a package using pip.\n",
    "\n",
    "`pip`is the package installer for Python. You can use it to install packages from the Python Package Index (PyPI). \n",
    "\n",
    "Basic command: `pip install package_name`"
   ]
  },
  {
   "cell_type": "code",
   "execution_count": null,
   "id": "6c095c8e-1870-43fa-8f91-2834652609b6",
   "metadata": {},
   "outputs": [],
   "source": [
    "# Exercise 1: Install Pandas via Terminal\n",
    "\n",
    "# Open a Terminal window\n",
    "# - File > New > Terminal\n",
    "\n",
    "# Enter the following command:\n",
    "# pip install pandas\n",
    "\n",
    "# Verify the code below runs successfully and you see some data.\n",
    "# You may need to re-open this notebook for the install to work. "
   ]
  },
  {
   "cell_type": "code",
   "execution_count": 2,
   "id": "eaaf501d-bed6-4bba-872e-fc33caeeee86",
   "metadata": {},
   "outputs": [
    {
     "name": "stdout",
     "output_type": "stream",
     "text": [
      "   vendorid     tpep_pickup_datetime    tpep_dropoff_datetime  \\\n",
      "0         2  2019-10-23T16:39:42.000  2019-10-23T17:14:10.000   \n",
      "1         1  2019-10-23T16:32:08.000  2019-10-23T16:45:26.000   \n",
      "2         2  2019-10-23T16:08:44.000  2019-10-23T16:21:11.000   \n",
      "3         2  2019-10-23T16:22:44.000  2019-10-23T16:43:26.000   \n",
      "4         2  2019-10-23T16:45:11.000  2019-10-23T16:58:49.000   \n",
      "\n",
      "   passenger_count  trip_distance  ratecodeid store_and_fwd_flag  \\\n",
      "0                1           7.93           1                  N   \n",
      "1                1           2.00           1                  N   \n",
      "2                1           1.36           1                  N   \n",
      "3                1           1.00           1                  N   \n",
      "4                1           1.96           1                  N   \n",
      "\n",
      "   pulocationid  dolocationid  payment_type  fare_amount  extra  mta_tax  \\\n",
      "0           138           170             1         29.5    1.0      0.5   \n",
      "1            11            26             1         10.5    1.0      0.5   \n",
      "2           163           162             1          9.5    1.0      0.5   \n",
      "3           170           163             1         13.0    1.0      0.5   \n",
      "4           163           236             1         10.5    1.0      0.5   \n",
      "\n",
      "   tip_amount  tolls_amount  improvement_surcharge  total_amount  \\\n",
      "0        7.98          6.12                    0.3         47.90   \n",
      "1        0.00          0.00                    0.3         12.30   \n",
      "2        2.00          0.00                    0.3         15.80   \n",
      "3        4.32          0.00                    0.3         21.62   \n",
      "4        0.50          0.00                    0.3         15.30   \n",
      "\n",
      "   congestion_surcharge  \n",
      "0                   2.5  \n",
      "1                   0.0  \n",
      "2                   2.5  \n",
      "3                   2.5  \n",
      "4                   2.5  \n"
     ]
    }
   ],
   "source": [
    "import pandas as pd\n",
    "data = pd.read_csv('../data/2019_Yellow_Taxi_Trip_Data.csv')\n",
    "print(data.head())"
   ]
  },
  {
   "cell_type": "markdown",
   "id": "83eb3a41-7b72-4306-ab95-e6e5334e816a",
   "metadata": {},
   "source": [
    "Alternatively you can install packages from the notebook"
   ]
  },
  {
   "cell_type": "code",
   "execution_count": 4,
   "id": "81048a79-5012-4327-8b64-2347c81a4d94",
   "metadata": {},
   "outputs": [],
   "source": [
    "# Exercise 2: Install Numpy via Notebook\n",
    "\n",
    "# The script below will allow you to execute a terminal command here in the notebook\n",
    "#  - sys is part of Python's standard library and provides access to variables used or maintained by the Python interpreter\n",
    "#  - sys.executable holds the path to the Python interpreter that your Jupyter notebook is using\n",
    "#  - '-m' is a flag is used with the Python interpreter to run a 'pip' as a script, i.e to install the package\n",
    "\n",
    "import sys\n",
    "!{sys.executable} -m pip install numpy"
   ]
  },
  {
   "cell_type": "markdown",
   "id": "a3edfbc1-0e5a-4b7f-b3d9-a707aa309ed7",
   "metadata": {},
   "source": [
    "## Package Versions\n",
    "\n",
    "Packages in Python, as in most software, have different versions for several important reasons:\n",
    "\n",
    "- Feature Updates and Improvements\n",
    "- Bug Fixes\n",
    "- Security Updates, and many more\n",
    "\n",
    "Different versions allow users to choose which version best fits their needs. For instance, a user may stick with an older, stable release for a critical application, while another might prefer the latest version for access to the newest features. Managing these versions and understanding the implications of updating (or not updating) is an important aspect of working with Python packages.\n",
    "\n",
    "### Check a Package's Version\n",
    "\n",
    "Python packages often have their version information accessible via a __version__ attribute.\n",
    "To check the version of a package, you first need to import it and then access this attribute."
   ]
  },
  {
   "cell_type": "code",
   "execution_count": 6,
   "id": "719e2846-967b-4df7-be77-3dd195989bf4",
   "metadata": {},
   "outputs": [
    {
     "name": "stdout",
     "output_type": "stream",
     "text": [
      "1.26.2\n"
     ]
    }
   ],
   "source": [
    "# Check Numpy's version\n",
    "import numpy\n",
    "print(numpy.__version__)"
   ]
  },
  {
   "cell_type": "markdown",
   "id": "1462b761-0095-484b-a2c8-311864f75b84",
   "metadata": {},
   "source": [
    "### Downgrading a Package\n",
    "\n",
    "Sometimes, you might need to downgrade a package to ensure compatibility with other packages or specific codebases. To downgrade, specify the package name along with the desired version. For example:\n",
    "\n",
    "pip install package_name==1.23.5"
   ]
  },
  {
   "cell_type": "code",
   "execution_count": null,
   "id": "787ba38b-55a5-4f4e-a6b9-b0ca34aea0df",
   "metadata": {},
   "outputs": [],
   "source": [
    "# Exercise: Downgrade numpy to version 1.18.5\n",
    "# Using:\n",
    "# - Terminal: pip install numpy==1.18.5\n",
    "# - Notebook: "
   ]
  },
  {
   "cell_type": "code",
   "execution_count": null,
   "id": "a1f87b17-beb0-40cb-866f-2a28eb1c037c",
   "metadata": {},
   "outputs": [],
   "source": [
    "import sys\n",
    "!{sys.executable} -m pip install numpy==1.18.\n",
    "# Remember to restart the Jupyter kernel after upgrading to use the updated package."
   ]
  },
  {
   "cell_type": "markdown",
   "id": "698e725a-1f4b-412a-8af2-f33ca445faad",
   "metadata": {},
   "source": [
    "### Upgrading a Package\n",
    "\n",
    "Upgrading a package ensures that you have the latest features and bug fixes. Use pip with the --upgrade flag to update a package. For example: \n",
    "\n",
    "pip install --upgrade package_name"
   ]
  },
  {
   "cell_type": "code",
   "execution_count": null,
   "id": "c9413e8f-2125-4d6e-8c67-e915fd1a6045",
   "metadata": {},
   "outputs": [],
   "source": [
    "# Exercise: Upgrade Numpy to latest version\n",
    "# Either in Terminal or in the script below\n",
    "\n",
    "import sys\n",
    "!{sys.executable} -m [insert your code here]"
   ]
  },
  {
   "cell_type": "markdown",
   "id": "4914f35f-d2ef-4080-bea4-201d5849723c",
   "metadata": {},
   "source": [
    "## Mini Project: Dependency Detective\n",
    "\n",
    "When you install a Python package, such as pandas, it may not work in isolation. It often relies on other packages (dependencies) for its operation. These dependencies are automatically installed along with the package you install. Understanding these dependencies is crucial for:\n",
    "\n",
    "- Compatibility\n",
    "- Debugging\n",
    "- Optimization\n",
    "\n",
    "We can see dependencies using the `requires` function from the `importlib.metadata` package.\n",
    "\n",
    "Pandas and numpy are two common packages for data analysis, can you create a list of all the dependencies? "
   ]
  },
  {
   "cell_type": "code",
   "execution_count": 1,
   "id": "374243e5-0394-46fa-a417-e2f3f372c137",
   "metadata": {},
   "outputs": [],
   "source": [
    "# Import the `requires` function from the `importlib.metadata` package\n",
    "\n",
    "# Create two variables that contain lists of dependencies for pandas and numpy\n",
    "\n",
    "# Combine the dependencies lists\n",
    "\n",
    "# Convert to a set to remove duplicates and then back to a list\n",
    "\n",
    "# Print combined list of unique dependencies\n"
   ]
  },
  {
   "cell_type": "markdown",
   "id": "536b31a4-3f11-4848-a990-e3d44ab4413e",
   "metadata": {
    "jp-MarkdownHeadingCollapsed": true
   },
   "source": [
    "## Additional Resources\n",
    "- 📰 **PyPi** - Python Package Index https://pypi.org/\n",
    "- 📰 **PyPi** Installing Packages https://packaging.python.org/en/latest/tutorials/installing-packages/\n",
    "- 📺 **Core Electronics** Python Workshop - Installing Packages https://www.youtube.com/watch?v=SrX5yo4KKGM\n",
    "\n",
    "## Summary\n",
    "\n",
    "Packages in Python allow you to perform a whole range of tasks using a few premade functions. The knowledge gained here will be repeated as we build scripts in Python. \n",
    "\n",
    "Remember, the world of Python packages is ever-evolving, with new packages and updates being released regularly. Staying informed of new package release to increase your capabilities with Python.\n",
    "\n",
    "## Next Lesson\n",
    "\n",
    "**[Lesson 3: Data Wrangling](./fundamentals-03-data_wrangling-p1.ipynb)** \n",
    "In this lesson we'll be working with pandas and numpy to read, write and manipulate datasets."
   ]
  }
 ],
 "metadata": {
  "kernelspec": {
   "display_name": "Python 3 (ipykernel)",
   "language": "python",
   "name": "python3"
  },
  "language_info": {
   "codemirror_mode": {
    "name": "ipython",
    "version": 3
   },
   "file_extension": ".py",
   "mimetype": "text/x-python",
   "name": "python",
   "nbconvert_exporter": "python",
   "pygments_lexer": "ipython3",
   "version": "3.10.10"
  }
 },
 "nbformat": 4,
 "nbformat_minor": 5
}
